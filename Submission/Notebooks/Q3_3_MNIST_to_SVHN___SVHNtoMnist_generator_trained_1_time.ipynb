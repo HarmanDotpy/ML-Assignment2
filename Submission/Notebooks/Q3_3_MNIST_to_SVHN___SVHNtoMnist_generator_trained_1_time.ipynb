{
  "nbformat": 4,
  "nbformat_minor": 0,
  "metadata": {
    "colab": {
      "name": "Q3.3 MNIST to SVHN___SVHNtoMnist_generator_trained_1_time.ipynb",
      "provenance": [],
      "collapsed_sections": [],
      "toc_visible": true,
      "authorship_tag": "ABX9TyPqOjPOdVf4ZVgcD0Yx6RSk",
      "include_colab_link": true
    },
    "kernelspec": {
      "name": "python3",
      "display_name": "Python 3"
    },
    "accelerator": "GPU",
    "widgets": {
      "application/vnd.jupyter.widget-state+json": {
        "4d1aaae1434e4444b8173ad1b0f1844d": {
          "model_module": "@jupyter-widgets/controls",
          "model_name": "HBoxModel",
          "state": {
            "_view_name": "HBoxView",
            "_dom_classes": [],
            "_model_name": "HBoxModel",
            "_view_module": "@jupyter-widgets/controls",
            "_model_module_version": "1.5.0",
            "_view_count": null,
            "_view_module_version": "1.5.0",
            "box_style": "",
            "layout": "IPY_MODEL_39ea0586d9c246ac839608a5e0e95c94",
            "_model_module": "@jupyter-widgets/controls",
            "children": [
              "IPY_MODEL_81f5484b058e42c0af100e52edb554ab",
              "IPY_MODEL_a14fe2fc90414fbc9b9617b9379f7cc0"
            ]
          }
        },
        "39ea0586d9c246ac839608a5e0e95c94": {
          "model_module": "@jupyter-widgets/base",
          "model_name": "LayoutModel",
          "state": {
            "_view_name": "LayoutView",
            "grid_template_rows": null,
            "right": null,
            "justify_content": null,
            "_view_module": "@jupyter-widgets/base",
            "overflow": null,
            "_model_module_version": "1.2.0",
            "_view_count": null,
            "flex_flow": null,
            "width": null,
            "min_width": null,
            "border": null,
            "align_items": null,
            "bottom": null,
            "_model_module": "@jupyter-widgets/base",
            "top": null,
            "grid_column": null,
            "overflow_y": null,
            "overflow_x": null,
            "grid_auto_flow": null,
            "grid_area": null,
            "grid_template_columns": null,
            "flex": null,
            "_model_name": "LayoutModel",
            "justify_items": null,
            "grid_row": null,
            "max_height": null,
            "align_content": null,
            "visibility": null,
            "align_self": null,
            "height": null,
            "min_height": null,
            "padding": null,
            "grid_auto_rows": null,
            "grid_gap": null,
            "max_width": null,
            "order": null,
            "_view_module_version": "1.2.0",
            "grid_template_areas": null,
            "object_position": null,
            "object_fit": null,
            "grid_auto_columns": null,
            "margin": null,
            "display": null,
            "left": null
          }
        },
        "81f5484b058e42c0af100e52edb554ab": {
          "model_module": "@jupyter-widgets/controls",
          "model_name": "FloatProgressModel",
          "state": {
            "_view_name": "ProgressView",
            "style": "IPY_MODEL_865063dd4d6b4f6f98bcc8398bd8f924",
            "_dom_classes": [],
            "description": "",
            "_model_name": "FloatProgressModel",
            "bar_style": "info",
            "max": 1,
            "_view_module": "@jupyter-widgets/controls",
            "_model_module_version": "1.5.0",
            "value": 1,
            "_view_count": null,
            "_view_module_version": "1.5.0",
            "orientation": "horizontal",
            "min": 0,
            "description_tooltip": null,
            "_model_module": "@jupyter-widgets/controls",
            "layout": "IPY_MODEL_fc18ecf55b8e4598ab3ca68d5d188003"
          }
        },
        "a14fe2fc90414fbc9b9617b9379f7cc0": {
          "model_module": "@jupyter-widgets/controls",
          "model_name": "HTMLModel",
          "state": {
            "_view_name": "HTMLView",
            "style": "IPY_MODEL_b85de8b8679d4c78b78d23ae5eb28656",
            "_dom_classes": [],
            "description": "",
            "_model_name": "HTMLModel",
            "placeholder": "​",
            "_view_module": "@jupyter-widgets/controls",
            "_model_module_version": "1.5.0",
            "value": " 64282624/? [00:20&lt;00:00, 36406177.87it/s]",
            "_view_count": null,
            "_view_module_version": "1.5.0",
            "description_tooltip": null,
            "_model_module": "@jupyter-widgets/controls",
            "layout": "IPY_MODEL_3014fdd830794fbbb7812c185267a945"
          }
        },
        "865063dd4d6b4f6f98bcc8398bd8f924": {
          "model_module": "@jupyter-widgets/controls",
          "model_name": "ProgressStyleModel",
          "state": {
            "_view_name": "StyleView",
            "_model_name": "ProgressStyleModel",
            "description_width": "initial",
            "_view_module": "@jupyter-widgets/base",
            "_model_module_version": "1.5.0",
            "_view_count": null,
            "_view_module_version": "1.2.0",
            "bar_color": null,
            "_model_module": "@jupyter-widgets/controls"
          }
        },
        "fc18ecf55b8e4598ab3ca68d5d188003": {
          "model_module": "@jupyter-widgets/base",
          "model_name": "LayoutModel",
          "state": {
            "_view_name": "LayoutView",
            "grid_template_rows": null,
            "right": null,
            "justify_content": null,
            "_view_module": "@jupyter-widgets/base",
            "overflow": null,
            "_model_module_version": "1.2.0",
            "_view_count": null,
            "flex_flow": null,
            "width": null,
            "min_width": null,
            "border": null,
            "align_items": null,
            "bottom": null,
            "_model_module": "@jupyter-widgets/base",
            "top": null,
            "grid_column": null,
            "overflow_y": null,
            "overflow_x": null,
            "grid_auto_flow": null,
            "grid_area": null,
            "grid_template_columns": null,
            "flex": null,
            "_model_name": "LayoutModel",
            "justify_items": null,
            "grid_row": null,
            "max_height": null,
            "align_content": null,
            "visibility": null,
            "align_self": null,
            "height": null,
            "min_height": null,
            "padding": null,
            "grid_auto_rows": null,
            "grid_gap": null,
            "max_width": null,
            "order": null,
            "_view_module_version": "1.2.0",
            "grid_template_areas": null,
            "object_position": null,
            "object_fit": null,
            "grid_auto_columns": null,
            "margin": null,
            "display": null,
            "left": null
          }
        },
        "b85de8b8679d4c78b78d23ae5eb28656": {
          "model_module": "@jupyter-widgets/controls",
          "model_name": "DescriptionStyleModel",
          "state": {
            "_view_name": "StyleView",
            "_model_name": "DescriptionStyleModel",
            "description_width": "",
            "_view_module": "@jupyter-widgets/base",
            "_model_module_version": "1.5.0",
            "_view_count": null,
            "_view_module_version": "1.2.0",
            "_model_module": "@jupyter-widgets/controls"
          }
        },
        "3014fdd830794fbbb7812c185267a945": {
          "model_module": "@jupyter-widgets/base",
          "model_name": "LayoutModel",
          "state": {
            "_view_name": "LayoutView",
            "grid_template_rows": null,
            "right": null,
            "justify_content": null,
            "_view_module": "@jupyter-widgets/base",
            "overflow": null,
            "_model_module_version": "1.2.0",
            "_view_count": null,
            "flex_flow": null,
            "width": null,
            "min_width": null,
            "border": null,
            "align_items": null,
            "bottom": null,
            "_model_module": "@jupyter-widgets/base",
            "top": null,
            "grid_column": null,
            "overflow_y": null,
            "overflow_x": null,
            "grid_auto_flow": null,
            "grid_area": null,
            "grid_template_columns": null,
            "flex": null,
            "_model_name": "LayoutModel",
            "justify_items": null,
            "grid_row": null,
            "max_height": null,
            "align_content": null,
            "visibility": null,
            "align_self": null,
            "height": null,
            "min_height": null,
            "padding": null,
            "grid_auto_rows": null,
            "grid_gap": null,
            "max_width": null,
            "order": null,
            "_view_module_version": "1.2.0",
            "grid_template_areas": null,
            "object_position": null,
            "object_fit": null,
            "grid_auto_columns": null,
            "margin": null,
            "display": null,
            "left": null
          }
        },
        "1ecf97ef1640461b93ee476f514ff35c": {
          "model_module": "@jupyter-widgets/controls",
          "model_name": "HBoxModel",
          "state": {
            "_view_name": "HBoxView",
            "_dom_classes": [],
            "_model_name": "HBoxModel",
            "_view_module": "@jupyter-widgets/controls",
            "_model_module_version": "1.5.0",
            "_view_count": null,
            "_view_module_version": "1.5.0",
            "box_style": "",
            "layout": "IPY_MODEL_496b687cd75d4e6d835f1f6f1cac499d",
            "_model_module": "@jupyter-widgets/controls",
            "children": [
              "IPY_MODEL_2a611ae4395e4f7398bc8e1068e94a8d",
              "IPY_MODEL_f205dac98ddc42eabc5f05e12e451e93"
            ]
          }
        },
        "496b687cd75d4e6d835f1f6f1cac499d": {
          "model_module": "@jupyter-widgets/base",
          "model_name": "LayoutModel",
          "state": {
            "_view_name": "LayoutView",
            "grid_template_rows": null,
            "right": null,
            "justify_content": null,
            "_view_module": "@jupyter-widgets/base",
            "overflow": null,
            "_model_module_version": "1.2.0",
            "_view_count": null,
            "flex_flow": null,
            "width": null,
            "min_width": null,
            "border": null,
            "align_items": null,
            "bottom": null,
            "_model_module": "@jupyter-widgets/base",
            "top": null,
            "grid_column": null,
            "overflow_y": null,
            "overflow_x": null,
            "grid_auto_flow": null,
            "grid_area": null,
            "grid_template_columns": null,
            "flex": null,
            "_model_name": "LayoutModel",
            "justify_items": null,
            "grid_row": null,
            "max_height": null,
            "align_content": null,
            "visibility": null,
            "align_self": null,
            "height": null,
            "min_height": null,
            "padding": null,
            "grid_auto_rows": null,
            "grid_gap": null,
            "max_width": null,
            "order": null,
            "_view_module_version": "1.2.0",
            "grid_template_areas": null,
            "object_position": null,
            "object_fit": null,
            "grid_auto_columns": null,
            "margin": null,
            "display": null,
            "left": null
          }
        },
        "2a611ae4395e4f7398bc8e1068e94a8d": {
          "model_module": "@jupyter-widgets/controls",
          "model_name": "FloatProgressModel",
          "state": {
            "_view_name": "ProgressView",
            "style": "IPY_MODEL_523ff74244e842de84ae920daadb3104",
            "_dom_classes": [],
            "description": "",
            "_model_name": "FloatProgressModel",
            "bar_style": "success",
            "max": 1,
            "_view_module": "@jupyter-widgets/controls",
            "_model_module_version": "1.5.0",
            "value": 1,
            "_view_count": null,
            "_view_module_version": "1.5.0",
            "orientation": "horizontal",
            "min": 0,
            "description_tooltip": null,
            "_model_module": "@jupyter-widgets/controls",
            "layout": "IPY_MODEL_b51bd007328a4eb0a6464d9c3dfd0cf9"
          }
        },
        "f205dac98ddc42eabc5f05e12e451e93": {
          "model_module": "@jupyter-widgets/controls",
          "model_name": "HTMLModel",
          "state": {
            "_view_name": "HTMLView",
            "style": "IPY_MODEL_261ac3e449b844459170a653daa64aeb",
            "_dom_classes": [],
            "description": "",
            "_model_name": "HTMLModel",
            "placeholder": "​",
            "_view_module": "@jupyter-widgets/controls",
            "_model_module_version": "1.5.0",
            "value": " 9920512/? [00:02&lt;00:00, 4479862.91it/s]",
            "_view_count": null,
            "_view_module_version": "1.5.0",
            "description_tooltip": null,
            "_model_module": "@jupyter-widgets/controls",
            "layout": "IPY_MODEL_b2a3ab954986402fb6a5bb1b20c670a3"
          }
        },
        "523ff74244e842de84ae920daadb3104": {
          "model_module": "@jupyter-widgets/controls",
          "model_name": "ProgressStyleModel",
          "state": {
            "_view_name": "StyleView",
            "_model_name": "ProgressStyleModel",
            "description_width": "initial",
            "_view_module": "@jupyter-widgets/base",
            "_model_module_version": "1.5.0",
            "_view_count": null,
            "_view_module_version": "1.2.0",
            "bar_color": null,
            "_model_module": "@jupyter-widgets/controls"
          }
        },
        "b51bd007328a4eb0a6464d9c3dfd0cf9": {
          "model_module": "@jupyter-widgets/base",
          "model_name": "LayoutModel",
          "state": {
            "_view_name": "LayoutView",
            "grid_template_rows": null,
            "right": null,
            "justify_content": null,
            "_view_module": "@jupyter-widgets/base",
            "overflow": null,
            "_model_module_version": "1.2.0",
            "_view_count": null,
            "flex_flow": null,
            "width": null,
            "min_width": null,
            "border": null,
            "align_items": null,
            "bottom": null,
            "_model_module": "@jupyter-widgets/base",
            "top": null,
            "grid_column": null,
            "overflow_y": null,
            "overflow_x": null,
            "grid_auto_flow": null,
            "grid_area": null,
            "grid_template_columns": null,
            "flex": null,
            "_model_name": "LayoutModel",
            "justify_items": null,
            "grid_row": null,
            "max_height": null,
            "align_content": null,
            "visibility": null,
            "align_self": null,
            "height": null,
            "min_height": null,
            "padding": null,
            "grid_auto_rows": null,
            "grid_gap": null,
            "max_width": null,
            "order": null,
            "_view_module_version": "1.2.0",
            "grid_template_areas": null,
            "object_position": null,
            "object_fit": null,
            "grid_auto_columns": null,
            "margin": null,
            "display": null,
            "left": null
          }
        },
        "261ac3e449b844459170a653daa64aeb": {
          "model_module": "@jupyter-widgets/controls",
          "model_name": "DescriptionStyleModel",
          "state": {
            "_view_name": "StyleView",
            "_model_name": "DescriptionStyleModel",
            "description_width": "",
            "_view_module": "@jupyter-widgets/base",
            "_model_module_version": "1.5.0",
            "_view_count": null,
            "_view_module_version": "1.2.0",
            "_model_module": "@jupyter-widgets/controls"
          }
        },
        "b2a3ab954986402fb6a5bb1b20c670a3": {
          "model_module": "@jupyter-widgets/base",
          "model_name": "LayoutModel",
          "state": {
            "_view_name": "LayoutView",
            "grid_template_rows": null,
            "right": null,
            "justify_content": null,
            "_view_module": "@jupyter-widgets/base",
            "overflow": null,
            "_model_module_version": "1.2.0",
            "_view_count": null,
            "flex_flow": null,
            "width": null,
            "min_width": null,
            "border": null,
            "align_items": null,
            "bottom": null,
            "_model_module": "@jupyter-widgets/base",
            "top": null,
            "grid_column": null,
            "overflow_y": null,
            "overflow_x": null,
            "grid_auto_flow": null,
            "grid_area": null,
            "grid_template_columns": null,
            "flex": null,
            "_model_name": "LayoutModel",
            "justify_items": null,
            "grid_row": null,
            "max_height": null,
            "align_content": null,
            "visibility": null,
            "align_self": null,
            "height": null,
            "min_height": null,
            "padding": null,
            "grid_auto_rows": null,
            "grid_gap": null,
            "max_width": null,
            "order": null,
            "_view_module_version": "1.2.0",
            "grid_template_areas": null,
            "object_position": null,
            "object_fit": null,
            "grid_auto_columns": null,
            "margin": null,
            "display": null,
            "left": null
          }
        },
        "78e080308f5d4ba6866e784e4f7c1f5f": {
          "model_module": "@jupyter-widgets/controls",
          "model_name": "HBoxModel",
          "state": {
            "_view_name": "HBoxView",
            "_dom_classes": [],
            "_model_name": "HBoxModel",
            "_view_module": "@jupyter-widgets/controls",
            "_model_module_version": "1.5.0",
            "_view_count": null,
            "_view_module_version": "1.5.0",
            "box_style": "",
            "layout": "IPY_MODEL_d9aaed723f4d4c96a6f928d442e80263",
            "_model_module": "@jupyter-widgets/controls",
            "children": [
              "IPY_MODEL_7497b19bfac8429dac537840f7423942",
              "IPY_MODEL_2c046e44c39d462abbf88c4036fd0f47"
            ]
          }
        },
        "d9aaed723f4d4c96a6f928d442e80263": {
          "model_module": "@jupyter-widgets/base",
          "model_name": "LayoutModel",
          "state": {
            "_view_name": "LayoutView",
            "grid_template_rows": null,
            "right": null,
            "justify_content": null,
            "_view_module": "@jupyter-widgets/base",
            "overflow": null,
            "_model_module_version": "1.2.0",
            "_view_count": null,
            "flex_flow": null,
            "width": null,
            "min_width": null,
            "border": null,
            "align_items": null,
            "bottom": null,
            "_model_module": "@jupyter-widgets/base",
            "top": null,
            "grid_column": null,
            "overflow_y": null,
            "overflow_x": null,
            "grid_auto_flow": null,
            "grid_area": null,
            "grid_template_columns": null,
            "flex": null,
            "_model_name": "LayoutModel",
            "justify_items": null,
            "grid_row": null,
            "max_height": null,
            "align_content": null,
            "visibility": null,
            "align_self": null,
            "height": null,
            "min_height": null,
            "padding": null,
            "grid_auto_rows": null,
            "grid_gap": null,
            "max_width": null,
            "order": null,
            "_view_module_version": "1.2.0",
            "grid_template_areas": null,
            "object_position": null,
            "object_fit": null,
            "grid_auto_columns": null,
            "margin": null,
            "display": null,
            "left": null
          }
        },
        "7497b19bfac8429dac537840f7423942": {
          "model_module": "@jupyter-widgets/controls",
          "model_name": "FloatProgressModel",
          "state": {
            "_view_name": "ProgressView",
            "style": "IPY_MODEL_6f58fe8049814f199d6cd5af9c9457cc",
            "_dom_classes": [],
            "description": "",
            "_model_name": "FloatProgressModel",
            "bar_style": "success",
            "max": 1,
            "_view_module": "@jupyter-widgets/controls",
            "_model_module_version": "1.5.0",
            "value": 1,
            "_view_count": null,
            "_view_module_version": "1.5.0",
            "orientation": "horizontal",
            "min": 0,
            "description_tooltip": null,
            "_model_module": "@jupyter-widgets/controls",
            "layout": "IPY_MODEL_4334865f784840c79bb9eaf907de2ffe"
          }
        },
        "2c046e44c39d462abbf88c4036fd0f47": {
          "model_module": "@jupyter-widgets/controls",
          "model_name": "HTMLModel",
          "state": {
            "_view_name": "HTMLView",
            "style": "IPY_MODEL_459a4fffecf04ce097d03aa4e569e8e6",
            "_dom_classes": [],
            "description": "",
            "_model_name": "HTMLModel",
            "placeholder": "​",
            "_view_module": "@jupyter-widgets/controls",
            "_model_module_version": "1.5.0",
            "value": " 32768/? [00:00&lt;00:00, 37283.59it/s]",
            "_view_count": null,
            "_view_module_version": "1.5.0",
            "description_tooltip": null,
            "_model_module": "@jupyter-widgets/controls",
            "layout": "IPY_MODEL_41bcdd897c2349d7aa9138ef7e0141f0"
          }
        },
        "6f58fe8049814f199d6cd5af9c9457cc": {
          "model_module": "@jupyter-widgets/controls",
          "model_name": "ProgressStyleModel",
          "state": {
            "_view_name": "StyleView",
            "_model_name": "ProgressStyleModel",
            "description_width": "initial",
            "_view_module": "@jupyter-widgets/base",
            "_model_module_version": "1.5.0",
            "_view_count": null,
            "_view_module_version": "1.2.0",
            "bar_color": null,
            "_model_module": "@jupyter-widgets/controls"
          }
        },
        "4334865f784840c79bb9eaf907de2ffe": {
          "model_module": "@jupyter-widgets/base",
          "model_name": "LayoutModel",
          "state": {
            "_view_name": "LayoutView",
            "grid_template_rows": null,
            "right": null,
            "justify_content": null,
            "_view_module": "@jupyter-widgets/base",
            "overflow": null,
            "_model_module_version": "1.2.0",
            "_view_count": null,
            "flex_flow": null,
            "width": null,
            "min_width": null,
            "border": null,
            "align_items": null,
            "bottom": null,
            "_model_module": "@jupyter-widgets/base",
            "top": null,
            "grid_column": null,
            "overflow_y": null,
            "overflow_x": null,
            "grid_auto_flow": null,
            "grid_area": null,
            "grid_template_columns": null,
            "flex": null,
            "_model_name": "LayoutModel",
            "justify_items": null,
            "grid_row": null,
            "max_height": null,
            "align_content": null,
            "visibility": null,
            "align_self": null,
            "height": null,
            "min_height": null,
            "padding": null,
            "grid_auto_rows": null,
            "grid_gap": null,
            "max_width": null,
            "order": null,
            "_view_module_version": "1.2.0",
            "grid_template_areas": null,
            "object_position": null,
            "object_fit": null,
            "grid_auto_columns": null,
            "margin": null,
            "display": null,
            "left": null
          }
        },
        "459a4fffecf04ce097d03aa4e569e8e6": {
          "model_module": "@jupyter-widgets/controls",
          "model_name": "DescriptionStyleModel",
          "state": {
            "_view_name": "StyleView",
            "_model_name": "DescriptionStyleModel",
            "description_width": "",
            "_view_module": "@jupyter-widgets/base",
            "_model_module_version": "1.5.0",
            "_view_count": null,
            "_view_module_version": "1.2.0",
            "_model_module": "@jupyter-widgets/controls"
          }
        },
        "41bcdd897c2349d7aa9138ef7e0141f0": {
          "model_module": "@jupyter-widgets/base",
          "model_name": "LayoutModel",
          "state": {
            "_view_name": "LayoutView",
            "grid_template_rows": null,
            "right": null,
            "justify_content": null,
            "_view_module": "@jupyter-widgets/base",
            "overflow": null,
            "_model_module_version": "1.2.0",
            "_view_count": null,
            "flex_flow": null,
            "width": null,
            "min_width": null,
            "border": null,
            "align_items": null,
            "bottom": null,
            "_model_module": "@jupyter-widgets/base",
            "top": null,
            "grid_column": null,
            "overflow_y": null,
            "overflow_x": null,
            "grid_auto_flow": null,
            "grid_area": null,
            "grid_template_columns": null,
            "flex": null,
            "_model_name": "LayoutModel",
            "justify_items": null,
            "grid_row": null,
            "max_height": null,
            "align_content": null,
            "visibility": null,
            "align_self": null,
            "height": null,
            "min_height": null,
            "padding": null,
            "grid_auto_rows": null,
            "grid_gap": null,
            "max_width": null,
            "order": null,
            "_view_module_version": "1.2.0",
            "grid_template_areas": null,
            "object_position": null,
            "object_fit": null,
            "grid_auto_columns": null,
            "margin": null,
            "display": null,
            "left": null
          }
        },
        "c786f6aa1c7843f1b12b24dcc89e33ce": {
          "model_module": "@jupyter-widgets/controls",
          "model_name": "HBoxModel",
          "state": {
            "_view_name": "HBoxView",
            "_dom_classes": [],
            "_model_name": "HBoxModel",
            "_view_module": "@jupyter-widgets/controls",
            "_model_module_version": "1.5.0",
            "_view_count": null,
            "_view_module_version": "1.5.0",
            "box_style": "",
            "layout": "IPY_MODEL_49bd5c3621b54e6daf9f723cd20bc33c",
            "_model_module": "@jupyter-widgets/controls",
            "children": [
              "IPY_MODEL_dcd03edaed5549aeb53c2d44900110f6",
              "IPY_MODEL_434755de88254330986e575e7a066346"
            ]
          }
        },
        "49bd5c3621b54e6daf9f723cd20bc33c": {
          "model_module": "@jupyter-widgets/base",
          "model_name": "LayoutModel",
          "state": {
            "_view_name": "LayoutView",
            "grid_template_rows": null,
            "right": null,
            "justify_content": null,
            "_view_module": "@jupyter-widgets/base",
            "overflow": null,
            "_model_module_version": "1.2.0",
            "_view_count": null,
            "flex_flow": null,
            "width": null,
            "min_width": null,
            "border": null,
            "align_items": null,
            "bottom": null,
            "_model_module": "@jupyter-widgets/base",
            "top": null,
            "grid_column": null,
            "overflow_y": null,
            "overflow_x": null,
            "grid_auto_flow": null,
            "grid_area": null,
            "grid_template_columns": null,
            "flex": null,
            "_model_name": "LayoutModel",
            "justify_items": null,
            "grid_row": null,
            "max_height": null,
            "align_content": null,
            "visibility": null,
            "align_self": null,
            "height": null,
            "min_height": null,
            "padding": null,
            "grid_auto_rows": null,
            "grid_gap": null,
            "max_width": null,
            "order": null,
            "_view_module_version": "1.2.0",
            "grid_template_areas": null,
            "object_position": null,
            "object_fit": null,
            "grid_auto_columns": null,
            "margin": null,
            "display": null,
            "left": null
          }
        },
        "dcd03edaed5549aeb53c2d44900110f6": {
          "model_module": "@jupyter-widgets/controls",
          "model_name": "FloatProgressModel",
          "state": {
            "_view_name": "ProgressView",
            "style": "IPY_MODEL_7510bc426ec2490c9584a181aa92b9af",
            "_dom_classes": [],
            "description": "",
            "_model_name": "FloatProgressModel",
            "bar_style": "success",
            "max": 1,
            "_view_module": "@jupyter-widgets/controls",
            "_model_module_version": "1.5.0",
            "value": 1,
            "_view_count": null,
            "_view_module_version": "1.5.0",
            "orientation": "horizontal",
            "min": 0,
            "description_tooltip": null,
            "_model_module": "@jupyter-widgets/controls",
            "layout": "IPY_MODEL_4c723ae8cf8a44549182933d0af5e1fe"
          }
        },
        "434755de88254330986e575e7a066346": {
          "model_module": "@jupyter-widgets/controls",
          "model_name": "HTMLModel",
          "state": {
            "_view_name": "HTMLView",
            "style": "IPY_MODEL_703f04dede9243b3ac77c29f2de1750f",
            "_dom_classes": [],
            "description": "",
            "_model_name": "HTMLModel",
            "placeholder": "​",
            "_view_module": "@jupyter-widgets/controls",
            "_model_module_version": "1.5.0",
            "value": " 1654784/? [00:00&lt;00:00, 2743500.68it/s]",
            "_view_count": null,
            "_view_module_version": "1.5.0",
            "description_tooltip": null,
            "_model_module": "@jupyter-widgets/controls",
            "layout": "IPY_MODEL_d7b2f560c985479f93eb5c797cc55cfd"
          }
        },
        "7510bc426ec2490c9584a181aa92b9af": {
          "model_module": "@jupyter-widgets/controls",
          "model_name": "ProgressStyleModel",
          "state": {
            "_view_name": "StyleView",
            "_model_name": "ProgressStyleModel",
            "description_width": "initial",
            "_view_module": "@jupyter-widgets/base",
            "_model_module_version": "1.5.0",
            "_view_count": null,
            "_view_module_version": "1.2.0",
            "bar_color": null,
            "_model_module": "@jupyter-widgets/controls"
          }
        },
        "4c723ae8cf8a44549182933d0af5e1fe": {
          "model_module": "@jupyter-widgets/base",
          "model_name": "LayoutModel",
          "state": {
            "_view_name": "LayoutView",
            "grid_template_rows": null,
            "right": null,
            "justify_content": null,
            "_view_module": "@jupyter-widgets/base",
            "overflow": null,
            "_model_module_version": "1.2.0",
            "_view_count": null,
            "flex_flow": null,
            "width": null,
            "min_width": null,
            "border": null,
            "align_items": null,
            "bottom": null,
            "_model_module": "@jupyter-widgets/base",
            "top": null,
            "grid_column": null,
            "overflow_y": null,
            "overflow_x": null,
            "grid_auto_flow": null,
            "grid_area": null,
            "grid_template_columns": null,
            "flex": null,
            "_model_name": "LayoutModel",
            "justify_items": null,
            "grid_row": null,
            "max_height": null,
            "align_content": null,
            "visibility": null,
            "align_self": null,
            "height": null,
            "min_height": null,
            "padding": null,
            "grid_auto_rows": null,
            "grid_gap": null,
            "max_width": null,
            "order": null,
            "_view_module_version": "1.2.0",
            "grid_template_areas": null,
            "object_position": null,
            "object_fit": null,
            "grid_auto_columns": null,
            "margin": null,
            "display": null,
            "left": null
          }
        },
        "703f04dede9243b3ac77c29f2de1750f": {
          "model_module": "@jupyter-widgets/controls",
          "model_name": "DescriptionStyleModel",
          "state": {
            "_view_name": "StyleView",
            "_model_name": "DescriptionStyleModel",
            "description_width": "",
            "_view_module": "@jupyter-widgets/base",
            "_model_module_version": "1.5.0",
            "_view_count": null,
            "_view_module_version": "1.2.0",
            "_model_module": "@jupyter-widgets/controls"
          }
        },
        "d7b2f560c985479f93eb5c797cc55cfd": {
          "model_module": "@jupyter-widgets/base",
          "model_name": "LayoutModel",
          "state": {
            "_view_name": "LayoutView",
            "grid_template_rows": null,
            "right": null,
            "justify_content": null,
            "_view_module": "@jupyter-widgets/base",
            "overflow": null,
            "_model_module_version": "1.2.0",
            "_view_count": null,
            "flex_flow": null,
            "width": null,
            "min_width": null,
            "border": null,
            "align_items": null,
            "bottom": null,
            "_model_module": "@jupyter-widgets/base",
            "top": null,
            "grid_column": null,
            "overflow_y": null,
            "overflow_x": null,
            "grid_auto_flow": null,
            "grid_area": null,
            "grid_template_columns": null,
            "flex": null,
            "_model_name": "LayoutModel",
            "justify_items": null,
            "grid_row": null,
            "max_height": null,
            "align_content": null,
            "visibility": null,
            "align_self": null,
            "height": null,
            "min_height": null,
            "padding": null,
            "grid_auto_rows": null,
            "grid_gap": null,
            "max_width": null,
            "order": null,
            "_view_module_version": "1.2.0",
            "grid_template_areas": null,
            "object_position": null,
            "object_fit": null,
            "grid_auto_columns": null,
            "margin": null,
            "display": null,
            "left": null
          }
        },
        "ac91670b965d4b7da8242d17b21ff71f": {
          "model_module": "@jupyter-widgets/controls",
          "model_name": "HBoxModel",
          "state": {
            "_view_name": "HBoxView",
            "_dom_classes": [],
            "_model_name": "HBoxModel",
            "_view_module": "@jupyter-widgets/controls",
            "_model_module_version": "1.5.0",
            "_view_count": null,
            "_view_module_version": "1.5.0",
            "box_style": "",
            "layout": "IPY_MODEL_991f13333e4c43baa19787df6a359deb",
            "_model_module": "@jupyter-widgets/controls",
            "children": [
              "IPY_MODEL_8ad7e5e794a649268dddc6d5cf95f42e",
              "IPY_MODEL_ce28b51c255f4034936634b99f9fd325"
            ]
          }
        },
        "991f13333e4c43baa19787df6a359deb": {
          "model_module": "@jupyter-widgets/base",
          "model_name": "LayoutModel",
          "state": {
            "_view_name": "LayoutView",
            "grid_template_rows": null,
            "right": null,
            "justify_content": null,
            "_view_module": "@jupyter-widgets/base",
            "overflow": null,
            "_model_module_version": "1.2.0",
            "_view_count": null,
            "flex_flow": null,
            "width": null,
            "min_width": null,
            "border": null,
            "align_items": null,
            "bottom": null,
            "_model_module": "@jupyter-widgets/base",
            "top": null,
            "grid_column": null,
            "overflow_y": null,
            "overflow_x": null,
            "grid_auto_flow": null,
            "grid_area": null,
            "grid_template_columns": null,
            "flex": null,
            "_model_name": "LayoutModel",
            "justify_items": null,
            "grid_row": null,
            "max_height": null,
            "align_content": null,
            "visibility": null,
            "align_self": null,
            "height": null,
            "min_height": null,
            "padding": null,
            "grid_auto_rows": null,
            "grid_gap": null,
            "max_width": null,
            "order": null,
            "_view_module_version": "1.2.0",
            "grid_template_areas": null,
            "object_position": null,
            "object_fit": null,
            "grid_auto_columns": null,
            "margin": null,
            "display": null,
            "left": null
          }
        },
        "8ad7e5e794a649268dddc6d5cf95f42e": {
          "model_module": "@jupyter-widgets/controls",
          "model_name": "FloatProgressModel",
          "state": {
            "_view_name": "ProgressView",
            "style": "IPY_MODEL_3a9abdd5c7b04ab4acd2192556ef384e",
            "_dom_classes": [],
            "description": "  0%",
            "_model_name": "FloatProgressModel",
            "bar_style": "info",
            "max": 1,
            "_view_module": "@jupyter-widgets/controls",
            "_model_module_version": "1.5.0",
            "value": 0,
            "_view_count": null,
            "_view_module_version": "1.5.0",
            "orientation": "horizontal",
            "min": 0,
            "description_tooltip": null,
            "_model_module": "@jupyter-widgets/controls",
            "layout": "IPY_MODEL_878fa01433714704ac60dc105d8d7bea"
          }
        },
        "ce28b51c255f4034936634b99f9fd325": {
          "model_module": "@jupyter-widgets/controls",
          "model_name": "HTMLModel",
          "state": {
            "_view_name": "HTMLView",
            "style": "IPY_MODEL_a6c3926a2a294023ae77aef41cb050c3",
            "_dom_classes": [],
            "description": "",
            "_model_name": "HTMLModel",
            "placeholder": "​",
            "_view_module": "@jupyter-widgets/controls",
            "_model_module_version": "1.5.0",
            "value": " 0/4542 [00:00&lt;?, ?it/s]",
            "_view_count": null,
            "_view_module_version": "1.5.0",
            "description_tooltip": null,
            "_model_module": "@jupyter-widgets/controls",
            "layout": "IPY_MODEL_eb50609d3f244a2997e0592e944a94a6"
          }
        },
        "3a9abdd5c7b04ab4acd2192556ef384e": {
          "model_module": "@jupyter-widgets/controls",
          "model_name": "ProgressStyleModel",
          "state": {
            "_view_name": "StyleView",
            "_model_name": "ProgressStyleModel",
            "description_width": "initial",
            "_view_module": "@jupyter-widgets/base",
            "_model_module_version": "1.5.0",
            "_view_count": null,
            "_view_module_version": "1.2.0",
            "bar_color": null,
            "_model_module": "@jupyter-widgets/controls"
          }
        },
        "878fa01433714704ac60dc105d8d7bea": {
          "model_module": "@jupyter-widgets/base",
          "model_name": "LayoutModel",
          "state": {
            "_view_name": "LayoutView",
            "grid_template_rows": null,
            "right": null,
            "justify_content": null,
            "_view_module": "@jupyter-widgets/base",
            "overflow": null,
            "_model_module_version": "1.2.0",
            "_view_count": null,
            "flex_flow": null,
            "width": null,
            "min_width": null,
            "border": null,
            "align_items": null,
            "bottom": null,
            "_model_module": "@jupyter-widgets/base",
            "top": null,
            "grid_column": null,
            "overflow_y": null,
            "overflow_x": null,
            "grid_auto_flow": null,
            "grid_area": null,
            "grid_template_columns": null,
            "flex": null,
            "_model_name": "LayoutModel",
            "justify_items": null,
            "grid_row": null,
            "max_height": null,
            "align_content": null,
            "visibility": null,
            "align_self": null,
            "height": null,
            "min_height": null,
            "padding": null,
            "grid_auto_rows": null,
            "grid_gap": null,
            "max_width": null,
            "order": null,
            "_view_module_version": "1.2.0",
            "grid_template_areas": null,
            "object_position": null,
            "object_fit": null,
            "grid_auto_columns": null,
            "margin": null,
            "display": null,
            "left": null
          }
        },
        "a6c3926a2a294023ae77aef41cb050c3": {
          "model_module": "@jupyter-widgets/controls",
          "model_name": "DescriptionStyleModel",
          "state": {
            "_view_name": "StyleView",
            "_model_name": "DescriptionStyleModel",
            "description_width": "",
            "_view_module": "@jupyter-widgets/base",
            "_model_module_version": "1.5.0",
            "_view_count": null,
            "_view_module_version": "1.2.0",
            "_model_module": "@jupyter-widgets/controls"
          }
        },
        "eb50609d3f244a2997e0592e944a94a6": {
          "model_module": "@jupyter-widgets/base",
          "model_name": "LayoutModel",
          "state": {
            "_view_name": "LayoutView",
            "grid_template_rows": null,
            "right": null,
            "justify_content": null,
            "_view_module": "@jupyter-widgets/base",
            "overflow": null,
            "_model_module_version": "1.2.0",
            "_view_count": null,
            "flex_flow": null,
            "width": null,
            "min_width": null,
            "border": null,
            "align_items": null,
            "bottom": null,
            "_model_module": "@jupyter-widgets/base",
            "top": null,
            "grid_column": null,
            "overflow_y": null,
            "overflow_x": null,
            "grid_auto_flow": null,
            "grid_area": null,
            "grid_template_columns": null,
            "flex": null,
            "_model_name": "LayoutModel",
            "justify_items": null,
            "grid_row": null,
            "max_height": null,
            "align_content": null,
            "visibility": null,
            "align_self": null,
            "height": null,
            "min_height": null,
            "padding": null,
            "grid_auto_rows": null,
            "grid_gap": null,
            "max_width": null,
            "order": null,
            "_view_module_version": "1.2.0",
            "grid_template_areas": null,
            "object_position": null,
            "object_fit": null,
            "grid_auto_columns": null,
            "margin": null,
            "display": null,
            "left": null
          }
        },
        "43d5a6f6af574bf4805663f02a113494": {
          "model_module": "@jupyter-widgets/controls",
          "model_name": "HBoxModel",
          "state": {
            "_view_name": "HBoxView",
            "_dom_classes": [],
            "_model_name": "HBoxModel",
            "_view_module": "@jupyter-widgets/controls",
            "_model_module_version": "1.5.0",
            "_view_count": null,
            "_view_module_version": "1.5.0",
            "box_style": "",
            "layout": "IPY_MODEL_796092e2cba744159a0d40e17c0795ce",
            "_model_module": "@jupyter-widgets/controls",
            "children": [
              "IPY_MODEL_a98a0f14f49d4a90852121a8baf3846e",
              "IPY_MODEL_90d95cd3295c42ec9943916d49786abe"
            ]
          }
        },
        "796092e2cba744159a0d40e17c0795ce": {
          "model_module": "@jupyter-widgets/base",
          "model_name": "LayoutModel",
          "state": {
            "_view_name": "LayoutView",
            "grid_template_rows": null,
            "right": null,
            "justify_content": null,
            "_view_module": "@jupyter-widgets/base",
            "overflow": null,
            "_model_module_version": "1.2.0",
            "_view_count": null,
            "flex_flow": null,
            "width": null,
            "min_width": null,
            "border": null,
            "align_items": null,
            "bottom": null,
            "_model_module": "@jupyter-widgets/base",
            "top": null,
            "grid_column": null,
            "overflow_y": null,
            "overflow_x": null,
            "grid_auto_flow": null,
            "grid_area": null,
            "grid_template_columns": null,
            "flex": null,
            "_model_name": "LayoutModel",
            "justify_items": null,
            "grid_row": null,
            "max_height": null,
            "align_content": null,
            "visibility": null,
            "align_self": null,
            "height": null,
            "min_height": null,
            "padding": null,
            "grid_auto_rows": null,
            "grid_gap": null,
            "max_width": null,
            "order": null,
            "_view_module_version": "1.2.0",
            "grid_template_areas": null,
            "object_position": null,
            "object_fit": null,
            "grid_auto_columns": null,
            "margin": null,
            "display": null,
            "left": null
          }
        },
        "a98a0f14f49d4a90852121a8baf3846e": {
          "model_module": "@jupyter-widgets/controls",
          "model_name": "FloatProgressModel",
          "state": {
            "_view_name": "ProgressView",
            "style": "IPY_MODEL_565e6781d06043d59553a8e71a04359a",
            "_dom_classes": [],
            "description": "",
            "_model_name": "FloatProgressModel",
            "bar_style": "success",
            "max": 1,
            "_view_module": "@jupyter-widgets/controls",
            "_model_module_version": "1.5.0",
            "value": 1,
            "_view_count": null,
            "_view_module_version": "1.5.0",
            "orientation": "horizontal",
            "min": 0,
            "description_tooltip": null,
            "_model_module": "@jupyter-widgets/controls",
            "layout": "IPY_MODEL_8ed471e001644785a524a599ff1119c2"
          }
        },
        "90d95cd3295c42ec9943916d49786abe": {
          "model_module": "@jupyter-widgets/controls",
          "model_name": "HTMLModel",
          "state": {
            "_view_name": "HTMLView",
            "style": "IPY_MODEL_eeded61e71144b9f8c775bc478757297",
            "_dom_classes": [],
            "description": "",
            "_model_name": "HTMLModel",
            "placeholder": "​",
            "_view_module": "@jupyter-widgets/controls",
            "_model_module_version": "1.5.0",
            "value": " 182042624/? [00:05&lt;00:00, 30515472.67it/s]",
            "_view_count": null,
            "_view_module_version": "1.5.0",
            "description_tooltip": null,
            "_model_module": "@jupyter-widgets/controls",
            "layout": "IPY_MODEL_d9eb4d24971b4ebe8f864fc328c564ae"
          }
        },
        "565e6781d06043d59553a8e71a04359a": {
          "model_module": "@jupyter-widgets/controls",
          "model_name": "ProgressStyleModel",
          "state": {
            "_view_name": "StyleView",
            "_model_name": "ProgressStyleModel",
            "description_width": "initial",
            "_view_module": "@jupyter-widgets/base",
            "_model_module_version": "1.5.0",
            "_view_count": null,
            "_view_module_version": "1.2.0",
            "bar_color": null,
            "_model_module": "@jupyter-widgets/controls"
          }
        },
        "8ed471e001644785a524a599ff1119c2": {
          "model_module": "@jupyter-widgets/base",
          "model_name": "LayoutModel",
          "state": {
            "_view_name": "LayoutView",
            "grid_template_rows": null,
            "right": null,
            "justify_content": null,
            "_view_module": "@jupyter-widgets/base",
            "overflow": null,
            "_model_module_version": "1.2.0",
            "_view_count": null,
            "flex_flow": null,
            "width": null,
            "min_width": null,
            "border": null,
            "align_items": null,
            "bottom": null,
            "_model_module": "@jupyter-widgets/base",
            "top": null,
            "grid_column": null,
            "overflow_y": null,
            "overflow_x": null,
            "grid_auto_flow": null,
            "grid_area": null,
            "grid_template_columns": null,
            "flex": null,
            "_model_name": "LayoutModel",
            "justify_items": null,
            "grid_row": null,
            "max_height": null,
            "align_content": null,
            "visibility": null,
            "align_self": null,
            "height": null,
            "min_height": null,
            "padding": null,
            "grid_auto_rows": null,
            "grid_gap": null,
            "max_width": null,
            "order": null,
            "_view_module_version": "1.2.0",
            "grid_template_areas": null,
            "object_position": null,
            "object_fit": null,
            "grid_auto_columns": null,
            "margin": null,
            "display": null,
            "left": null
          }
        },
        "eeded61e71144b9f8c775bc478757297": {
          "model_module": "@jupyter-widgets/controls",
          "model_name": "DescriptionStyleModel",
          "state": {
            "_view_name": "StyleView",
            "_model_name": "DescriptionStyleModel",
            "description_width": "",
            "_view_module": "@jupyter-widgets/base",
            "_model_module_version": "1.5.0",
            "_view_count": null,
            "_view_module_version": "1.2.0",
            "_model_module": "@jupyter-widgets/controls"
          }
        },
        "d9eb4d24971b4ebe8f864fc328c564ae": {
          "model_module": "@jupyter-widgets/base",
          "model_name": "LayoutModel",
          "state": {
            "_view_name": "LayoutView",
            "grid_template_rows": null,
            "right": null,
            "justify_content": null,
            "_view_module": "@jupyter-widgets/base",
            "overflow": null,
            "_model_module_version": "1.2.0",
            "_view_count": null,
            "flex_flow": null,
            "width": null,
            "min_width": null,
            "border": null,
            "align_items": null,
            "bottom": null,
            "_model_module": "@jupyter-widgets/base",
            "top": null,
            "grid_column": null,
            "overflow_y": null,
            "overflow_x": null,
            "grid_auto_flow": null,
            "grid_area": null,
            "grid_template_columns": null,
            "flex": null,
            "_model_name": "LayoutModel",
            "justify_items": null,
            "grid_row": null,
            "max_height": null,
            "align_content": null,
            "visibility": null,
            "align_self": null,
            "height": null,
            "min_height": null,
            "padding": null,
            "grid_auto_rows": null,
            "grid_gap": null,
            "max_width": null,
            "order": null,
            "_view_module_version": "1.2.0",
            "grid_template_areas": null,
            "object_position": null,
            "object_fit": null,
            "grid_auto_columns": null,
            "margin": null,
            "display": null,
            "left": null
          }
        },
        "a1231b3d3f1f4ed1b495c474af186417": {
          "model_module": "@jupyter-widgets/controls",
          "model_name": "HBoxModel",
          "state": {
            "_view_name": "HBoxView",
            "_dom_classes": [],
            "_model_name": "HBoxModel",
            "_view_module": "@jupyter-widgets/controls",
            "_model_module_version": "1.5.0",
            "_view_count": null,
            "_view_module_version": "1.5.0",
            "box_style": "",
            "layout": "IPY_MODEL_d789a9f5db104070ba7aade401eac811",
            "_model_module": "@jupyter-widgets/controls",
            "children": [
              "IPY_MODEL_996ec68bb4f848ffa7dbb8b1b698fdef",
              "IPY_MODEL_a31f96c513484c4683f00f5f0dbca8d6"
            ]
          }
        },
        "d789a9f5db104070ba7aade401eac811": {
          "model_module": "@jupyter-widgets/base",
          "model_name": "LayoutModel",
          "state": {
            "_view_name": "LayoutView",
            "grid_template_rows": null,
            "right": null,
            "justify_content": null,
            "_view_module": "@jupyter-widgets/base",
            "overflow": null,
            "_model_module_version": "1.2.0",
            "_view_count": null,
            "flex_flow": null,
            "width": null,
            "min_width": null,
            "border": null,
            "align_items": null,
            "bottom": null,
            "_model_module": "@jupyter-widgets/base",
            "top": null,
            "grid_column": null,
            "overflow_y": null,
            "overflow_x": null,
            "grid_auto_flow": null,
            "grid_area": null,
            "grid_template_columns": null,
            "flex": null,
            "_model_name": "LayoutModel",
            "justify_items": null,
            "grid_row": null,
            "max_height": null,
            "align_content": null,
            "visibility": null,
            "align_self": null,
            "height": null,
            "min_height": null,
            "padding": null,
            "grid_auto_rows": null,
            "grid_gap": null,
            "max_width": null,
            "order": null,
            "_view_module_version": "1.2.0",
            "grid_template_areas": null,
            "object_position": null,
            "object_fit": null,
            "grid_auto_columns": null,
            "margin": null,
            "display": null,
            "left": null
          }
        },
        "996ec68bb4f848ffa7dbb8b1b698fdef": {
          "model_module": "@jupyter-widgets/controls",
          "model_name": "FloatProgressModel",
          "state": {
            "_view_name": "ProgressView",
            "style": "IPY_MODEL_fa363a5bdb5c42e1b9cf75c9e8afa3dc",
            "_dom_classes": [],
            "description": "",
            "_model_name": "FloatProgressModel",
            "bar_style": "success",
            "max": 1,
            "_view_module": "@jupyter-widgets/controls",
            "_model_module_version": "1.5.0",
            "value": 1,
            "_view_count": null,
            "_view_module_version": "1.5.0",
            "orientation": "horizontal",
            "min": 0,
            "description_tooltip": null,
            "_model_module": "@jupyter-widgets/controls",
            "layout": "IPY_MODEL_f0f8d92010f84cfca1a2b959e93a2983"
          }
        },
        "a31f96c513484c4683f00f5f0dbca8d6": {
          "model_module": "@jupyter-widgets/controls",
          "model_name": "HTMLModel",
          "state": {
            "_view_name": "HTMLView",
            "style": "IPY_MODEL_b6dafff30a5e40dc834455d2829dd742",
            "_dom_classes": [],
            "description": "",
            "_model_name": "HTMLModel",
            "placeholder": "​",
            "_view_module": "@jupyter-widgets/controls",
            "_model_module_version": "1.5.0",
            "value": " 64282624/? [00:04&lt;00:00, 14360801.10it/s]",
            "_view_count": null,
            "_view_module_version": "1.5.0",
            "description_tooltip": null,
            "_model_module": "@jupyter-widgets/controls",
            "layout": "IPY_MODEL_095e84314de74f3dacd534c537311985"
          }
        },
        "fa363a5bdb5c42e1b9cf75c9e8afa3dc": {
          "model_module": "@jupyter-widgets/controls",
          "model_name": "ProgressStyleModel",
          "state": {
            "_view_name": "StyleView",
            "_model_name": "ProgressStyleModel",
            "description_width": "initial",
            "_view_module": "@jupyter-widgets/base",
            "_model_module_version": "1.5.0",
            "_view_count": null,
            "_view_module_version": "1.2.0",
            "bar_color": null,
            "_model_module": "@jupyter-widgets/controls"
          }
        },
        "f0f8d92010f84cfca1a2b959e93a2983": {
          "model_module": "@jupyter-widgets/base",
          "model_name": "LayoutModel",
          "state": {
            "_view_name": "LayoutView",
            "grid_template_rows": null,
            "right": null,
            "justify_content": null,
            "_view_module": "@jupyter-widgets/base",
            "overflow": null,
            "_model_module_version": "1.2.0",
            "_view_count": null,
            "flex_flow": null,
            "width": null,
            "min_width": null,
            "border": null,
            "align_items": null,
            "bottom": null,
            "_model_module": "@jupyter-widgets/base",
            "top": null,
            "grid_column": null,
            "overflow_y": null,
            "overflow_x": null,
            "grid_auto_flow": null,
            "grid_area": null,
            "grid_template_columns": null,
            "flex": null,
            "_model_name": "LayoutModel",
            "justify_items": null,
            "grid_row": null,
            "max_height": null,
            "align_content": null,
            "visibility": null,
            "align_self": null,
            "height": null,
            "min_height": null,
            "padding": null,
            "grid_auto_rows": null,
            "grid_gap": null,
            "max_width": null,
            "order": null,
            "_view_module_version": "1.2.0",
            "grid_template_areas": null,
            "object_position": null,
            "object_fit": null,
            "grid_auto_columns": null,
            "margin": null,
            "display": null,
            "left": null
          }
        },
        "b6dafff30a5e40dc834455d2829dd742": {
          "model_module": "@jupyter-widgets/controls",
          "model_name": "DescriptionStyleModel",
          "state": {
            "_view_name": "StyleView",
            "_model_name": "DescriptionStyleModel",
            "description_width": "",
            "_view_module": "@jupyter-widgets/base",
            "_model_module_version": "1.5.0",
            "_view_count": null,
            "_view_module_version": "1.2.0",
            "_model_module": "@jupyter-widgets/controls"
          }
        },
        "095e84314de74f3dacd534c537311985": {
          "model_module": "@jupyter-widgets/base",
          "model_name": "LayoutModel",
          "state": {
            "_view_name": "LayoutView",
            "grid_template_rows": null,
            "right": null,
            "justify_content": null,
            "_view_module": "@jupyter-widgets/base",
            "overflow": null,
            "_model_module_version": "1.2.0",
            "_view_count": null,
            "flex_flow": null,
            "width": null,
            "min_width": null,
            "border": null,
            "align_items": null,
            "bottom": null,
            "_model_module": "@jupyter-widgets/base",
            "top": null,
            "grid_column": null,
            "overflow_y": null,
            "overflow_x": null,
            "grid_auto_flow": null,
            "grid_area": null,
            "grid_template_columns": null,
            "flex": null,
            "_model_name": "LayoutModel",
            "justify_items": null,
            "grid_row": null,
            "max_height": null,
            "align_content": null,
            "visibility": null,
            "align_self": null,
            "height": null,
            "min_height": null,
            "padding": null,
            "grid_auto_rows": null,
            "grid_gap": null,
            "max_width": null,
            "order": null,
            "_view_module_version": "1.2.0",
            "grid_template_areas": null,
            "object_position": null,
            "object_fit": null,
            "grid_auto_columns": null,
            "margin": null,
            "display": null,
            "left": null
          }
        },
        "a75f81c9892c411d8a30015605a0cb8c": {
          "model_module": "@jupyter-widgets/controls",
          "model_name": "HBoxModel",
          "state": {
            "_view_name": "HBoxView",
            "_dom_classes": [],
            "_model_name": "HBoxModel",
            "_view_module": "@jupyter-widgets/controls",
            "_model_module_version": "1.5.0",
            "_view_count": null,
            "_view_module_version": "1.5.0",
            "box_style": "",
            "layout": "IPY_MODEL_28f984867bdf4c4b951ebb345809f380",
            "_model_module": "@jupyter-widgets/controls",
            "children": [
              "IPY_MODEL_b6e323eb53f046fb8746f22a9371dac4",
              "IPY_MODEL_2d891f5ac5c5416bb4ab2cbf485f348f"
            ]
          }
        },
        "28f984867bdf4c4b951ebb345809f380": {
          "model_module": "@jupyter-widgets/base",
          "model_name": "LayoutModel",
          "state": {
            "_view_name": "LayoutView",
            "grid_template_rows": null,
            "right": null,
            "justify_content": null,
            "_view_module": "@jupyter-widgets/base",
            "overflow": null,
            "_model_module_version": "1.2.0",
            "_view_count": null,
            "flex_flow": null,
            "width": null,
            "min_width": null,
            "border": null,
            "align_items": null,
            "bottom": null,
            "_model_module": "@jupyter-widgets/base",
            "top": null,
            "grid_column": null,
            "overflow_y": null,
            "overflow_x": null,
            "grid_auto_flow": null,
            "grid_area": null,
            "grid_template_columns": null,
            "flex": null,
            "_model_name": "LayoutModel",
            "justify_items": null,
            "grid_row": null,
            "max_height": null,
            "align_content": null,
            "visibility": null,
            "align_self": null,
            "height": null,
            "min_height": null,
            "padding": null,
            "grid_auto_rows": null,
            "grid_gap": null,
            "max_width": null,
            "order": null,
            "_view_module_version": "1.2.0",
            "grid_template_areas": null,
            "object_position": null,
            "object_fit": null,
            "grid_auto_columns": null,
            "margin": null,
            "display": null,
            "left": null
          }
        },
        "b6e323eb53f046fb8746f22a9371dac4": {
          "model_module": "@jupyter-widgets/controls",
          "model_name": "FloatProgressModel",
          "state": {
            "_view_name": "ProgressView",
            "style": "IPY_MODEL_e252124145ba425fa972bdb91223c17d",
            "_dom_classes": [],
            "description": "",
            "_model_name": "FloatProgressModel",
            "bar_style": "success",
            "max": 1,
            "_view_module": "@jupyter-widgets/controls",
            "_model_module_version": "1.5.0",
            "value": 1,
            "_view_count": null,
            "_view_module_version": "1.5.0",
            "orientation": "horizontal",
            "min": 0,
            "description_tooltip": null,
            "_model_module": "@jupyter-widgets/controls",
            "layout": "IPY_MODEL_c9541e400f9a40de861c672396e92c74"
          }
        },
        "2d891f5ac5c5416bb4ab2cbf485f348f": {
          "model_module": "@jupyter-widgets/controls",
          "model_name": "HTMLModel",
          "state": {
            "_view_name": "HTMLView",
            "style": "IPY_MODEL_37660027c7a74d7da902dbbe22cb62ae",
            "_dom_classes": [],
            "description": "",
            "_model_name": "HTMLModel",
            "placeholder": "​",
            "_view_module": "@jupyter-widgets/controls",
            "_model_module_version": "1.5.0",
            "value": " 9920512/? [00:00&lt;00:00, 11363287.54it/s]",
            "_view_count": null,
            "_view_module_version": "1.5.0",
            "description_tooltip": null,
            "_model_module": "@jupyter-widgets/controls",
            "layout": "IPY_MODEL_f38ad679ff93474aaa11242866822d83"
          }
        },
        "e252124145ba425fa972bdb91223c17d": {
          "model_module": "@jupyter-widgets/controls",
          "model_name": "ProgressStyleModel",
          "state": {
            "_view_name": "StyleView",
            "_model_name": "ProgressStyleModel",
            "description_width": "initial",
            "_view_module": "@jupyter-widgets/base",
            "_model_module_version": "1.5.0",
            "_view_count": null,
            "_view_module_version": "1.2.0",
            "bar_color": null,
            "_model_module": "@jupyter-widgets/controls"
          }
        },
        "c9541e400f9a40de861c672396e92c74": {
          "model_module": "@jupyter-widgets/base",
          "model_name": "LayoutModel",
          "state": {
            "_view_name": "LayoutView",
            "grid_template_rows": null,
            "right": null,
            "justify_content": null,
            "_view_module": "@jupyter-widgets/base",
            "overflow": null,
            "_model_module_version": "1.2.0",
            "_view_count": null,
            "flex_flow": null,
            "width": null,
            "min_width": null,
            "border": null,
            "align_items": null,
            "bottom": null,
            "_model_module": "@jupyter-widgets/base",
            "top": null,
            "grid_column": null,
            "overflow_y": null,
            "overflow_x": null,
            "grid_auto_flow": null,
            "grid_area": null,
            "grid_template_columns": null,
            "flex": null,
            "_model_name": "LayoutModel",
            "justify_items": null,
            "grid_row": null,
            "max_height": null,
            "align_content": null,
            "visibility": null,
            "align_self": null,
            "height": null,
            "min_height": null,
            "padding": null,
            "grid_auto_rows": null,
            "grid_gap": null,
            "max_width": null,
            "order": null,
            "_view_module_version": "1.2.0",
            "grid_template_areas": null,
            "object_position": null,
            "object_fit": null,
            "grid_auto_columns": null,
            "margin": null,
            "display": null,
            "left": null
          }
        },
        "37660027c7a74d7da902dbbe22cb62ae": {
          "model_module": "@jupyter-widgets/controls",
          "model_name": "DescriptionStyleModel",
          "state": {
            "_view_name": "StyleView",
            "_model_name": "DescriptionStyleModel",
            "description_width": "",
            "_view_module": "@jupyter-widgets/base",
            "_model_module_version": "1.5.0",
            "_view_count": null,
            "_view_module_version": "1.2.0",
            "_model_module": "@jupyter-widgets/controls"
          }
        },
        "f38ad679ff93474aaa11242866822d83": {
          "model_module": "@jupyter-widgets/base",
          "model_name": "LayoutModel",
          "state": {
            "_view_name": "LayoutView",
            "grid_template_rows": null,
            "right": null,
            "justify_content": null,
            "_view_module": "@jupyter-widgets/base",
            "overflow": null,
            "_model_module_version": "1.2.0",
            "_view_count": null,
            "flex_flow": null,
            "width": null,
            "min_width": null,
            "border": null,
            "align_items": null,
            "bottom": null,
            "_model_module": "@jupyter-widgets/base",
            "top": null,
            "grid_column": null,
            "overflow_y": null,
            "overflow_x": null,
            "grid_auto_flow": null,
            "grid_area": null,
            "grid_template_columns": null,
            "flex": null,
            "_model_name": "LayoutModel",
            "justify_items": null,
            "grid_row": null,
            "max_height": null,
            "align_content": null,
            "visibility": null,
            "align_self": null,
            "height": null,
            "min_height": null,
            "padding": null,
            "grid_auto_rows": null,
            "grid_gap": null,
            "max_width": null,
            "order": null,
            "_view_module_version": "1.2.0",
            "grid_template_areas": null,
            "object_position": null,
            "object_fit": null,
            "grid_auto_columns": null,
            "margin": null,
            "display": null,
            "left": null
          }
        },
        "f5123e81b3844886a676cc5dd3ed8b30": {
          "model_module": "@jupyter-widgets/controls",
          "model_name": "HBoxModel",
          "state": {
            "_view_name": "HBoxView",
            "_dom_classes": [],
            "_model_name": "HBoxModel",
            "_view_module": "@jupyter-widgets/controls",
            "_model_module_version": "1.5.0",
            "_view_count": null,
            "_view_module_version": "1.5.0",
            "box_style": "",
            "layout": "IPY_MODEL_a8d1293f905e4806bcdf4ca2baec32eb",
            "_model_module": "@jupyter-widgets/controls",
            "children": [
              "IPY_MODEL_28311cf730b747cd8cbfec20cb4b872f",
              "IPY_MODEL_dc2acf72c11c4dd1938c81a215aa33ea"
            ]
          }
        },
        "a8d1293f905e4806bcdf4ca2baec32eb": {
          "model_module": "@jupyter-widgets/base",
          "model_name": "LayoutModel",
          "state": {
            "_view_name": "LayoutView",
            "grid_template_rows": null,
            "right": null,
            "justify_content": null,
            "_view_module": "@jupyter-widgets/base",
            "overflow": null,
            "_model_module_version": "1.2.0",
            "_view_count": null,
            "flex_flow": null,
            "width": null,
            "min_width": null,
            "border": null,
            "align_items": null,
            "bottom": null,
            "_model_module": "@jupyter-widgets/base",
            "top": null,
            "grid_column": null,
            "overflow_y": null,
            "overflow_x": null,
            "grid_auto_flow": null,
            "grid_area": null,
            "grid_template_columns": null,
            "flex": null,
            "_model_name": "LayoutModel",
            "justify_items": null,
            "grid_row": null,
            "max_height": null,
            "align_content": null,
            "visibility": null,
            "align_self": null,
            "height": null,
            "min_height": null,
            "padding": null,
            "grid_auto_rows": null,
            "grid_gap": null,
            "max_width": null,
            "order": null,
            "_view_module_version": "1.2.0",
            "grid_template_areas": null,
            "object_position": null,
            "object_fit": null,
            "grid_auto_columns": null,
            "margin": null,
            "display": null,
            "left": null
          }
        },
        "28311cf730b747cd8cbfec20cb4b872f": {
          "model_module": "@jupyter-widgets/controls",
          "model_name": "FloatProgressModel",
          "state": {
            "_view_name": "ProgressView",
            "style": "IPY_MODEL_3984d0190c7543ac9ab42dc57ce77e9a",
            "_dom_classes": [],
            "description": "  0%",
            "_model_name": "FloatProgressModel",
            "bar_style": "info",
            "max": 1,
            "_view_module": "@jupyter-widgets/controls",
            "_model_module_version": "1.5.0",
            "value": 0,
            "_view_count": null,
            "_view_module_version": "1.5.0",
            "orientation": "horizontal",
            "min": 0,
            "description_tooltip": null,
            "_model_module": "@jupyter-widgets/controls",
            "layout": "IPY_MODEL_bbbb23215bdd4cf58701dfff0f3d47a4"
          }
        },
        "dc2acf72c11c4dd1938c81a215aa33ea": {
          "model_module": "@jupyter-widgets/controls",
          "model_name": "HTMLModel",
          "state": {
            "_view_name": "HTMLView",
            "style": "IPY_MODEL_5b680e24f2704ddabd4cf7b523f46ef4",
            "_dom_classes": [],
            "description": "",
            "_model_name": "HTMLModel",
            "placeholder": "​",
            "_view_module": "@jupyter-widgets/controls",
            "_model_module_version": "1.5.0",
            "value": " 0/28881 [00:00&lt;?, ?it/s]",
            "_view_count": null,
            "_view_module_version": "1.5.0",
            "description_tooltip": null,
            "_model_module": "@jupyter-widgets/controls",
            "layout": "IPY_MODEL_8b0c40a050194b65a2d07baba75042ba"
          }
        },
        "3984d0190c7543ac9ab42dc57ce77e9a": {
          "model_module": "@jupyter-widgets/controls",
          "model_name": "ProgressStyleModel",
          "state": {
            "_view_name": "StyleView",
            "_model_name": "ProgressStyleModel",
            "description_width": "initial",
            "_view_module": "@jupyter-widgets/base",
            "_model_module_version": "1.5.0",
            "_view_count": null,
            "_view_module_version": "1.2.0",
            "bar_color": null,
            "_model_module": "@jupyter-widgets/controls"
          }
        },
        "bbbb23215bdd4cf58701dfff0f3d47a4": {
          "model_module": "@jupyter-widgets/base",
          "model_name": "LayoutModel",
          "state": {
            "_view_name": "LayoutView",
            "grid_template_rows": null,
            "right": null,
            "justify_content": null,
            "_view_module": "@jupyter-widgets/base",
            "overflow": null,
            "_model_module_version": "1.2.0",
            "_view_count": null,
            "flex_flow": null,
            "width": null,
            "min_width": null,
            "border": null,
            "align_items": null,
            "bottom": null,
            "_model_module": "@jupyter-widgets/base",
            "top": null,
            "grid_column": null,
            "overflow_y": null,
            "overflow_x": null,
            "grid_auto_flow": null,
            "grid_area": null,
            "grid_template_columns": null,
            "flex": null,
            "_model_name": "LayoutModel",
            "justify_items": null,
            "grid_row": null,
            "max_height": null,
            "align_content": null,
            "visibility": null,
            "align_self": null,
            "height": null,
            "min_height": null,
            "padding": null,
            "grid_auto_rows": null,
            "grid_gap": null,
            "max_width": null,
            "order": null,
            "_view_module_version": "1.2.0",
            "grid_template_areas": null,
            "object_position": null,
            "object_fit": null,
            "grid_auto_columns": null,
            "margin": null,
            "display": null,
            "left": null
          }
        },
        "5b680e24f2704ddabd4cf7b523f46ef4": {
          "model_module": "@jupyter-widgets/controls",
          "model_name": "DescriptionStyleModel",
          "state": {
            "_view_name": "StyleView",
            "_model_name": "DescriptionStyleModel",
            "description_width": "",
            "_view_module": "@jupyter-widgets/base",
            "_model_module_version": "1.5.0",
            "_view_count": null,
            "_view_module_version": "1.2.0",
            "_model_module": "@jupyter-widgets/controls"
          }
        },
        "8b0c40a050194b65a2d07baba75042ba": {
          "model_module": "@jupyter-widgets/base",
          "model_name": "LayoutModel",
          "state": {
            "_view_name": "LayoutView",
            "grid_template_rows": null,
            "right": null,
            "justify_content": null,
            "_view_module": "@jupyter-widgets/base",
            "overflow": null,
            "_model_module_version": "1.2.0",
            "_view_count": null,
            "flex_flow": null,
            "width": null,
            "min_width": null,
            "border": null,
            "align_items": null,
            "bottom": null,
            "_model_module": "@jupyter-widgets/base",
            "top": null,
            "grid_column": null,
            "overflow_y": null,
            "overflow_x": null,
            "grid_auto_flow": null,
            "grid_area": null,
            "grid_template_columns": null,
            "flex": null,
            "_model_name": "LayoutModel",
            "justify_items": null,
            "grid_row": null,
            "max_height": null,
            "align_content": null,
            "visibility": null,
            "align_self": null,
            "height": null,
            "min_height": null,
            "padding": null,
            "grid_auto_rows": null,
            "grid_gap": null,
            "max_width": null,
            "order": null,
            "_view_module_version": "1.2.0",
            "grid_template_areas": null,
            "object_position": null,
            "object_fit": null,
            "grid_auto_columns": null,
            "margin": null,
            "display": null,
            "left": null
          }
        },
        "d4ea370d6ed74908b5821b0c31191df9": {
          "model_module": "@jupyter-widgets/controls",
          "model_name": "HBoxModel",
          "state": {
            "_view_name": "HBoxView",
            "_dom_classes": [],
            "_model_name": "HBoxModel",
            "_view_module": "@jupyter-widgets/controls",
            "_model_module_version": "1.5.0",
            "_view_count": null,
            "_view_module_version": "1.5.0",
            "box_style": "",
            "layout": "IPY_MODEL_a7a8309a901d438794631e1d0dc9b27c",
            "_model_module": "@jupyter-widgets/controls",
            "children": [
              "IPY_MODEL_fe589f9921da456fab04a80568ac0018",
              "IPY_MODEL_53ac2b46961446b396acdac445002c9e"
            ]
          }
        },
        "a7a8309a901d438794631e1d0dc9b27c": {
          "model_module": "@jupyter-widgets/base",
          "model_name": "LayoutModel",
          "state": {
            "_view_name": "LayoutView",
            "grid_template_rows": null,
            "right": null,
            "justify_content": null,
            "_view_module": "@jupyter-widgets/base",
            "overflow": null,
            "_model_module_version": "1.2.0",
            "_view_count": null,
            "flex_flow": null,
            "width": null,
            "min_width": null,
            "border": null,
            "align_items": null,
            "bottom": null,
            "_model_module": "@jupyter-widgets/base",
            "top": null,
            "grid_column": null,
            "overflow_y": null,
            "overflow_x": null,
            "grid_auto_flow": null,
            "grid_area": null,
            "grid_template_columns": null,
            "flex": null,
            "_model_name": "LayoutModel",
            "justify_items": null,
            "grid_row": null,
            "max_height": null,
            "align_content": null,
            "visibility": null,
            "align_self": null,
            "height": null,
            "min_height": null,
            "padding": null,
            "grid_auto_rows": null,
            "grid_gap": null,
            "max_width": null,
            "order": null,
            "_view_module_version": "1.2.0",
            "grid_template_areas": null,
            "object_position": null,
            "object_fit": null,
            "grid_auto_columns": null,
            "margin": null,
            "display": null,
            "left": null
          }
        },
        "fe589f9921da456fab04a80568ac0018": {
          "model_module": "@jupyter-widgets/controls",
          "model_name": "FloatProgressModel",
          "state": {
            "_view_name": "ProgressView",
            "style": "IPY_MODEL_60c8db308ea44c92b9568ad610fe1175",
            "_dom_classes": [],
            "description": "",
            "_model_name": "FloatProgressModel",
            "bar_style": "success",
            "max": 1,
            "_view_module": "@jupyter-widgets/controls",
            "_model_module_version": "1.5.0",
            "value": 1,
            "_view_count": null,
            "_view_module_version": "1.5.0",
            "orientation": "horizontal",
            "min": 0,
            "description_tooltip": null,
            "_model_module": "@jupyter-widgets/controls",
            "layout": "IPY_MODEL_04da8b05804146d0a4bc4f5196ea2c23"
          }
        },
        "53ac2b46961446b396acdac445002c9e": {
          "model_module": "@jupyter-widgets/controls",
          "model_name": "HTMLModel",
          "state": {
            "_view_name": "HTMLView",
            "style": "IPY_MODEL_9eba159e667042ffbe48e79313cea71a",
            "_dom_classes": [],
            "description": "",
            "_model_name": "HTMLModel",
            "placeholder": "​",
            "_view_module": "@jupyter-widgets/controls",
            "_model_module_version": "1.5.0",
            "value": " 1654784/? [00:00&lt;00:00, 2400916.26it/s]",
            "_view_count": null,
            "_view_module_version": "1.5.0",
            "description_tooltip": null,
            "_model_module": "@jupyter-widgets/controls",
            "layout": "IPY_MODEL_5c5cac63109746fba982b3a1569471ff"
          }
        },
        "60c8db308ea44c92b9568ad610fe1175": {
          "model_module": "@jupyter-widgets/controls",
          "model_name": "ProgressStyleModel",
          "state": {
            "_view_name": "StyleView",
            "_model_name": "ProgressStyleModel",
            "description_width": "initial",
            "_view_module": "@jupyter-widgets/base",
            "_model_module_version": "1.5.0",
            "_view_count": null,
            "_view_module_version": "1.2.0",
            "bar_color": null,
            "_model_module": "@jupyter-widgets/controls"
          }
        },
        "04da8b05804146d0a4bc4f5196ea2c23": {
          "model_module": "@jupyter-widgets/base",
          "model_name": "LayoutModel",
          "state": {
            "_view_name": "LayoutView",
            "grid_template_rows": null,
            "right": null,
            "justify_content": null,
            "_view_module": "@jupyter-widgets/base",
            "overflow": null,
            "_model_module_version": "1.2.0",
            "_view_count": null,
            "flex_flow": null,
            "width": null,
            "min_width": null,
            "border": null,
            "align_items": null,
            "bottom": null,
            "_model_module": "@jupyter-widgets/base",
            "top": null,
            "grid_column": null,
            "overflow_y": null,
            "overflow_x": null,
            "grid_auto_flow": null,
            "grid_area": null,
            "grid_template_columns": null,
            "flex": null,
            "_model_name": "LayoutModel",
            "justify_items": null,
            "grid_row": null,
            "max_height": null,
            "align_content": null,
            "visibility": null,
            "align_self": null,
            "height": null,
            "min_height": null,
            "padding": null,
            "grid_auto_rows": null,
            "grid_gap": null,
            "max_width": null,
            "order": null,
            "_view_module_version": "1.2.0",
            "grid_template_areas": null,
            "object_position": null,
            "object_fit": null,
            "grid_auto_columns": null,
            "margin": null,
            "display": null,
            "left": null
          }
        },
        "9eba159e667042ffbe48e79313cea71a": {
          "model_module": "@jupyter-widgets/controls",
          "model_name": "DescriptionStyleModel",
          "state": {
            "_view_name": "StyleView",
            "_model_name": "DescriptionStyleModel",
            "description_width": "",
            "_view_module": "@jupyter-widgets/base",
            "_model_module_version": "1.5.0",
            "_view_count": null,
            "_view_module_version": "1.2.0",
            "_model_module": "@jupyter-widgets/controls"
          }
        },
        "5c5cac63109746fba982b3a1569471ff": {
          "model_module": "@jupyter-widgets/base",
          "model_name": "LayoutModel",
          "state": {
            "_view_name": "LayoutView",
            "grid_template_rows": null,
            "right": null,
            "justify_content": null,
            "_view_module": "@jupyter-widgets/base",
            "overflow": null,
            "_model_module_version": "1.2.0",
            "_view_count": null,
            "flex_flow": null,
            "width": null,
            "min_width": null,
            "border": null,
            "align_items": null,
            "bottom": null,
            "_model_module": "@jupyter-widgets/base",
            "top": null,
            "grid_column": null,
            "overflow_y": null,
            "overflow_x": null,
            "grid_auto_flow": null,
            "grid_area": null,
            "grid_template_columns": null,
            "flex": null,
            "_model_name": "LayoutModel",
            "justify_items": null,
            "grid_row": null,
            "max_height": null,
            "align_content": null,
            "visibility": null,
            "align_self": null,
            "height": null,
            "min_height": null,
            "padding": null,
            "grid_auto_rows": null,
            "grid_gap": null,
            "max_width": null,
            "order": null,
            "_view_module_version": "1.2.0",
            "grid_template_areas": null,
            "object_position": null,
            "object_fit": null,
            "grid_auto_columns": null,
            "margin": null,
            "display": null,
            "left": null
          }
        },
        "de08d69502084c77bf9d1efe02579553": {
          "model_module": "@jupyter-widgets/controls",
          "model_name": "HBoxModel",
          "state": {
            "_view_name": "HBoxView",
            "_dom_classes": [],
            "_model_name": "HBoxModel",
            "_view_module": "@jupyter-widgets/controls",
            "_model_module_version": "1.5.0",
            "_view_count": null,
            "_view_module_version": "1.5.0",
            "box_style": "",
            "layout": "IPY_MODEL_58ea64272a3a4bbea1d8fc0dc44f8207",
            "_model_module": "@jupyter-widgets/controls",
            "children": [
              "IPY_MODEL_c057bf10ca40458c9017958a344d8d7b",
              "IPY_MODEL_584c60d5fbf943bbaaa563aa8c00ccac"
            ]
          }
        },
        "58ea64272a3a4bbea1d8fc0dc44f8207": {
          "model_module": "@jupyter-widgets/base",
          "model_name": "LayoutModel",
          "state": {
            "_view_name": "LayoutView",
            "grid_template_rows": null,
            "right": null,
            "justify_content": null,
            "_view_module": "@jupyter-widgets/base",
            "overflow": null,
            "_model_module_version": "1.2.0",
            "_view_count": null,
            "flex_flow": null,
            "width": null,
            "min_width": null,
            "border": null,
            "align_items": null,
            "bottom": null,
            "_model_module": "@jupyter-widgets/base",
            "top": null,
            "grid_column": null,
            "overflow_y": null,
            "overflow_x": null,
            "grid_auto_flow": null,
            "grid_area": null,
            "grid_template_columns": null,
            "flex": null,
            "_model_name": "LayoutModel",
            "justify_items": null,
            "grid_row": null,
            "max_height": null,
            "align_content": null,
            "visibility": null,
            "align_self": null,
            "height": null,
            "min_height": null,
            "padding": null,
            "grid_auto_rows": null,
            "grid_gap": null,
            "max_width": null,
            "order": null,
            "_view_module_version": "1.2.0",
            "grid_template_areas": null,
            "object_position": null,
            "object_fit": null,
            "grid_auto_columns": null,
            "margin": null,
            "display": null,
            "left": null
          }
        },
        "c057bf10ca40458c9017958a344d8d7b": {
          "model_module": "@jupyter-widgets/controls",
          "model_name": "FloatProgressModel",
          "state": {
            "_view_name": "ProgressView",
            "style": "IPY_MODEL_1ff9a0ed56ad4ef58328cca48316c195",
            "_dom_classes": [],
            "description": "",
            "_model_name": "FloatProgressModel",
            "bar_style": "success",
            "max": 1,
            "_view_module": "@jupyter-widgets/controls",
            "_model_module_version": "1.5.0",
            "value": 1,
            "_view_count": null,
            "_view_module_version": "1.5.0",
            "orientation": "horizontal",
            "min": 0,
            "description_tooltip": null,
            "_model_module": "@jupyter-widgets/controls",
            "layout": "IPY_MODEL_38e1771ef1984486a3fc993843f9754d"
          }
        },
        "584c60d5fbf943bbaaa563aa8c00ccac": {
          "model_module": "@jupyter-widgets/controls",
          "model_name": "HTMLModel",
          "state": {
            "_view_name": "HTMLView",
            "style": "IPY_MODEL_b89396778a164793b9cddf93a1fd5c68",
            "_dom_classes": [],
            "description": "",
            "_model_name": "HTMLModel",
            "placeholder": "​",
            "_view_module": "@jupyter-widgets/controls",
            "_model_module_version": "1.5.0",
            "value": " 8192/? [00:00&lt;00:00, 26027.82it/s]",
            "_view_count": null,
            "_view_module_version": "1.5.0",
            "description_tooltip": null,
            "_model_module": "@jupyter-widgets/controls",
            "layout": "IPY_MODEL_5f7265f518734a09bf8ecc3ce7a49142"
          }
        },
        "1ff9a0ed56ad4ef58328cca48316c195": {
          "model_module": "@jupyter-widgets/controls",
          "model_name": "ProgressStyleModel",
          "state": {
            "_view_name": "StyleView",
            "_model_name": "ProgressStyleModel",
            "description_width": "initial",
            "_view_module": "@jupyter-widgets/base",
            "_model_module_version": "1.5.0",
            "_view_count": null,
            "_view_module_version": "1.2.0",
            "bar_color": null,
            "_model_module": "@jupyter-widgets/controls"
          }
        },
        "38e1771ef1984486a3fc993843f9754d": {
          "model_module": "@jupyter-widgets/base",
          "model_name": "LayoutModel",
          "state": {
            "_view_name": "LayoutView",
            "grid_template_rows": null,
            "right": null,
            "justify_content": null,
            "_view_module": "@jupyter-widgets/base",
            "overflow": null,
            "_model_module_version": "1.2.0",
            "_view_count": null,
            "flex_flow": null,
            "width": null,
            "min_width": null,
            "border": null,
            "align_items": null,
            "bottom": null,
            "_model_module": "@jupyter-widgets/base",
            "top": null,
            "grid_column": null,
            "overflow_y": null,
            "overflow_x": null,
            "grid_auto_flow": null,
            "grid_area": null,
            "grid_template_columns": null,
            "flex": null,
            "_model_name": "LayoutModel",
            "justify_items": null,
            "grid_row": null,
            "max_height": null,
            "align_content": null,
            "visibility": null,
            "align_self": null,
            "height": null,
            "min_height": null,
            "padding": null,
            "grid_auto_rows": null,
            "grid_gap": null,
            "max_width": null,
            "order": null,
            "_view_module_version": "1.2.0",
            "grid_template_areas": null,
            "object_position": null,
            "object_fit": null,
            "grid_auto_columns": null,
            "margin": null,
            "display": null,
            "left": null
          }
        },
        "b89396778a164793b9cddf93a1fd5c68": {
          "model_module": "@jupyter-widgets/controls",
          "model_name": "DescriptionStyleModel",
          "state": {
            "_view_name": "StyleView",
            "_model_name": "DescriptionStyleModel",
            "description_width": "",
            "_view_module": "@jupyter-widgets/base",
            "_model_module_version": "1.5.0",
            "_view_count": null,
            "_view_module_version": "1.2.0",
            "_model_module": "@jupyter-widgets/controls"
          }
        },
        "5f7265f518734a09bf8ecc3ce7a49142": {
          "model_module": "@jupyter-widgets/base",
          "model_name": "LayoutModel",
          "state": {
            "_view_name": "LayoutView",
            "grid_template_rows": null,
            "right": null,
            "justify_content": null,
            "_view_module": "@jupyter-widgets/base",
            "overflow": null,
            "_model_module_version": "1.2.0",
            "_view_count": null,
            "flex_flow": null,
            "width": null,
            "min_width": null,
            "border": null,
            "align_items": null,
            "bottom": null,
            "_model_module": "@jupyter-widgets/base",
            "top": null,
            "grid_column": null,
            "overflow_y": null,
            "overflow_x": null,
            "grid_auto_flow": null,
            "grid_area": null,
            "grid_template_columns": null,
            "flex": null,
            "_model_name": "LayoutModel",
            "justify_items": null,
            "grid_row": null,
            "max_height": null,
            "align_content": null,
            "visibility": null,
            "align_self": null,
            "height": null,
            "min_height": null,
            "padding": null,
            "grid_auto_rows": null,
            "grid_gap": null,
            "max_width": null,
            "order": null,
            "_view_module_version": "1.2.0",
            "grid_template_areas": null,
            "object_position": null,
            "object_fit": null,
            "grid_auto_columns": null,
            "margin": null,
            "display": null,
            "left": null
          }
        }
      }
    }
  },
  "cells": [
    {
      "cell_type": "markdown",
      "metadata": {
        "id": "view-in-github",
        "colab_type": "text"
      },
      "source": [
        "<a href=\"https://colab.research.google.com/github/HarmanDotpy/ML-Assignment2/blob/main/Q3_3_MNIST_to_SVHN___SVHNtoMnist_generator_trained_1_time.ipynb\" target=\"_parent\"><img src=\"https://colab.research.google.com/assets/colab-badge.svg\" alt=\"Open In Colab\"/></a>"
      ]
    },
    {
      "cell_type": "code",
      "metadata": {
        "id": "j70fLPxab1un"
      },
      "source": [
        "from __future__ import print_function\r\n",
        "import warnings\r\n",
        "warnings.filterwarnings('ignore')\r\n",
        "import logging\r\n",
        "logging.basicConfig(level=logging.FATAL)\r\n",
        "import argparse, random\r\n",
        "import numpy as np\r\n",
        "import matplotlib\r\n",
        "import matplotlib.pyplot as plt\r\n",
        "import torch\r\n",
        "import torch.nn as nn\r\n",
        "import torch.nn.functional as F\r\n",
        "import torch.optim as optim\r\n",
        "\r\n",
        "from torchvision import datasets, transforms\r\n"
      ],
      "execution_count": 2,
      "outputs": []
    },
    {
      "cell_type": "code",
      "metadata": {
        "id": "5QKsEPfwb2fs"
      },
      "source": [
        "parser = argparse.ArgumentParser(description='PyTorch MNIST Example')\r\n",
        "parser.add_argument('--batch-size', type=int, default=128, metavar='N',\r\n",
        "                    help='input batch size for training (default: 128)')\r\n",
        "parser.add_argument('--test-batch-size', type=int, default=1000, metavar='N',\r\n",
        "                    help='input batch size for testing (default: 1000)')\r\n",
        "parser.add_argument('--epochs', type=int, default=20, metavar='N',\r\n",
        "                    help='number of epochs to train (default: 20)')\r\n",
        "parser.add_argument('--num-k', type=int, default=4, metavar='N',\r\n",
        "                    help='hyper paremeter for generator update')\r\n",
        "parser.add_argument('--lr', type=float, default=0.0001, metavar='LR',\r\n",
        "                    help='learning rate (default: 0.01)')\r\n",
        "parser.add_argument('--no-cuda', action='store_true', default=False,\r\n",
        "                    help='disables CUDA training')\r\n",
        "parser.add_argument('--seed', type=int, default=42, metavar='S',\r\n",
        "                    help='random seed (default: 1)')\r\n",
        "parser.add_argument('--log-interval', type=int, default=100, metavar='N',\r\n",
        "                    help='how many batches to wait before logging training status')\r\n",
        "\r\n",
        "parser.add_argument('--save-model', action='store_true', default=False,\r\n",
        "                    help='For Saving the current Model')\r\n",
        "args = parser.parse_args([])\r\n",
        "use_cuda = not args.no_cuda and torch.cuda.is_available()\r\n",
        "kwargs = {'num_workers': 1, 'pin_memory': True} if use_cuda else {}\r\n",
        "device = torch.device(\"cuda\" if use_cuda else \"cpu\")"
      ],
      "execution_count": 6,
      "outputs": []
    },
    {
      "cell_type": "code",
      "metadata": {
        "colab": {
          "base_uri": "https://localhost:8080/",
          "height": 432,
          "referenced_widgets": [
            "4d1aaae1434e4444b8173ad1b0f1844d",
            "39ea0586d9c246ac839608a5e0e95c94",
            "81f5484b058e42c0af100e52edb554ab",
            "a14fe2fc90414fbc9b9617b9379f7cc0",
            "865063dd4d6b4f6f98bcc8398bd8f924",
            "fc18ecf55b8e4598ab3ca68d5d188003",
            "b85de8b8679d4c78b78d23ae5eb28656",
            "3014fdd830794fbbb7812c185267a945",
            "1ecf97ef1640461b93ee476f514ff35c",
            "496b687cd75d4e6d835f1f6f1cac499d",
            "2a611ae4395e4f7398bc8e1068e94a8d",
            "f205dac98ddc42eabc5f05e12e451e93",
            "523ff74244e842de84ae920daadb3104",
            "b51bd007328a4eb0a6464d9c3dfd0cf9",
            "261ac3e449b844459170a653daa64aeb",
            "b2a3ab954986402fb6a5bb1b20c670a3",
            "78e080308f5d4ba6866e784e4f7c1f5f",
            "d9aaed723f4d4c96a6f928d442e80263",
            "7497b19bfac8429dac537840f7423942",
            "2c046e44c39d462abbf88c4036fd0f47",
            "6f58fe8049814f199d6cd5af9c9457cc",
            "4334865f784840c79bb9eaf907de2ffe",
            "459a4fffecf04ce097d03aa4e569e8e6",
            "41bcdd897c2349d7aa9138ef7e0141f0",
            "c786f6aa1c7843f1b12b24dcc89e33ce",
            "49bd5c3621b54e6daf9f723cd20bc33c",
            "dcd03edaed5549aeb53c2d44900110f6",
            "434755de88254330986e575e7a066346",
            "7510bc426ec2490c9584a181aa92b9af",
            "4c723ae8cf8a44549182933d0af5e1fe",
            "703f04dede9243b3ac77c29f2de1750f",
            "d7b2f560c985479f93eb5c797cc55cfd",
            "ac91670b965d4b7da8242d17b21ff71f",
            "991f13333e4c43baa19787df6a359deb",
            "8ad7e5e794a649268dddc6d5cf95f42e",
            "ce28b51c255f4034936634b99f9fd325",
            "3a9abdd5c7b04ab4acd2192556ef384e",
            "878fa01433714704ac60dc105d8d7bea",
            "a6c3926a2a294023ae77aef41cb050c3",
            "eb50609d3f244a2997e0592e944a94a6"
          ]
        },
        "id": "FsSXyP5rb2gz",
        "outputId": "b7f2a80d-d66e-4c96-bb03-ffad3bf8e414"
      },
      "source": [
        "svhn_train_loader = torch.utils.data.DataLoader(\r\n",
        "    datasets.SVHN('./data/data_svhn', split='train', download=True,\r\n",
        "                   transform=transforms.Compose([\r\n",
        "                       transforms.ToTensor(),\r\n",
        "                       transforms.Normalize((0.5, 0.5, 0.5), (0.5, 0.5, 0.5))\r\n",
        "                   ])),\r\n",
        "    batch_size=args.batch_size, drop_last=True, shuffle=True, **kwargs)\r\n",
        "\r\n",
        "svhn_test_loader = torch.utils.data.DataLoader(\r\n",
        "    datasets.SVHN('./data/data_svhn', split='test', download=True,\r\n",
        "                  transform=transforms.Compose([\r\n",
        "                       transforms.ToTensor(),\r\n",
        "                       transforms.Normalize((0.5, 0.5, 0.5), (0.5, 0.5, 0.5))\r\n",
        "                   ])),\r\n",
        "    batch_size=args.test_batch_size, drop_last=True, shuffle=True, **kwargs)\r\n",
        "\r\n",
        "mnist_train_loader = torch.utils.data.DataLoader(\r\n",
        "    datasets.MNIST('./data/data_mnist', train=True, download=True,\r\n",
        "                  transform=transforms.Compose([\r\n",
        "                       transforms.Resize((32,32)),\r\n",
        "                       transforms.Grayscale(num_output_channels=3), \r\n",
        "                       transforms.ToTensor(),\r\n",
        "                       transforms.Normalize((0.5, 0.5, 0.5), (0.5, 0.5, 0.5))\r\n",
        "                   ])),\r\n",
        "    batch_size=args.batch_size, drop_last=True, shuffle=True, **kwargs)\r\n",
        "\r\n",
        "mnist_test_loader = torch.utils.data.DataLoader(\r\n",
        "    datasets.MNIST('./data/data_mnist', train=False, download=True,\r\n",
        "                  transform=transforms.Compose([\r\n",
        "                       transforms.Resize((32,32)),\r\n",
        "                       transforms.Grayscale(num_output_channels=3), \r\n",
        "                       transforms.ToTensor(),\r\n",
        "                       transforms.Normalize((0.5, 0.5, 0.5), (0.5, 0.5, 0.5))\r\n",
        "                   ])),\r\n",
        "    batch_size=args.test_batch_size, drop_last=True, shuffle=True, **kwargs)"
      ],
      "execution_count": 7,
      "outputs": [
        {
          "output_type": "stream",
          "text": [
            "Using downloaded and verified file: ./data/data_svhn/train_32x32.mat\n",
            "Downloading http://ufldl.stanford.edu/housenumbers/test_32x32.mat to ./data/data_svhn/test_32x32.mat\n"
          ],
          "name": "stdout"
        },
        {
          "output_type": "display_data",
          "data": {
            "application/vnd.jupyter.widget-view+json": {
              "model_id": "4d1aaae1434e4444b8173ad1b0f1844d",
              "version_minor": 0,
              "version_major": 2
            },
            "text/plain": [
              "HBox(children=(FloatProgress(value=1.0, bar_style='info', max=1.0), HTML(value='')))"
            ]
          },
          "metadata": {
            "tags": []
          }
        },
        {
          "output_type": "stream",
          "text": [
            "Downloading http://yann.lecun.com/exdb/mnist/train-images-idx3-ubyte.gz to ./data/data_mnist/MNIST/raw/train-images-idx3-ubyte.gz\n"
          ],
          "name": "stdout"
        },
        {
          "output_type": "display_data",
          "data": {
            "application/vnd.jupyter.widget-view+json": {
              "model_id": "1ecf97ef1640461b93ee476f514ff35c",
              "version_minor": 0,
              "version_major": 2
            },
            "text/plain": [
              "HBox(children=(FloatProgress(value=1.0, bar_style='info', max=1.0), HTML(value='')))"
            ]
          },
          "metadata": {
            "tags": []
          }
        },
        {
          "output_type": "stream",
          "text": [
            "Extracting ./data/data_mnist/MNIST/raw/train-images-idx3-ubyte.gz to ./data/data_mnist/MNIST/raw\n",
            "Downloading http://yann.lecun.com/exdb/mnist/train-labels-idx1-ubyte.gz to ./data/data_mnist/MNIST/raw/train-labels-idx1-ubyte.gz\n"
          ],
          "name": "stdout"
        },
        {
          "output_type": "display_data",
          "data": {
            "application/vnd.jupyter.widget-view+json": {
              "model_id": "78e080308f5d4ba6866e784e4f7c1f5f",
              "version_minor": 0,
              "version_major": 2
            },
            "text/plain": [
              "HBox(children=(FloatProgress(value=1.0, bar_style='info', max=1.0), HTML(value='')))"
            ]
          },
          "metadata": {
            "tags": []
          }
        },
        {
          "output_type": "stream",
          "text": [
            "Extracting ./data/data_mnist/MNIST/raw/train-labels-idx1-ubyte.gz to ./data/data_mnist/MNIST/raw\n",
            "Downloading http://yann.lecun.com/exdb/mnist/t10k-images-idx3-ubyte.gz to ./data/data_mnist/MNIST/raw/t10k-images-idx3-ubyte.gz\n"
          ],
          "name": "stdout"
        },
        {
          "output_type": "display_data",
          "data": {
            "application/vnd.jupyter.widget-view+json": {
              "model_id": "c786f6aa1c7843f1b12b24dcc89e33ce",
              "version_minor": 0,
              "version_major": 2
            },
            "text/plain": [
              "HBox(children=(FloatProgress(value=1.0, bar_style='info', max=1.0), HTML(value='')))"
            ]
          },
          "metadata": {
            "tags": []
          }
        },
        {
          "output_type": "stream",
          "text": [
            "Extracting ./data/data_mnist/MNIST/raw/t10k-images-idx3-ubyte.gz to ./data/data_mnist/MNIST/raw\n",
            "Downloading http://yann.lecun.com/exdb/mnist/t10k-labels-idx1-ubyte.gz to ./data/data_mnist/MNIST/raw/t10k-labels-idx1-ubyte.gz\n",
            "\n",
            "\n",
            "\n"
          ],
          "name": "stdout"
        },
        {
          "output_type": "display_data",
          "data": {
            "application/vnd.jupyter.widget-view+json": {
              "model_id": "ac91670b965d4b7da8242d17b21ff71f",
              "version_minor": 0,
              "version_major": 2
            },
            "text/plain": [
              "HBox(children=(FloatProgress(value=1.0, bar_style='info', max=1.0), HTML(value='')))"
            ]
          },
          "metadata": {
            "tags": []
          }
        },
        {
          "output_type": "stream",
          "text": [
            "Extracting ./data/data_mnist/MNIST/raw/t10k-labels-idx1-ubyte.gz to ./data/data_mnist/MNIST/raw\n",
            "Processing...\n",
            "Done!\n"
          ],
          "name": "stdout"
        }
      ]
    },
    {
      "cell_type": "markdown",
      "metadata": {
        "id": "E4sAsbiXb9OF"
      },
      "source": [
        "# MNIST  classifier trained on SVHN"
      ]
    },
    {
      "cell_type": "code",
      "metadata": {
        "id": "H_B0V6MrhGlT"
      },
      "source": [
        ""
      ],
      "execution_count": null,
      "outputs": []
    },
    {
      "cell_type": "markdown",
      "metadata": {
        "id": "tDyKDq0xhG1P"
      },
      "source": [
        "### Our neural net"
      ]
    },
    {
      "cell_type": "code",
      "metadata": {
        "id": "ot3S2-v5b2k_"
      },
      "source": [
        "class ConvNet(nn.Module):\r\n",
        "  def __init__(self):\r\n",
        "    super(ConvNet, self).__init__()\r\n",
        "    self.layer1 = nn.Sequential(\r\n",
        "        nn.Conv2d(3, 32, kernel_size = 5, stride = 1, padding = 0),\r\n",
        "        nn.ReLU(),\r\n",
        "        nn.MaxPool2d(kernel_size = 2,stride = 2)\r\n",
        "        )\r\n",
        "    self.layer2 = nn.Sequential(\r\n",
        "        nn.Conv2d(32, 64,kernel_size = 5, stride = 1, padding = 2),\r\n",
        "        nn.ReLU(),\r\n",
        "        nn.MaxPool2d(kernel_size = 2, stride = 2)\r\n",
        "        )\r\n",
        "    self.drop_out = nn.Dropout()\r\n",
        "    self.fc1 = nn.Linear(7*7*64,1000)\r\n",
        "    self.fc2 = nn.Linear(1000, 10)\r\n",
        "\r\n",
        "  def forward(self, x):\r\n",
        "    out = self.layer1(x)\r\n",
        "    out = self.layer2(out)\r\n",
        "    out = out.reshape(out.size(0), -1)    \r\n",
        "    out = self.drop_out(out)\r\n",
        "    out = self.fc1(out)\r\n",
        "    out = self.fc2(out)\r\n",
        "    return out"
      ],
      "execution_count": 35,
      "outputs": []
    },
    {
      "cell_type": "code",
      "metadata": {
        "id": "1wHgMVHib2mK"
      },
      "source": [
        "#  initializing the model\r\n",
        "# model hyperparameters\r\n",
        "num_epochs = 5\r\n",
        "num_classes = 10\r\n",
        "learning_rate = 0.001\r\n",
        "\r\n",
        "model = ConvNet()\r\n",
        "model = model.to(device)\r\n",
        "criterion = nn.CrossEntropyLoss()\r\n",
        "optimizer = torch.optim.Adam(model.parameters(), lr = learning_rate)"
      ],
      "execution_count": 36,
      "outputs": []
    },
    {
      "cell_type": "code",
      "metadata": {
        "colab": {
          "base_uri": "https://localhost:8080/"
        },
        "id": "BvExspmkb2p2",
        "outputId": "7eeeb35a-5eb7-4a0f-c4fd-eacfc63d81ee"
      },
      "source": [
        "# Training the model\r\n",
        "totalsteps = len(mnist_train_loader)\r\n",
        "losslist = []\r\n",
        "accuracylist = []\r\n",
        "for epoch in range(num_epochs):\r\n",
        "  for i, (images, labels) in enumerate(mnist_train_loader):\r\n",
        "    images, labels = images.to(device), labels.to(device)\r\n",
        "    # FORWARD PROP, model(images) automatically calls forward\r\n",
        "    outputs = model(images)\r\n",
        "    loss = criterion(outputs, labels)\r\n",
        "    losslist.append(loss.item())\r\n",
        "\r\n",
        "    # BACK PROP\r\n",
        "    # make the gradients zero\r\n",
        "    optimizer.zero_grad() \r\n",
        "    # perform the backward propagation and get the gradients\r\n",
        "    loss.backward()\r\n",
        "    # adam optimizer training step . We use the gradients in this step\r\n",
        "    optimizer.step()\r\n",
        "\r\n",
        "    # Accuracy\r\n",
        "    # Note we take batch_size amounts of y's at a time\r\n",
        "    total = labels.size(0)\r\n",
        "    predicted = torch.max(outputs.data,1)[1]\r\n",
        "    correct = (predicted == labels).sum().item()\r\n",
        "    accuracy = correct / total\r\n",
        "    accuracylist.append(accuracy)\r\n",
        "\r\n",
        "    # item() is used for getting the scalar from a tensor\r\n",
        "    if(i + 1) % 100 == 0:\r\n",
        "      print('Epoch [{}/{}], Step [{}/{}], Loss: {:.4f}, Accuracy: {:.2f}%'.format(epoch + 1, num_epochs, i+1, totalsteps, loss.item(),(accuracy)*100 ))"
      ],
      "execution_count": 37,
      "outputs": [
        {
          "output_type": "stream",
          "text": [
            "Epoch [1/5], Step [100/468], Loss: 0.1393, Accuracy: 96.09%\n",
            "Epoch [1/5], Step [200/468], Loss: 0.1346, Accuracy: 95.31%\n",
            "Epoch [1/5], Step [300/468], Loss: 0.0584, Accuracy: 97.66%\n",
            "Epoch [1/5], Step [400/468], Loss: 0.1355, Accuracy: 96.88%\n",
            "Epoch [2/5], Step [100/468], Loss: 0.0878, Accuracy: 96.88%\n",
            "Epoch [2/5], Step [200/468], Loss: 0.0272, Accuracy: 99.22%\n",
            "Epoch [2/5], Step [300/468], Loss: 0.0566, Accuracy: 98.44%\n",
            "Epoch [2/5], Step [400/468], Loss: 0.0377, Accuracy: 98.44%\n",
            "Epoch [3/5], Step [100/468], Loss: 0.0252, Accuracy: 99.22%\n",
            "Epoch [3/5], Step [200/468], Loss: 0.0168, Accuracy: 99.22%\n",
            "Epoch [3/5], Step [300/468], Loss: 0.0565, Accuracy: 99.22%\n",
            "Epoch [3/5], Step [400/468], Loss: 0.0502, Accuracy: 98.44%\n",
            "Epoch [4/5], Step [100/468], Loss: 0.0655, Accuracy: 99.22%\n",
            "Epoch [4/5], Step [200/468], Loss: 0.0676, Accuracy: 96.88%\n",
            "Epoch [4/5], Step [300/468], Loss: 0.0090, Accuracy: 99.22%\n",
            "Epoch [4/5], Step [400/468], Loss: 0.0032, Accuracy: 100.00%\n",
            "Epoch [5/5], Step [100/468], Loss: 0.0420, Accuracy: 98.44%\n",
            "Epoch [5/5], Step [200/468], Loss: 0.0968, Accuracy: 98.44%\n",
            "Epoch [5/5], Step [300/468], Loss: 0.0634, Accuracy: 96.88%\n",
            "Epoch [5/5], Step [400/468], Loss: 0.0118, Accuracy: 100.00%\n"
          ],
          "name": "stdout"
        }
      ]
    },
    {
      "cell_type": "code",
      "metadata": {
        "colab": {
          "base_uri": "https://localhost:8080/"
        },
        "id": "DLBU7FvAhVXs",
        "outputId": "d67b1421-ff49-4ffa-8f42-07fee54475a1"
      },
      "source": [
        "model.eval()\r\n",
        "with torch.no_grad():\r\n",
        "  correct = 0\r\n",
        "  total = 0\r\n",
        "  for images, labels in mnist_test_loader:\r\n",
        "    images, labels = images.to(device), labels.to(device)\r\n",
        "    outputs = model(images)\r\n",
        "    predicted = torch.max(outputs.data,1)[1]\r\n",
        "    total += labels.size(0)\r\n",
        "    correct += (predicted == labels).sum().item()\r\n",
        "\r\n",
        "  print('Test Accuracy for 10K test images = {} %'.format((correct/total)*100))\r\n",
        "\r\n",
        "  # torch.save(model.state_dict(), './MODEL_STORE/MNIST_conve_nets.ckpt')"
      ],
      "execution_count": 38,
      "outputs": [
        {
          "output_type": "stream",
          "text": [
            "Test Accuracy for 10K test images = 99.25 %\n"
          ],
          "name": "stdout"
        }
      ]
    },
    {
      "cell_type": "code",
      "metadata": {
        "colab": {
          "base_uri": "https://localhost:8080/",
          "height": 352
        },
        "id": "DX6_o3I0hVhY",
        "outputId": "519e5979-392c-4d6f-84e8-fdb9627bd738"
      },
      "source": [
        "import matplotlib.pyplot as plt\r\n",
        "plt.plot(losslist, color = 'green', linewidth = 0.3, label = 'error')\r\n",
        "plt.plot(accuracylist, color = 'red', linewidth = 0.3, label = 'accuracy')\r\n",
        "plt.xlabel('Iterations', fontsize = 20)\r\n",
        "plt.ylabel('ACCURACY/ERROR', fontsize = 20)\r\n",
        "plt.xlim(0,2000)\r\n",
        "plt.ylim(0,1.05)\r\n",
        "plt.legend(fontsize = 20)\r\n",
        "plt.xticks(fontsize = 20)\r\n",
        "plt.yticks(fontsize = 20)\r\n",
        "\r\n",
        "figure = plt.gcf()\r\n",
        "figure.set_size_inches(10, 5)\r\n",
        "plt.show()\r\n"
      ],
      "execution_count": 39,
      "outputs": [
        {
          "output_type": "display_data",
          "data": {
            "image/png": "[encoded data removed]",
            "text/plain": [
              "<Figure size 720x360 with 1 Axes>"
            ]
          },
          "metadata": {
            "tags": [],
            "needs_background": "light"
          }
        }
      ]
    },
    {
      "cell_type": "code",
      "metadata": {
        "id": "MeiLL4YthVin"
      },
      "source": [
        ""
      ],
      "execution_count": 39,
      "outputs": []
    },
    {
      "cell_type": "markdown",
      "metadata": {
        "id": "Wbg8A8GoipPe"
      },
      "source": [
        "### Testing on SVHN"
      ]
    },
    {
      "cell_type": "code",
      "metadata": {
        "colab": {
          "base_uri": "https://localhost:8080/"
        },
        "id": "fJe9MI4qhVj1",
        "outputId": "de29d78f-45a8-4c73-81f7-4d8b25ca6692"
      },
      "source": [
        "model.eval()\r\n",
        "correct = 0\r\n",
        "total = 0\r\n",
        "with torch.no_grad():\r\n",
        "  for images, labels in svhn_test_loader:\r\n",
        "    images, labels = images.to(device), labels.to(device)\r\n",
        "    outputs = model(images)\r\n",
        "    predicted = torch.max(outputs.data,1)[1]\r\n",
        "    total += labels.size(0)\r\n",
        "    correct += (predicted == labels).sum().item()\r\n",
        "\r\n",
        "  print('Test Accuracy for {} test images = {} %'.format(total, ( correct/total)*100))"
      ],
      "execution_count": 40,
      "outputs": [
        {
          "output_type": "stream",
          "text": [
            "Test Accuracy for 26000 test images = 22.46153846153846 %\n"
          ],
          "name": "stdout"
        }
      ]
    },
    {
      "cell_type": "code",
      "metadata": {
        "id": "RWsGQ5behVlO"
      },
      "source": [
        ""
      ],
      "execution_count": 40,
      "outputs": []
    },
    {
      "cell_type": "code",
      "metadata": {
        "id": "LwZmkGWYpW5m"
      },
      "source": [
        ""
      ],
      "execution_count": 40,
      "outputs": []
    },
    {
      "cell_type": "code",
      "metadata": {
        "id": "cNgHHHE9pW-9"
      },
      "source": [
        ""
      ],
      "execution_count": 40,
      "outputs": []
    },
    {
      "cell_type": "code",
      "metadata": {
        "id": "dVKkcQ25pXAd"
      },
      "source": [
        ""
      ],
      "execution_count": 40,
      "outputs": []
    },
    {
      "cell_type": "markdown",
      "metadata": {
        "id": "zstnZ6eppX9i"
      },
      "source": [
        "# SVHN  classifier trained on mnist"
      ]
    },
    {
      "cell_type": "code",
      "metadata": {
        "id": "sH5T8brCpX9p"
      },
      "source": [
        ""
      ],
      "execution_count": 40,
      "outputs": []
    },
    {
      "cell_type": "markdown",
      "metadata": {
        "id": "7qReV6NrpX9q"
      },
      "source": [
        "### Our neural net"
      ]
    },
    {
      "cell_type": "code",
      "metadata": {
        "id": "VAvIsw_epX9q"
      },
      "source": [
        "class ConvNet(nn.Module):\r\n",
        "  def __init__(self):\r\n",
        "    super(ConvNet, self).__init__()\r\n",
        "    self.layer1 = nn.Sequential(\r\n",
        "        nn.Conv2d(3, 32, kernel_size = 5, stride = 1, padding = 0),\r\n",
        "        nn.ReLU(),\r\n",
        "        nn.MaxPool2d(kernel_size = 2,stride = 2)\r\n",
        "        )\r\n",
        "    self.layer2 = nn.Sequential(\r\n",
        "        nn.Conv2d(32, 64,kernel_size = 5, stride = 1, padding = 2),\r\n",
        "        nn.ReLU(),\r\n",
        "        nn.MaxPool2d(kernel_size = 2, stride = 2)\r\n",
        "        )\r\n",
        "    self.drop_out = nn.Dropout()\r\n",
        "    self.fc1 = nn.Linear(7*7*64,1000)\r\n",
        "    self.fc2 = nn.Linear(1000, 10)\r\n",
        "\r\n",
        "  def forward(self, x):\r\n",
        "    out = self.layer1(x)\r\n",
        "    out = self.layer2(out)\r\n",
        "    out = out.reshape(out.size(0), -1)    \r\n",
        "    out = self.drop_out(out)\r\n",
        "    out = self.fc1(out)\r\n",
        "    out = self.fc2(out)\r\n",
        "    return out"
      ],
      "execution_count": 41,
      "outputs": []
    },
    {
      "cell_type": "code",
      "metadata": {
        "id": "XNeMduKapX9q"
      },
      "source": [
        "#  initializing the model\r\n",
        "# model hyperparameters\r\n",
        "num_epochs = 5\r\n",
        "num_classes = 10\r\n",
        "learning_rate = 0.001\r\n",
        "\r\n",
        "model = ConvNet()\r\n",
        "model = model.to(device)\r\n",
        "criterion = nn.CrossEntropyLoss()\r\n",
        "optimizer = torch.optim.Adam(model.parameters(), lr = learning_rate)"
      ],
      "execution_count": 42,
      "outputs": []
    },
    {
      "cell_type": "code",
      "metadata": {
        "colab": {
          "base_uri": "https://localhost:8080/"
        },
        "id": "TGSKw4SXpX9q",
        "outputId": "77105e29-891e-49db-b945-be34054d8d9b"
      },
      "source": [
        "# Training the model\r\n",
        "totalsteps = len(mnist_train_loader)\r\n",
        "losslist = []\r\n",
        "accuracylist = []\r\n",
        "for epoch in range(num_epochs):\r\n",
        "  for i, (images, labels) in enumerate(svhn_train_loader):\r\n",
        "    images, labels = images.to(device), labels.to(device)\r\n",
        "    # FORWARD PROP, model(images) automatically calls forward\r\n",
        "    outputs = model(images)\r\n",
        "    loss = criterion(outputs, labels)\r\n",
        "    losslist.append(loss.item())\r\n",
        "\r\n",
        "    # BACK PROP\r\n",
        "    # make the gradients zero\r\n",
        "    optimizer.zero_grad() \r\n",
        "    # perform the backward propagation and get the gradients\r\n",
        "    loss.backward()\r\n",
        "    # adam optimizer training step . We use the gradients in this step\r\n",
        "    optimizer.step()\r\n",
        "\r\n",
        "    # Accuracy\r\n",
        "    # Note we take batch_size amounts of y's at a time\r\n",
        "    total = labels.size(0)\r\n",
        "    predicted = torch.max(outputs.data,1)[1]\r\n",
        "    correct = (predicted == labels).sum().item()\r\n",
        "    accuracy = correct / total\r\n",
        "    accuracylist.append(accuracy)\r\n",
        "\r\n",
        "    # item() is used for getting the scalar from a tensor\r\n",
        "    if(i + 1) % 100 == 0:\r\n",
        "      print('Epoch [{}/{}], Step [{}/{}], Loss: {:.4f}, Accuracy: {:.2f}%'.format(epoch + 1, num_epochs, i+1, totalsteps, loss.item(),(accuracy)*100 ))"
      ],
      "execution_count": 43,
      "outputs": [
        {
          "output_type": "stream",
          "text": [
            "Epoch [1/5], Step [100/468], Loss: 1.2171, Accuracy: 60.94%\n",
            "Epoch [1/5], Step [200/468], Loss: 1.0219, Accuracy: 68.75%\n",
            "Epoch [1/5], Step [300/468], Loss: 0.7406, Accuracy: 80.47%\n",
            "Epoch [1/5], Step [400/468], Loss: 0.6884, Accuracy: 77.34%\n",
            "Epoch [1/5], Step [500/468], Loss: 0.8107, Accuracy: 77.34%\n",
            "Epoch [2/5], Step [100/468], Loss: 0.6203, Accuracy: 79.69%\n",
            "Epoch [2/5], Step [200/468], Loss: 0.5908, Accuracy: 85.16%\n",
            "Epoch [2/5], Step [300/468], Loss: 0.5883, Accuracy: 80.47%\n",
            "Epoch [2/5], Step [400/468], Loss: 0.5509, Accuracy: 82.03%\n",
            "Epoch [2/5], Step [500/468], Loss: 0.6237, Accuracy: 78.91%\n",
            "Epoch [3/5], Step [100/468], Loss: 0.4212, Accuracy: 89.06%\n",
            "Epoch [3/5], Step [200/468], Loss: 0.5305, Accuracy: 87.50%\n",
            "Epoch [3/5], Step [300/468], Loss: 0.6213, Accuracy: 79.69%\n",
            "Epoch [3/5], Step [400/468], Loss: 0.6352, Accuracy: 83.59%\n",
            "Epoch [3/5], Step [500/468], Loss: 0.7409, Accuracy: 81.25%\n",
            "Epoch [4/5], Step [100/468], Loss: 0.5317, Accuracy: 84.38%\n",
            "Epoch [4/5], Step [200/468], Loss: 0.5991, Accuracy: 85.16%\n",
            "Epoch [4/5], Step [300/468], Loss: 0.6284, Accuracy: 80.47%\n",
            "Epoch [4/5], Step [400/468], Loss: 0.3688, Accuracy: 92.19%\n",
            "Epoch [4/5], Step [500/468], Loss: 0.4956, Accuracy: 82.81%\n",
            "Epoch [5/5], Step [100/468], Loss: 0.5352, Accuracy: 79.69%\n",
            "Epoch [5/5], Step [200/468], Loss: 0.5333, Accuracy: 81.25%\n",
            "Epoch [5/5], Step [300/468], Loss: 0.3555, Accuracy: 87.50%\n",
            "Epoch [5/5], Step [400/468], Loss: 0.4947, Accuracy: 84.38%\n",
            "Epoch [5/5], Step [500/468], Loss: 0.4886, Accuracy: 83.59%\n"
          ],
          "name": "stdout"
        }
      ]
    },
    {
      "cell_type": "code",
      "metadata": {
        "colab": {
          "base_uri": "https://localhost:8080/"
        },
        "id": "8VYizb_MpX9r",
        "outputId": "1d112ef5-d952-480b-fe47-3f543d7d83a7"
      },
      "source": [
        "## Testing SVHN classifier on SVHN test data\r\n",
        "\r\n",
        "correct = 0\r\n",
        "total = 0\r\n",
        "model.eval()\r\n",
        "with torch.no_grad():\r\n",
        "  for images, labels in svhn_test_loader:\r\n",
        "    images, labels = images.to(device), labels.to(device)\r\n",
        "    outputs = model(images)\r\n",
        "    predicted = torch.max(outputs.data,1)[1]\r\n",
        "    total += labels.size(0)\r\n",
        "    correct += (predicted == labels).sum().item()\r\n",
        "\r\n",
        "  print('Test Accuracy for {} test images = {} %'.format(total, (correct/total)*100))\r\n",
        "\r\n",
        "  # torch.save(model.state_dict(), './MODEL_STORE/MNIST_conve_nets.ckpt')"
      ],
      "execution_count": 44,
      "outputs": [
        {
          "output_type": "stream",
          "text": [
            "Test Accuracy for 26000 test images = 88.07692307692308 %\n"
          ],
          "name": "stdout"
        }
      ]
    },
    {
      "cell_type": "code",
      "metadata": {
        "colab": {
          "base_uri": "https://localhost:8080/",
          "height": 352
        },
        "id": "B3Cdf3B8pX9r",
        "outputId": "e38df65b-04bb-4637-af42-4ee2e5af29e3"
      },
      "source": [
        "import matplotlib.pyplot as plt\r\n",
        "plt.plot(losslist, color = 'green', linewidth = 0.3, label = 'error')\r\n",
        "plt.plot(accuracylist, color = 'red', linewidth = 0.3, label = 'accuracy')\r\n",
        "plt.xlabel('Iterations', fontsize = 20)\r\n",
        "plt.ylabel('ACCURACY/ERROR', fontsize = 20)\r\n",
        "plt.xlim(0,2000)\r\n",
        "plt.ylim(0,1.05)\r\n",
        "plt.legend(fontsize = 20)\r\n",
        "plt.xticks(fontsize = 20)\r\n",
        "plt.yticks(fontsize = 20)\r\n",
        "\r\n",
        "figure = plt.gcf()\r\n",
        "figure.set_size_inches(10, 5)\r\n",
        "plt.show()\r\n"
      ],
      "execution_count": 45,
      "outputs": [
        {
          "output_type": "display_data",
          "data": {
            "image/png": "[encoded data removed]",
            "text/plain": [
              "<Figure size 720x360 with 1 Axes>"
            ]
          },
          "metadata": {
            "tags": [],
            "needs_background": "light"
          }
        }
      ]
    },
    {
      "cell_type": "code",
      "metadata": {
        "id": "gDZMpWhepX9s"
      },
      "source": [
        ""
      ],
      "execution_count": 45,
      "outputs": []
    },
    {
      "cell_type": "markdown",
      "metadata": {
        "id": "1fdvRPTypX9s"
      },
      "source": [
        "### Testing on MNIST"
      ]
    },
    {
      "cell_type": "code",
      "metadata": {
        "colab": {
          "base_uri": "https://localhost:8080/"
        },
        "id": "v_G4jPD1pX9s",
        "outputId": "6c8705c6-bc1b-42fd-f085-d90a6d427e91"
      },
      "source": [
        "model.eval()\r\n",
        "correct = 0\r\n",
        "total = 0\r\n",
        "with torch.no_grad():\r\n",
        "  for images, labels in mnist_test_loader:\r\n",
        "    images, labels = images.to(device), labels.to(device)\r\n",
        "    outputs = model(images)\r\n",
        "    predicted = torch.max(outputs.data,1)[1]\r\n",
        "    total += labels.size(0)\r\n",
        "    correct += (predicted == labels).sum().item()\r\n",
        "\r\n",
        "  print('Test Accuracy for {} test images = {} %'.format(total, ( correct/total)*100))"
      ],
      "execution_count": 46,
      "outputs": [
        {
          "output_type": "stream",
          "text": [
            "Test Accuracy for 10000 test images = 57.21000000000001 %\n"
          ],
          "name": "stdout"
        }
      ]
    },
    {
      "cell_type": "code",
      "metadata": {
        "id": "xK8RxgiLpXBs"
      },
      "source": [
        ""
      ],
      "execution_count": null,
      "outputs": []
    },
    {
      "cell_type": "code",
      "metadata": {
        "id": "dhz3ZmU3pXEa"
      },
      "source": [
        ""
      ],
      "execution_count": null,
      "outputs": []
    },
    {
      "cell_type": "code",
      "metadata": {
        "id": "mWTtCCBOpXF4"
      },
      "source": [
        ""
      ],
      "execution_count": null,
      "outputs": []
    },
    {
      "cell_type": "markdown",
      "metadata": {
        "id": "_tw8QLnQyuOK"
      },
      "source": [
        "# UDA\r\n",
        "We will try to approaches\r\n",
        "\r\n",
        "1.   Using cycle gan\r\n",
        "2.   Implementing \"Maximum Classifier Discrepancy for Unsupervised Domain Adaptation\""
      ]
    },
    {
      "cell_type": "code",
      "metadata": {
        "id": "DnwYLYgxyrpS"
      },
      "source": [
        ""
      ],
      "execution_count": null,
      "outputs": []
    },
    {
      "cell_type": "code",
      "metadata": {
        "id": "RUB60abBryI5"
      },
      "source": [
        "\r\n"
      ],
      "execution_count": 1,
      "outputs": []
    },
    {
      "cell_type": "code",
      "metadata": {
        "id": "OqHzJ-BJxgBm"
      },
      "source": [
        ""
      ],
      "execution_count": 1,
      "outputs": []
    },
    {
      "cell_type": "markdown",
      "metadata": {
        "id": "b9jY0yD6xggf"
      },
      "source": [
        "# Load both MNIST and SVHN datasets\r\n",
        "Transformations are copied from the internet"
      ]
    },
    {
      "cell_type": "code",
      "metadata": {
        "colab": {
          "base_uri": "https://localhost:8080/",
          "height": 464,
          "referenced_widgets": [
            "43d5a6f6af574bf4805663f02a113494",
            "796092e2cba744159a0d40e17c0795ce",
            "a98a0f14f49d4a90852121a8baf3846e",
            "90d95cd3295c42ec9943916d49786abe",
            "565e6781d06043d59553a8e71a04359a",
            "8ed471e001644785a524a599ff1119c2",
            "eeded61e71144b9f8c775bc478757297",
            "d9eb4d24971b4ebe8f864fc328c564ae",
            "a1231b3d3f1f4ed1b495c474af186417",
            "d789a9f5db104070ba7aade401eac811",
            "996ec68bb4f848ffa7dbb8b1b698fdef",
            "a31f96c513484c4683f00f5f0dbca8d6",
            "fa363a5bdb5c42e1b9cf75c9e8afa3dc",
            "f0f8d92010f84cfca1a2b959e93a2983",
            "b6dafff30a5e40dc834455d2829dd742",
            "095e84314de74f3dacd534c537311985",
            "a75f81c9892c411d8a30015605a0cb8c",
            "28f984867bdf4c4b951ebb345809f380",
            "b6e323eb53f046fb8746f22a9371dac4",
            "2d891f5ac5c5416bb4ab2cbf485f348f",
            "e252124145ba425fa972bdb91223c17d",
            "c9541e400f9a40de861c672396e92c74",
            "37660027c7a74d7da902dbbe22cb62ae",
            "f38ad679ff93474aaa11242866822d83",
            "f5123e81b3844886a676cc5dd3ed8b30",
            "a8d1293f905e4806bcdf4ca2baec32eb",
            "28311cf730b747cd8cbfec20cb4b872f",
            "dc2acf72c11c4dd1938c81a215aa33ea",
            "3984d0190c7543ac9ab42dc57ce77e9a",
            "bbbb23215bdd4cf58701dfff0f3d47a4",
            "5b680e24f2704ddabd4cf7b523f46ef4",
            "8b0c40a050194b65a2d07baba75042ba",
            "d4ea370d6ed74908b5821b0c31191df9",
            "a7a8309a901d438794631e1d0dc9b27c",
            "fe589f9921da456fab04a80568ac0018",
            "53ac2b46961446b396acdac445002c9e",
            "60c8db308ea44c92b9568ad610fe1175",
            "04da8b05804146d0a4bc4f5196ea2c23",
            "9eba159e667042ffbe48e79313cea71a",
            "5c5cac63109746fba982b3a1569471ff",
            "de08d69502084c77bf9d1efe02579553",
            "58ea64272a3a4bbea1d8fc0dc44f8207",
            "c057bf10ca40458c9017958a344d8d7b",
            "584c60d5fbf943bbaaa563aa8c00ccac",
            "1ff9a0ed56ad4ef58328cca48316c195",
            "38e1771ef1984486a3fc993843f9754d",
            "b89396778a164793b9cddf93a1fd5c68",
            "5f7265f518734a09bf8ecc3ce7a49142"
          ]
        },
        "id": "GJsvDYpKxim-",
        "outputId": "0c7eb3c3-221f-40d2-847c-619794eaae82"
      },
      "source": [
        "svhn_train_loader = torch.utils.data.DataLoader(\r\n",
        "    datasets.SVHN('./data/data_svhn', split='train', download=True,\r\n",
        "                   transform=transforms.Compose([\r\n",
        "                       transforms.ToTensor(),\r\n",
        "                       transforms.Normalize((0.5, 0.5, 0.5), (0.5, 0.5, 0.5))\r\n",
        "                   ])),\r\n",
        "    batch_size=args.batch_size, drop_last=True, shuffle=True, **kwargs)\r\n",
        "\r\n",
        "svhn_test_loader = torch.utils.data.DataLoader(\r\n",
        "    datasets.SVHN('./data/data_svhn', split='test', download=True,\r\n",
        "                  transform=transforms.Compose([\r\n",
        "                       transforms.ToTensor(),\r\n",
        "                       transforms.Normalize((0.5, 0.5, 0.5), (0.5, 0.5, 0.5))\r\n",
        "                   ])),\r\n",
        "    batch_size=args.test_batch_size, drop_last=True, shuffle=True, **kwargs)\r\n",
        "\r\n",
        "mnist_train_loader = torch.utils.data.DataLoader(\r\n",
        "    datasets.MNIST('./data/data_mnist', train=True, download=True,\r\n",
        "                  transform=transforms.Compose([\r\n",
        "                       transforms.Resize((32,32)),\r\n",
        "                       transforms.Grayscale(num_output_channels=3), \r\n",
        "                       transforms.ToTensor(),\r\n",
        "                       transforms.Normalize((0.5, 0.5, 0.5), (0.5, 0.5, 0.5))\r\n",
        "                   ])),\r\n",
        "    batch_size=args.batch_size, drop_last=True, shuffle=True, **kwargs)\r\n",
        "\r\n",
        "mnist_test_loader = torch.utils.data.DataLoader(\r\n",
        "    datasets.MNIST('./data/data_mnist', train=False, download=True,\r\n",
        "                  transform=transforms.Compose([\r\n",
        "                       transforms.Resize((32,32)),\r\n",
        "                       transforms.Grayscale(num_output_channels=3), \r\n",
        "                       transforms.ToTensor(),\r\n",
        "                       transforms.Normalize((0.5, 0.5, 0.5), (0.5, 0.5, 0.5))\r\n",
        "                   ])),\r\n",
        "    batch_size=args.test_batch_size, drop_last=True, shuffle=True, **kwargs)"
      ],
      "execution_count": 2,
      "outputs": [
        {
          "output_type": "stream",
          "text": [
            "Downloading http://ufldl.stanford.edu/housenumbers/train_32x32.mat to ./data/data_svhn/train_32x32.mat\n"
          ],
          "name": "stdout"
        },
        {
          "output_type": "display_data",
          "data": {
            "application/vnd.jupyter.widget-view+json": {
              "model_id": "43d5a6f6af574bf4805663f02a113494",
              "version_minor": 0,
              "version_major": 2
            },
            "text/plain": [
              "HBox(children=(FloatProgress(value=1.0, bar_style='info', max=1.0), HTML(value='')))"
            ]
          },
          "metadata": {
            "tags": []
          }
        },
        {
          "output_type": "stream",
          "text": [
            "\n",
            "Downloading http://ufldl.stanford.edu/housenumbers/test_32x32.mat to ./data/data_svhn/test_32x32.mat\n"
          ],
          "name": "stdout"
        },
        {
          "output_type": "display_data",
          "data": {
            "application/vnd.jupyter.widget-view+json": {
              "model_id": "a1231b3d3f1f4ed1b495c474af186417",
              "version_minor": 0,
              "version_major": 2
            },
            "text/plain": [
              "HBox(children=(FloatProgress(value=1.0, bar_style='info', max=1.0), HTML(value='')))"
            ]
          },
          "metadata": {
            "tags": []
          }
        },
        {
          "output_type": "stream",
          "text": [
            "Downloading http://yann.lecun.com/exdb/mnist/train-images-idx3-ubyte.gz to ./data/data_mnist/MNIST/raw/train-images-idx3-ubyte.gz\n"
          ],
          "name": "stdout"
        },
        {
          "output_type": "display_data",
          "data": {
            "application/vnd.jupyter.widget-view+json": {
              "model_id": "a75f81c9892c411d8a30015605a0cb8c",
              "version_minor": 0,
              "version_major": 2
            },
            "text/plain": [
              "HBox(children=(FloatProgress(value=1.0, bar_style='info', max=1.0), HTML(value='')))"
            ]
          },
          "metadata": {
            "tags": []
          }
        },
        {
          "output_type": "stream",
          "text": [
            "Extracting ./data/data_mnist/MNIST/raw/train-images-idx3-ubyte.gz to ./data/data_mnist/MNIST/raw\n",
            "Downloading http://yann.lecun.com/exdb/mnist/train-labels-idx1-ubyte.gz to ./data/data_mnist/MNIST/raw/train-labels-idx1-ubyte.gz\n",
            "\n",
            "\n"
          ],
          "name": "stdout"
        },
        {
          "output_type": "display_data",
          "data": {
            "application/vnd.jupyter.widget-view+json": {
              "model_id": "f5123e81b3844886a676cc5dd3ed8b30",
              "version_minor": 0,
              "version_major": 2
            },
            "text/plain": [
              "HBox(children=(FloatProgress(value=1.0, bar_style='info', max=1.0), HTML(value='')))"
            ]
          },
          "metadata": {
            "tags": []
          }
        },
        {
          "output_type": "stream",
          "text": [
            "Extracting ./data/data_mnist/MNIST/raw/train-labels-idx1-ubyte.gz to ./data/data_mnist/MNIST/raw\n",
            "Downloading http://yann.lecun.com/exdb/mnist/t10k-images-idx3-ubyte.gz to ./data/data_mnist/MNIST/raw/t10k-images-idx3-ubyte.gz\n"
          ],
          "name": "stdout"
        },
        {
          "output_type": "display_data",
          "data": {
            "application/vnd.jupyter.widget-view+json": {
              "model_id": "d4ea370d6ed74908b5821b0c31191df9",
              "version_minor": 0,
              "version_major": 2
            },
            "text/plain": [
              "HBox(children=(FloatProgress(value=1.0, bar_style='info', max=1.0), HTML(value='')))"
            ]
          },
          "metadata": {
            "tags": []
          }
        },
        {
          "output_type": "stream",
          "text": [
            "Extracting ./data/data_mnist/MNIST/raw/t10k-images-idx3-ubyte.gz to ./data/data_mnist/MNIST/raw\n",
            "Downloading http://yann.lecun.com/exdb/mnist/t10k-labels-idx1-ubyte.gz to ./data/data_mnist/MNIST/raw/t10k-labels-idx1-ubyte.gz\n"
          ],
          "name": "stdout"
        },
        {
          "output_type": "display_data",
          "data": {
            "application/vnd.jupyter.widget-view+json": {
              "model_id": "de08d69502084c77bf9d1efe02579553",
              "version_minor": 0,
              "version_major": 2
            },
            "text/plain": [
              "HBox(children=(FloatProgress(value=1.0, bar_style='info', max=1.0), HTML(value='')))"
            ]
          },
          "metadata": {
            "tags": []
          }
        },
        {
          "output_type": "stream",
          "text": [
            "Extracting ./data/data_mnist/MNIST/raw/t10k-labels-idx1-ubyte.gz to ./data/data_mnist/MNIST/raw\n",
            "Processing...\n",
            "Done!\n"
          ],
          "name": "stdout"
        }
      ]
    },
    {
      "cell_type": "code",
      "metadata": {
        "id": "2oyhQ2JIx7C_"
      },
      "source": [
        ""
      ],
      "execution_count": 2,
      "outputs": []
    },
    {
      "cell_type": "markdown",
      "metadata": {
        "id": "SkvqPa3yypgF"
      },
      "source": [
        "GENERATOR"
      ]
    },
    {
      "cell_type": "code",
      "metadata": {
        "id": "tOkYOUJ8yqbP",
        "colab": {
          "base_uri": "https://localhost:8080/"
        },
        "outputId": "bc81c7a0-8a5e-48ce-d61b-57fb3b66cb0c"
      },
      "source": [
        "class Feature(nn.Module):\r\n",
        "    def __init__(self):\r\n",
        "        super(Feature, self).__init__()\r\n",
        "        self.conv1 = nn.Conv2d(3, 64, kernel_size=5, stride=1, padding=2)\r\n",
        "        self.bn1 = nn.BatchNorm2d(64)\r\n",
        "        self.conv2 = nn.Conv2d(64, 64, kernel_size=5, stride=1, padding=2)\r\n",
        "        self.bn2 = nn.BatchNorm2d(64)\r\n",
        "        self.conv3 = nn.Conv2d(64, 128, kernel_size=5, stride=1, padding=2)\r\n",
        "        self.bn3 = nn.BatchNorm2d(128)\r\n",
        "        self.fc1 = nn.Linear(8192, 3072)\r\n",
        "        self.bn1_fc = nn.BatchNorm1d(3072)\r\n",
        "\r\n",
        "    def forward(self, x):\r\n",
        "        x = F.max_pool2d(F.relu(self.bn1(self.conv1(x))), stride=2, kernel_size=3, padding=1)\r\n",
        "        x = F.max_pool2d(F.relu(self.bn2(self.conv2(x))), stride=2, kernel_size=3, padding=1)\r\n",
        "        x = F.relu(self.bn3(self.conv3(x)))\r\n",
        "        x = x.view(x.size(0), 8192)\r\n",
        "        x = F.relu(self.bn1_fc(self.fc1(x)))\r\n",
        "        x = F.dropout(x, training=self.training)\r\n",
        "        return x"
      ],
      "execution_count": 3,
      "outputs": [
        {
          "output_type": "stream",
          "text": [
            "\n",
            "\n"
          ],
          "name": "stdout"
        }
      ]
    },
    {
      "cell_type": "code",
      "metadata": {
        "id": "mA-qQ1WnyrEU"
      },
      "source": [
        ""
      ],
      "execution_count": 3,
      "outputs": []
    },
    {
      "cell_type": "code",
      "metadata": {
        "id": "aA-PAnsvzYr4"
      },
      "source": [
        ""
      ],
      "execution_count": 3,
      "outputs": []
    },
    {
      "cell_type": "markdown",
      "metadata": {
        "id": "u4ca-NVJzaOs"
      },
      "source": [
        "Network for classifiers F1 and F2 in paper"
      ]
    },
    {
      "cell_type": "code",
      "metadata": {
        "id": "n6hYfpDozcmH"
      },
      "source": [
        "class Predictor(nn.Module):\r\n",
        "    def __init__(self, prob=0.5):\r\n",
        "        super(Predictor, self).__init__()\r\n",
        "        # self.fc1 = nn.Linear(8192, 3072)\r\n",
        "        # self.bn1_fc = nn.BatchNorm1d(3072)\r\n",
        "        self.fc2 = nn.Linear(3072, 2048)\r\n",
        "        self.bn2_fc = nn.BatchNorm1d(2048)\r\n",
        "        self.fc3 = nn.Linear(2048, 10)\r\n",
        "        self.bn_fc3 = nn.BatchNorm1d(10)\r\n",
        "        self.prob = prob\r\n",
        "\r\n",
        "    def forward(self, x):\r\n",
        "        x = F.relu(self.bn2_fc(self.fc2(x)))\r\n",
        "        x = self.fc3(x)\r\n",
        "        return x"
      ],
      "execution_count": 4,
      "outputs": []
    },
    {
      "cell_type": "code",
      "metadata": {
        "id": "SwOsUU_Pz7E_"
      },
      "source": [
        ""
      ],
      "execution_count": 4,
      "outputs": []
    },
    {
      "cell_type": "code",
      "metadata": {
        "id": "o44rfKLYz7HU"
      },
      "source": [
        ""
      ],
      "execution_count": 4,
      "outputs": []
    },
    {
      "cell_type": "code",
      "metadata": {
        "id": "5_DoyDuIz7JY"
      },
      "source": [
        ""
      ],
      "execution_count": 4,
      "outputs": []
    },
    {
      "cell_type": "code",
      "metadata": {
        "id": "DsAMeNpKz1v8"
      },
      "source": [
        "def init_weights(m):\r\n",
        "    if type(m) == nn.Conv2d:\r\n",
        "        nn.init.xavier_normal(m.weight)\r\n",
        "    if type(m) == nn.Linear:\r\n",
        "        nn.init.xavier_normal(m.weight)"
      ],
      "execution_count": 5,
      "outputs": []
    },
    {
      "cell_type": "code",
      "metadata": {
        "id": "wFLPlY5FztC3"
      },
      "source": [
        "G = Feature().apply(init_weights).to(device)\r\n",
        "C1 = Predictor().apply(init_weights).to(device)\r\n",
        "C2 = Predictor().apply(init_weights).to(device)"
      ],
      "execution_count": 6,
      "outputs": []
    },
    {
      "cell_type": "code",
      "metadata": {
        "id": "aURKQsUCz3vw"
      },
      "source": [
        "opt_G = optim.Adam(G.parameters(),lr=args.lr, weight_decay=0.0005)\r\n",
        "opt_C1 = optim.Adam(C1.parameters(), lr=args.lr, weight_decay=0.0005)\r\n",
        "opt_C2 = optim.Adam(C2.parameters(), lr=args.lr, weight_decay=0.0005)\r\n",
        "criterion = nn.CrossEntropyLoss()"
      ],
      "execution_count": 7,
      "outputs": []
    },
    {
      "cell_type": "code",
      "metadata": {
        "id": "w60FOYj5z9jT"
      },
      "source": [
        ""
      ],
      "execution_count": 7,
      "outputs": []
    },
    {
      "cell_type": "code",
      "metadata": {
        "id": "Gk8c1rEQz9lS"
      },
      "source": [
        ""
      ],
      "execution_count": 7,
      "outputs": []
    },
    {
      "cell_type": "markdown",
      "metadata": {
        "id": "mCEtXNPez947"
      },
      "source": [
        "# Training\r\n",
        "we have MNIST train images, its labels and SVHN train images "
      ]
    },
    {
      "cell_type": "code",
      "metadata": {
        "id": "2YiZeapJz-uX"
      },
      "source": [
        "def train():\r\n",
        "    G.train()\r\n",
        "    C1.train()\r\n",
        "    C2.train()\r\n",
        "    \r\n",
        "    def reset_grad():\r\n",
        "        opt_G.zero_grad()\r\n",
        "        opt_C1.zero_grad()\r\n",
        "        opt_C2.zero_grad()\r\n",
        "    \r\n",
        "    def discrepancy(out1, out2):\r\n",
        "        return torch.mean(torch.abs(F.softmax(out1)- F.softmax(out2)))\r\n",
        "\r\n",
        "    data_zip = enumerate(zip(svhn_train_loader, mnist_train_loader))\r\n",
        "    for batch_idx, ((img_s, label_s), (img_t,_)) in data_zip:\r\n",
        "        img_t = img_t.to(device)\r\n",
        "        img_s = img_s.to(device)\r\n",
        "        label_s = label_s.to(device)\r\n",
        "        \r\n",
        "        reset_grad()\r\n",
        "        feat_s = G(img_s)\r\n",
        "        output_s1 = C1(feat_s)\r\n",
        "        output_s2 = C2(feat_s)\r\n",
        "        \r\n",
        "        loss_s1 = criterion(output_s1, label_s)\r\n",
        "        loss_s2 = criterion(output_s2, label_s)\r\n",
        "        loss_s = loss_s1 + loss_s2\r\n",
        "        \r\n",
        "        loss_s.backward()\r\n",
        "        opt_G.step()\r\n",
        "        opt_C1.step()\r\n",
        "        opt_C2.step()\r\n",
        "        \r\n",
        "        reset_grad()\r\n",
        "        feat_s = G(img_s)\r\n",
        "        output_s1 = C1(feat_s)\r\n",
        "        output_s2 = C2(feat_s)\r\n",
        "        feat_t = G(img_t)\r\n",
        "        output_t1 = C1(feat_t)\r\n",
        "        output_t2 = C2(feat_t)\r\n",
        "        \r\n",
        "        loss_s1 = criterion(output_s1, label_s)\r\n",
        "        loss_s2 = criterion(output_s2, label_s)\r\n",
        "        loss_s = loss_s1 + loss_s2\r\n",
        "        loss_dis = discrepancy(output_t1, output_t2)\r\n",
        "        loss = loss_s - loss_dis\r\n",
        "        \r\n",
        "        loss.backward()\r\n",
        "        opt_C1.step()\r\n",
        "        opt_C2.step()\r\n",
        "        \r\n",
        "        reset_grad()\r\n",
        "        \r\n",
        "        for i in range(args.num_k):\r\n",
        "            feature_t = G(img_t)\r\n",
        "            output_t1 = C1(feature_t)\r\n",
        "            output_t2 = C2(feature_t)\r\n",
        "            loss_dis = discrepancy(output_t1, output_t2)\r\n",
        "            loss_dis.backward()\r\n",
        "            opt_G.step()\r\n",
        "            reset_grad()\r\n",
        "        \r\n",
        "        if (batch_idx + 1) % args.log_interval == 0:\r\n",
        "            print(\"Epoch: {}/{} [{}/{}]: Loss1: {:.5f}, Loss2: {:.5f}, Discrepancy: {:.5f}\"\r\n",
        "                 .format(epoch + 1, args.epochs, batch_idx + 1, min(len(svhn_train_loader), len(mnist_train_loader)), \r\n",
        "                         loss_s1.item(), loss_s2.item(), loss_dis.item()))"
      ],
      "execution_count": 9,
      "outputs": []
    },
    {
      "cell_type": "code",
      "metadata": {
        "id": "LuSNnSRp07YY"
      },
      "source": [
        ""
      ],
      "execution_count": 9,
      "outputs": []
    },
    {
      "cell_type": "markdown",
      "metadata": {
        "id": "wTC3dhm507wg"
      },
      "source": [
        "# Testing network on MNIST test samples as well as SVHN test samples"
      ]
    },
    {
      "cell_type": "code",
      "metadata": {
        "id": "GLXuatJS0_8v"
      },
      "source": [
        "list_acc_mnist_train = []\r\n",
        "list_acc_svhn_train = []\r\n",
        "list_acc_svhn_test = []\r\n",
        "\r\n",
        "def test():\r\n",
        "    G.eval()\r\n",
        "    C1.eval()\r\n",
        "    C2.eval()\r\n",
        "\r\n",
        "\r\n",
        "    correct = 0\r\n",
        "    \r\n",
        "    for (img_s, label_s) in mnist_test_loader:\r\n",
        "        img_s = img_s.to(device)\r\n",
        "        label_s = label_s.to(device)\r\n",
        "        \r\n",
        "        feat = G(img_s)\r\n",
        "        output1 = C1(feat)\r\n",
        "        output2 = C2(feat)\r\n",
        "        \r\n",
        "        output_ensemble = output1 + output2\r\n",
        "        pred_ensemble = output_ensemble.data.max(1)[1]\r\n",
        "        \r\n",
        "        correct += pred_ensemble.eq(label_s.data).cpu().sum()\r\n",
        "        \r\n",
        "    acc_mnist_train = 100. * correct / len(mnist_test_loader.dataset)\r\n",
        "    \r\n",
        "    \r\n",
        "    correct = 0\r\n",
        "    \r\n",
        "    for (img_s, label_s) in svhn_train_loader:\r\n",
        "        img_s = img_s.to(device)\r\n",
        "        label_s = label_s.to(device)\r\n",
        "        \r\n",
        "        feat = G(img_s)\r\n",
        "        output1 = C1(feat)\r\n",
        "        output2 = C2(feat)\r\n",
        "        \r\n",
        "        output_ensemble = output1 + output2\r\n",
        "        pred_ensemble = output_ensemble.data.max(1)[1]\r\n",
        "        \r\n",
        "        correct += pred_ensemble.eq(label_s.data).cpu().sum()\r\n",
        "    \r\n",
        "    acc_svhn_train = 100. * correct / len(svhn_train_loader.dataset)\r\n",
        "    \r\n",
        "    \r\n",
        "    correct = 0\r\n",
        "    \r\n",
        "    for (img_s, label_s) in svhn_test_loader:\r\n",
        "        img_s = img_s.to(device)\r\n",
        "        label_s = label_s.to(device)\r\n",
        "        \r\n",
        "        feat = G(img_s)\r\n",
        "        output1 = C1(feat)\r\n",
        "        output2 = C2(feat)\r\n",
        "        \r\n",
        "        output_ensemble = output1 + output2\r\n",
        "        pred_ensemble = output_ensemble.data.max(1)[1]\r\n",
        "        \r\n",
        "        correct += pred_ensemble.eq(label_s.data).cpu().sum()\r\n",
        "    \r\n",
        "    acc_svhn_test = 100. * correct / len(svhn_test_loader.dataset)\r\n",
        "        \r\n",
        "    print(\r\n",
        "        '\\nTest: MNIST Test: {:.0f}%, SVHN Train: {:.0f}%, SVHN Test: {:.0f}% \\n'.format(\r\n",
        "            acc_mnist_train, acc_svhn_train, acc_svhn_test))\r\n",
        "    list_acc_mnist_train.append(acc_mnist_train)\r\n",
        "    list_acc_svhn_train.append(acc_svhn_train)\r\n",
        "    list_acc_svhn_test.append(acc_svhn_test)"
      ],
      "execution_count": 10,
      "outputs": []
    },
    {
      "cell_type": "code",
      "metadata": {
        "colab": {
          "base_uri": "https://localhost:8080/",
          "height": 1000
        },
        "id": "0MuRwaE14ygM",
        "outputId": "64f75bb7-7101-4496-b298-841f13efdc7e"
      },
      "source": [
        "for epoch in range(args.epochs):\r\n",
        "    train()\r\n",
        "    test()"
      ],
      "execution_count": 11,
      "outputs": [
        {
          "output_type": "stream",
          "text": [
            "Epoch: 1/20 [100/468]: Loss1: 0.64785, Loss2: 0.64690, Discrepancy: 0.01059\n",
            "Epoch: 1/20 [200/468]: Loss1: 0.58602, Loss2: 0.60199, Discrepancy: 0.00826\n",
            "Epoch: 1/20 [300/468]: Loss1: 0.33028, Loss2: 0.31561, Discrepancy: 0.00713\n",
            "Epoch: 1/20 [400/468]: Loss1: 0.29785, Loss2: 0.29406, Discrepancy: 0.00778\n",
            "\n",
            "Test: MNIST Test: 78%, SVHN Train: 67%, SVHN Test: 66% \n",
            "\n",
            "Epoch: 2/20 [100/468]: Loss1: 0.24538, Loss2: 0.23748, Discrepancy: 0.00571\n",
            "Epoch: 2/20 [200/468]: Loss1: 0.23584, Loss2: 0.24984, Discrepancy: 0.00626\n",
            "Epoch: 2/20 [300/468]: Loss1: 0.29300, Loss2: 0.30139, Discrepancy: 0.00423\n",
            "Epoch: 2/20 [400/468]: Loss1: 0.16378, Loss2: 0.16637, Discrepancy: 0.00519\n",
            "\n",
            "Test: MNIST Test: 81%, SVHN Train: 63%, SVHN Test: 63% \n",
            "\n",
            "Epoch: 3/20 [100/468]: Loss1: 0.08406, Loss2: 0.08123, Discrepancy: 0.00382\n",
            "Epoch: 3/20 [200/468]: Loss1: 0.20878, Loss2: 0.18635, Discrepancy: 0.00318\n",
            "Epoch: 3/20 [300/468]: Loss1: 0.20220, Loss2: 0.19429, Discrepancy: 0.00357\n",
            "Epoch: 3/20 [400/468]: Loss1: 0.21638, Loss2: 0.20975, Discrepancy: 0.00462\n",
            "\n",
            "Test: MNIST Test: 84%, SVHN Train: 70%, SVHN Test: 70% \n",
            "\n",
            "Epoch: 4/20 [100/468]: Loss1: 0.36995, Loss2: 0.37792, Discrepancy: 0.00345\n",
            "Epoch: 4/20 [200/468]: Loss1: 0.13220, Loss2: 0.12407, Discrepancy: 0.00497\n",
            "Epoch: 4/20 [300/468]: Loss1: 0.10845, Loss2: 0.10281, Discrepancy: 0.00365\n",
            "Epoch: 4/20 [400/468]: Loss1: 0.24904, Loss2: 0.24933, Discrepancy: 0.00378\n",
            "\n",
            "Test: MNIST Test: 84%, SVHN Train: 69%, SVHN Test: 69% \n",
            "\n",
            "Epoch: 5/20 [100/468]: Loss1: 0.14498, Loss2: 0.14591, Discrepancy: 0.00199\n",
            "Epoch: 5/20 [200/468]: Loss1: 0.13980, Loss2: 0.14123, Discrepancy: 0.00244\n",
            "Epoch: 5/20 [300/468]: Loss1: 0.15192, Loss2: 0.14347, Discrepancy: 0.00301\n",
            "Epoch: 5/20 [400/468]: Loss1: 0.26547, Loss2: 0.28220, Discrepancy: 0.00286\n",
            "\n",
            "Test: MNIST Test: 85%, SVHN Train: 72%, SVHN Test: 70% \n",
            "\n",
            "Epoch: 6/20 [100/468]: Loss1: 0.28326, Loss2: 0.29308, Discrepancy: 0.00265\n",
            "Epoch: 6/20 [200/468]: Loss1: 0.14892, Loss2: 0.14745, Discrepancy: 0.00336\n",
            "Epoch: 6/20 [300/468]: Loss1: 0.13768, Loss2: 0.14610, Discrepancy: 0.00299\n",
            "Epoch: 6/20 [400/468]: Loss1: 0.16890, Loss2: 0.17454, Discrepancy: 0.00439\n",
            "\n",
            "Test: MNIST Test: 87%, SVHN Train: 68%, SVHN Test: 67% \n",
            "\n",
            "Epoch: 7/20 [100/468]: Loss1: 0.17974, Loss2: 0.17619, Discrepancy: 0.00399\n",
            "Epoch: 7/20 [200/468]: Loss1: 0.24701, Loss2: 0.24186, Discrepancy: 0.00509\n",
            "Epoch: 7/20 [300/468]: Loss1: 0.16008, Loss2: 0.15802, Discrepancy: 0.00350\n",
            "Epoch: 7/20 [400/468]: Loss1: 0.12030, Loss2: 0.12167, Discrepancy: 0.00341\n",
            "\n",
            "Test: MNIST Test: 87%, SVHN Train: 71%, SVHN Test: 70% \n",
            "\n",
            "Epoch: 8/20 [100/468]: Loss1: 0.08328, Loss2: 0.09257, Discrepancy: 0.00337\n",
            "Epoch: 8/20 [200/468]: Loss1: 0.13185, Loss2: 0.14214, Discrepancy: 0.00360\n",
            "Epoch: 8/20 [300/468]: Loss1: 0.17094, Loss2: 0.16659, Discrepancy: 0.00417\n",
            "Epoch: 8/20 [400/468]: Loss1: 0.24410, Loss2: 0.24782, Discrepancy: 0.00349\n",
            "\n",
            "Test: MNIST Test: 89%, SVHN Train: 80%, SVHN Test: 78% \n",
            "\n",
            "Epoch: 9/20 [100/468]: Loss1: 0.22000, Loss2: 0.22142, Discrepancy: 0.00463\n",
            "Epoch: 9/20 [200/468]: Loss1: 0.13621, Loss2: 0.13231, Discrepancy: 0.00483\n",
            "Epoch: 9/20 [300/468]: Loss1: 0.21914, Loss2: 0.22072, Discrepancy: 0.00422\n",
            "Epoch: 9/20 [400/468]: Loss1: 0.10189, Loss2: 0.10255, Discrepancy: 0.00276\n",
            "\n",
            "Test: MNIST Test: 88%, SVHN Train: 70%, SVHN Test: 70% \n",
            "\n",
            "Epoch: 10/20 [100/468]: Loss1: 0.08652, Loss2: 0.08598, Discrepancy: 0.00343\n",
            "Epoch: 10/20 [200/468]: Loss1: 0.18496, Loss2: 0.18384, Discrepancy: 0.00269\n",
            "Epoch: 10/20 [300/468]: Loss1: 0.11893, Loss2: 0.11830, Discrepancy: 0.00348\n",
            "Epoch: 10/20 [400/468]: Loss1: 0.11338, Loss2: 0.11621, Discrepancy: 0.00401\n",
            "\n",
            "Test: MNIST Test: 88%, SVHN Train: 84%, SVHN Test: 82% \n",
            "\n"
          ],
          "name": "stdout"
        },
        {
          "output_type": "error",
          "ename": "KeyboardInterrupt",
          "evalue": "ignored",
          "traceback": [
            "\u001b[0;31m---------------------------------------------------------------------------\u001b[0m",
            "\u001b[0;31mKeyboardInterrupt\u001b[0m                         Traceback (most recent call last)",
            "\u001b[0;32m<ipython-input-11-5332b1f49970>\u001b[0m in \u001b[0;36m<module>\u001b[0;34m()\u001b[0m\n\u001b[1;32m      1\u001b[0m \u001b[0;32mfor\u001b[0m \u001b[0mepoch\u001b[0m \u001b[0;32min\u001b[0m \u001b[0mrange\u001b[0m\u001b[0;34m(\u001b[0m\u001b[0margs\u001b[0m\u001b[0;34m.\u001b[0m\u001b[0mepochs\u001b[0m\u001b[0;34m)\u001b[0m\u001b[0;34m:\u001b[0m\u001b[0;34m\u001b[0m\u001b[0;34m\u001b[0m\u001b[0m\n\u001b[0;32m----> 2\u001b[0;31m     \u001b[0mtrain\u001b[0m\u001b[0;34m(\u001b[0m\u001b[0;34m)\u001b[0m\u001b[0;34m\u001b[0m\u001b[0;34m\u001b[0m\u001b[0m\n\u001b[0m\u001b[1;32m      3\u001b[0m     \u001b[0mtest\u001b[0m\u001b[0;34m(\u001b[0m\u001b[0;34m)\u001b[0m\u001b[0;34m\u001b[0m\u001b[0;34m\u001b[0m\u001b[0m\n",
            "\u001b[0;32m<ipython-input-9-7bee21ed7e76>\u001b[0m in \u001b[0;36mtrain\u001b[0;34m()\u001b[0m\n\u001b[1;32m     14\u001b[0m     \u001b[0mdata_zip\u001b[0m \u001b[0;34m=\u001b[0m \u001b[0menumerate\u001b[0m\u001b[0;34m(\u001b[0m\u001b[0mzip\u001b[0m\u001b[0;34m(\u001b[0m\u001b[0msvhn_train_loader\u001b[0m\u001b[0;34m,\u001b[0m \u001b[0mmnist_train_loader\u001b[0m\u001b[0;34m)\u001b[0m\u001b[0;34m)\u001b[0m\u001b[0;34m\u001b[0m\u001b[0;34m\u001b[0m\u001b[0m\n\u001b[1;32m     15\u001b[0m     \u001b[0;32mfor\u001b[0m \u001b[0mbatch_idx\u001b[0m\u001b[0;34m,\u001b[0m \u001b[0;34m(\u001b[0m\u001b[0;34m(\u001b[0m\u001b[0mimg_s\u001b[0m\u001b[0;34m,\u001b[0m \u001b[0mlabel_s\u001b[0m\u001b[0;34m)\u001b[0m\u001b[0;34m,\u001b[0m \u001b[0;34m(\u001b[0m\u001b[0mimg_t\u001b[0m\u001b[0;34m,\u001b[0m\u001b[0m_\u001b[0m\u001b[0;34m)\u001b[0m\u001b[0;34m)\u001b[0m \u001b[0;32min\u001b[0m \u001b[0mdata_zip\u001b[0m\u001b[0;34m:\u001b[0m\u001b[0;34m\u001b[0m\u001b[0;34m\u001b[0m\u001b[0m\n\u001b[0;32m---> 16\u001b[0;31m         \u001b[0mimg_t\u001b[0m \u001b[0;34m=\u001b[0m \u001b[0mimg_t\u001b[0m\u001b[0;34m.\u001b[0m\u001b[0mto\u001b[0m\u001b[0;34m(\u001b[0m\u001b[0mdevice\u001b[0m\u001b[0;34m)\u001b[0m\u001b[0;34m\u001b[0m\u001b[0;34m\u001b[0m\u001b[0m\n\u001b[0m\u001b[1;32m     17\u001b[0m         \u001b[0mimg_s\u001b[0m \u001b[0;34m=\u001b[0m \u001b[0mimg_s\u001b[0m\u001b[0;34m.\u001b[0m\u001b[0mto\u001b[0m\u001b[0;34m(\u001b[0m\u001b[0mdevice\u001b[0m\u001b[0;34m)\u001b[0m\u001b[0;34m\u001b[0m\u001b[0;34m\u001b[0m\u001b[0m\n\u001b[1;32m     18\u001b[0m         \u001b[0mlabel_s\u001b[0m \u001b[0;34m=\u001b[0m \u001b[0mlabel_s\u001b[0m\u001b[0;34m.\u001b[0m\u001b[0mto\u001b[0m\u001b[0;34m(\u001b[0m\u001b[0mdevice\u001b[0m\u001b[0;34m)\u001b[0m\u001b[0;34m\u001b[0m\u001b[0;34m\u001b[0m\u001b[0m\n",
            "\u001b[0;31mKeyboardInterrupt\u001b[0m: "
          ]
        }
      ]
    },
    {
      "cell_type": "code",
      "metadata": {
        "id": "7Fdeslp46SC7",
        "colab": {
          "base_uri": "https://localhost:8080/",
          "height": 347
        },
        "outputId": "7ca6a0be-e55e-4d51-cb01-957b4a840b88"
      },
      "source": [
        "\r\n",
        "import matplotlib.pylab as pylab\r\n",
        "params = {'legend.fontsize': 'x-large',\r\n",
        "          'figure.figsize': (15, 5),\r\n",
        "         'axes.labelsize': 'x-large',\r\n",
        "         'axes.titlesize':'x-large',\r\n",
        "         'xtick.labelsize':'x-large',\r\n",
        "         'ytick.labelsize':'x-large'}\r\n",
        "pylab.rcParams.update(params)\r\n",
        "\r\n",
        "fig, ax = plt.subplots()\r\n",
        "ax.plot(range(1, epoch + 1), list_acc_svhn_test, c = 'b', label = 'svhn_test_acc', marker = '^')\r\n",
        "ax.plot(range(1, epoch + 1), list_acc_svhn_train, c = 'r', label = 'svhn_train_acc', marker = 'o')\r\n",
        "ax.plot(range(1, epoch + 1), list_acc_mnist_train, label = 'mnist_test_acc', marker = '*', c = 'g')\r\n",
        "\r\n",
        "ax.legend()\r\n",
        "ax.set(xlabel='epoch', ylabel='accuracy (%)')\r\n",
        "ax.set_ylim(0, 100)\r\n",
        "\r\n",
        "plt.xticks(range(1, epoch + 1))\r\n",
        "figure = plt.gcf()\r\n",
        "figure.set_size_inches(10, 5)\r\n",
        "plt.show()"
      ],
      "execution_count": 34,
      "outputs": [
        {
          "output_type": "display_data",
          "data": {
            "image/png": "[encoded data removed]",
            "text/plain": [
              "<Figure size 720x360 with 1 Axes>"
            ]
          },
          "metadata": {
            "tags": [],
            "needs_background": "light"
          }
        }
      ]
    },
    {
      "cell_type": "code",
      "metadata": {
        "id": "ktxSaMHTL2co"
      },
      "source": [
        ""
      ],
      "execution_count": null,
      "outputs": []
    }
  ]
}