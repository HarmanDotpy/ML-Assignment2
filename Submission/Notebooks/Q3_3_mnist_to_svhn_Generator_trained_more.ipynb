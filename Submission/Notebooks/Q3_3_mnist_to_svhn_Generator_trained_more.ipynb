{
  "nbformat": 4,
  "nbformat_minor": 0,
  "metadata": {
    "colab": {
      "name": "Q3.3 mnist-to_svhn_Generator_trained_more.ipynb",
      "provenance": [],
      "collapsed_sections": [],
      "toc_visible": true,
      "authorship_tag": "ABX9TyO2oaCLbnUfm8xU2xSn0yow",
      "include_colab_link": true
    },
    "kernelspec": {
      "name": "python3",
      "display_name": "Python 3"
    },
    "accelerator": "GPU",
    "widgets": {
      "application/vnd.jupyter.widget-state+json": {
        "012a4ff91ad94c9b8725875d7e99a34a": {
          "model_module": "@jupyter-widgets/controls",
          "model_name": "HBoxModel",
          "state": {
            "_view_name": "HBoxView",
            "_dom_classes": [],
            "_model_name": "HBoxModel",
            "_view_module": "@jupyter-widgets/controls",
            "_model_module_version": "1.5.0",
            "_view_count": null,
            "_view_module_version": "1.5.0",
            "box_style": "",
            "layout": "IPY_MODEL_87aa3c79909543f984903eb30b4fbdfa",
            "_model_module": "@jupyter-widgets/controls",
            "children": [
              "IPY_MODEL_185202d6399c4f43aed6ab6621cc4e7d",
              "IPY_MODEL_a333903e7b2c4b0e9f3bf1aec5283e92"
            ]
          }
        },
        "87aa3c79909543f984903eb30b4fbdfa": {
          "model_module": "@jupyter-widgets/base",
          "model_name": "LayoutModel",
          "state": {
            "_view_name": "LayoutView",
            "grid_template_rows": null,
            "right": null,
            "justify_content": null,
            "_view_module": "@jupyter-widgets/base",
            "overflow": null,
            "_model_module_version": "1.2.0",
            "_view_count": null,
            "flex_flow": null,
            "width": null,
            "min_width": null,
            "border": null,
            "align_items": null,
            "bottom": null,
            "_model_module": "@jupyter-widgets/base",
            "top": null,
            "grid_column": null,
            "overflow_y": null,
            "overflow_x": null,
            "grid_auto_flow": null,
            "grid_area": null,
            "grid_template_columns": null,
            "flex": null,
            "_model_name": "LayoutModel",
            "justify_items": null,
            "grid_row": null,
            "max_height": null,
            "align_content": null,
            "visibility": null,
            "align_self": null,
            "height": null,
            "min_height": null,
            "padding": null,
            "grid_auto_rows": null,
            "grid_gap": null,
            "max_width": null,
            "order": null,
            "_view_module_version": "1.2.0",
            "grid_template_areas": null,
            "object_position": null,
            "object_fit": null,
            "grid_auto_columns": null,
            "margin": null,
            "display": null,
            "left": null
          }
        },
        "185202d6399c4f43aed6ab6621cc4e7d": {
          "model_module": "@jupyter-widgets/controls",
          "model_name": "FloatProgressModel",
          "state": {
            "_view_name": "ProgressView",
            "style": "IPY_MODEL_0335ff893a014b81ae55b5ff993b95da",
            "_dom_classes": [],
            "description": "",
            "_model_name": "FloatProgressModel",
            "bar_style": "success",
            "max": 1,
            "_view_module": "@jupyter-widgets/controls",
            "_model_module_version": "1.5.0",
            "value": 1,
            "_view_count": null,
            "_view_module_version": "1.5.0",
            "orientation": "horizontal",
            "min": 0,
            "description_tooltip": null,
            "_model_module": "@jupyter-widgets/controls",
            "layout": "IPY_MODEL_52d600ca0ade4856bfd6a9b5ec0e4807"
          }
        },
        "a333903e7b2c4b0e9f3bf1aec5283e92": {
          "model_module": "@jupyter-widgets/controls",
          "model_name": "HTMLModel",
          "state": {
            "_view_name": "HTMLView",
            "style": "IPY_MODEL_e3da3b618c24491d99ed27ce9912f886",
            "_dom_classes": [],
            "description": "",
            "_model_name": "HTMLModel",
            "placeholder": "​",
            "_view_module": "@jupyter-widgets/controls",
            "_model_module_version": "1.5.0",
            "value": " 182042624/? [00:03&lt;00:00, 48649070.76it/s]",
            "_view_count": null,
            "_view_module_version": "1.5.0",
            "description_tooltip": null,
            "_model_module": "@jupyter-widgets/controls",
            "layout": "IPY_MODEL_0390258067874f51a4835d10b857376a"
          }
        },
        "0335ff893a014b81ae55b5ff993b95da": {
          "model_module": "@jupyter-widgets/controls",
          "model_name": "ProgressStyleModel",
          "state": {
            "_view_name": "StyleView",
            "_model_name": "ProgressStyleModel",
            "description_width": "initial",
            "_view_module": "@jupyter-widgets/base",
            "_model_module_version": "1.5.0",
            "_view_count": null,
            "_view_module_version": "1.2.0",
            "bar_color": null,
            "_model_module": "@jupyter-widgets/controls"
          }
        },
        "52d600ca0ade4856bfd6a9b5ec0e4807": {
          "model_module": "@jupyter-widgets/base",
          "model_name": "LayoutModel",
          "state": {
            "_view_name": "LayoutView",
            "grid_template_rows": null,
            "right": null,
            "justify_content": null,
            "_view_module": "@jupyter-widgets/base",
            "overflow": null,
            "_model_module_version": "1.2.0",
            "_view_count": null,
            "flex_flow": null,
            "width": null,
            "min_width": null,
            "border": null,
            "align_items": null,
            "bottom": null,
            "_model_module": "@jupyter-widgets/base",
            "top": null,
            "grid_column": null,
            "overflow_y": null,
            "overflow_x": null,
            "grid_auto_flow": null,
            "grid_area": null,
            "grid_template_columns": null,
            "flex": null,
            "_model_name": "LayoutModel",
            "justify_items": null,
            "grid_row": null,
            "max_height": null,
            "align_content": null,
            "visibility": null,
            "align_self": null,
            "height": null,
            "min_height": null,
            "padding": null,
            "grid_auto_rows": null,
            "grid_gap": null,
            "max_width": null,
            "order": null,
            "_view_module_version": "1.2.0",
            "grid_template_areas": null,
            "object_position": null,
            "object_fit": null,
            "grid_auto_columns": null,
            "margin": null,
            "display": null,
            "left": null
          }
        },
        "e3da3b618c24491d99ed27ce9912f886": {
          "model_module": "@jupyter-widgets/controls",
          "model_name": "DescriptionStyleModel",
          "state": {
            "_view_name": "StyleView",
            "_model_name": "DescriptionStyleModel",
            "description_width": "",
            "_view_module": "@jupyter-widgets/base",
            "_model_module_version": "1.5.0",
            "_view_count": null,
            "_view_module_version": "1.2.0",
            "_model_module": "@jupyter-widgets/controls"
          }
        },
        "0390258067874f51a4835d10b857376a": {
          "model_module": "@jupyter-widgets/base",
          "model_name": "LayoutModel",
          "state": {
            "_view_name": "LayoutView",
            "grid_template_rows": null,
            "right": null,
            "justify_content": null,
            "_view_module": "@jupyter-widgets/base",
            "overflow": null,
            "_model_module_version": "1.2.0",
            "_view_count": null,
            "flex_flow": null,
            "width": null,
            "min_width": null,
            "border": null,
            "align_items": null,
            "bottom": null,
            "_model_module": "@jupyter-widgets/base",
            "top": null,
            "grid_column": null,
            "overflow_y": null,
            "overflow_x": null,
            "grid_auto_flow": null,
            "grid_area": null,
            "grid_template_columns": null,
            "flex": null,
            "_model_name": "LayoutModel",
            "justify_items": null,
            "grid_row": null,
            "max_height": null,
            "align_content": null,
            "visibility": null,
            "align_self": null,
            "height": null,
            "min_height": null,
            "padding": null,
            "grid_auto_rows": null,
            "grid_gap": null,
            "max_width": null,
            "order": null,
            "_view_module_version": "1.2.0",
            "grid_template_areas": null,
            "object_position": null,
            "object_fit": null,
            "grid_auto_columns": null,
            "margin": null,
            "display": null,
            "left": null
          }
        },
        "8d8c82f9a1234ca888d8045027803d7c": {
          "model_module": "@jupyter-widgets/controls",
          "model_name": "HBoxModel",
          "state": {
            "_view_name": "HBoxView",
            "_dom_classes": [],
            "_model_name": "HBoxModel",
            "_view_module": "@jupyter-widgets/controls",
            "_model_module_version": "1.5.0",
            "_view_count": null,
            "_view_module_version": "1.5.0",
            "box_style": "",
            "layout": "IPY_MODEL_1175de1a496f45118257c3be9ac0d45e",
            "_model_module": "@jupyter-widgets/controls",
            "children": [
              "IPY_MODEL_ded8c298510241738256629240f0dd3f",
              "IPY_MODEL_a54035743dab44a592442271385cd3a7"
            ]
          }
        },
        "1175de1a496f45118257c3be9ac0d45e": {
          "model_module": "@jupyter-widgets/base",
          "model_name": "LayoutModel",
          "state": {
            "_view_name": "LayoutView",
            "grid_template_rows": null,
            "right": null,
            "justify_content": null,
            "_view_module": "@jupyter-widgets/base",
            "overflow": null,
            "_model_module_version": "1.2.0",
            "_view_count": null,
            "flex_flow": null,
            "width": null,
            "min_width": null,
            "border": null,
            "align_items": null,
            "bottom": null,
            "_model_module": "@jupyter-widgets/base",
            "top": null,
            "grid_column": null,
            "overflow_y": null,
            "overflow_x": null,
            "grid_auto_flow": null,
            "grid_area": null,
            "grid_template_columns": null,
            "flex": null,
            "_model_name": "LayoutModel",
            "justify_items": null,
            "grid_row": null,
            "max_height": null,
            "align_content": null,
            "visibility": null,
            "align_self": null,
            "height": null,
            "min_height": null,
            "padding": null,
            "grid_auto_rows": null,
            "grid_gap": null,
            "max_width": null,
            "order": null,
            "_view_module_version": "1.2.0",
            "grid_template_areas": null,
            "object_position": null,
            "object_fit": null,
            "grid_auto_columns": null,
            "margin": null,
            "display": null,
            "left": null
          }
        },
        "ded8c298510241738256629240f0dd3f": {
          "model_module": "@jupyter-widgets/controls",
          "model_name": "FloatProgressModel",
          "state": {
            "_view_name": "ProgressView",
            "style": "IPY_MODEL_c57797262a2b4abbbf7cbbd9a4699d2a",
            "_dom_classes": [],
            "description": "",
            "_model_name": "FloatProgressModel",
            "bar_style": "success",
            "max": 1,
            "_view_module": "@jupyter-widgets/controls",
            "_model_module_version": "1.5.0",
            "value": 1,
            "_view_count": null,
            "_view_module_version": "1.5.0",
            "orientation": "horizontal",
            "min": 0,
            "description_tooltip": null,
            "_model_module": "@jupyter-widgets/controls",
            "layout": "IPY_MODEL_4ef8d86fcc76437fbf180cb48bb537c0"
          }
        },
        "a54035743dab44a592442271385cd3a7": {
          "model_module": "@jupyter-widgets/controls",
          "model_name": "HTMLModel",
          "state": {
            "_view_name": "HTMLView",
            "style": "IPY_MODEL_a3b4a03b597c4031bcf84ad31668f84d",
            "_dom_classes": [],
            "description": "",
            "_model_name": "HTMLModel",
            "placeholder": "​",
            "_view_module": "@jupyter-widgets/controls",
            "_model_module_version": "1.5.0",
            "value": " 64282624/? [00:03&lt;00:00, 17541957.36it/s]",
            "_view_count": null,
            "_view_module_version": "1.5.0",
            "description_tooltip": null,
            "_model_module": "@jupyter-widgets/controls",
            "layout": "IPY_MODEL_ee387cf37c0e49b7aafe24bdf3b62ecf"
          }
        },
        "c57797262a2b4abbbf7cbbd9a4699d2a": {
          "model_module": "@jupyter-widgets/controls",
          "model_name": "ProgressStyleModel",
          "state": {
            "_view_name": "StyleView",
            "_model_name": "ProgressStyleModel",
            "description_width": "initial",
            "_view_module": "@jupyter-widgets/base",
            "_model_module_version": "1.5.0",
            "_view_count": null,
            "_view_module_version": "1.2.0",
            "bar_color": null,
            "_model_module": "@jupyter-widgets/controls"
          }
        },
        "4ef8d86fcc76437fbf180cb48bb537c0": {
          "model_module": "@jupyter-widgets/base",
          "model_name": "LayoutModel",
          "state": {
            "_view_name": "LayoutView",
            "grid_template_rows": null,
            "right": null,
            "justify_content": null,
            "_view_module": "@jupyter-widgets/base",
            "overflow": null,
            "_model_module_version": "1.2.0",
            "_view_count": null,
            "flex_flow": null,
            "width": null,
            "min_width": null,
            "border": null,
            "align_items": null,
            "bottom": null,
            "_model_module": "@jupyter-widgets/base",
            "top": null,
            "grid_column": null,
            "overflow_y": null,
            "overflow_x": null,
            "grid_auto_flow": null,
            "grid_area": null,
            "grid_template_columns": null,
            "flex": null,
            "_model_name": "LayoutModel",
            "justify_items": null,
            "grid_row": null,
            "max_height": null,
            "align_content": null,
            "visibility": null,
            "align_self": null,
            "height": null,
            "min_height": null,
            "padding": null,
            "grid_auto_rows": null,
            "grid_gap": null,
            "max_width": null,
            "order": null,
            "_view_module_version": "1.2.0",
            "grid_template_areas": null,
            "object_position": null,
            "object_fit": null,
            "grid_auto_columns": null,
            "margin": null,
            "display": null,
            "left": null
          }
        },
        "a3b4a03b597c4031bcf84ad31668f84d": {
          "model_module": "@jupyter-widgets/controls",
          "model_name": "DescriptionStyleModel",
          "state": {
            "_view_name": "StyleView",
            "_model_name": "DescriptionStyleModel",
            "description_width": "",
            "_view_module": "@jupyter-widgets/base",
            "_model_module_version": "1.5.0",
            "_view_count": null,
            "_view_module_version": "1.2.0",
            "_model_module": "@jupyter-widgets/controls"
          }
        },
        "ee387cf37c0e49b7aafe24bdf3b62ecf": {
          "model_module": "@jupyter-widgets/base",
          "model_name": "LayoutModel",
          "state": {
            "_view_name": "LayoutView",
            "grid_template_rows": null,
            "right": null,
            "justify_content": null,
            "_view_module": "@jupyter-widgets/base",
            "overflow": null,
            "_model_module_version": "1.2.0",
            "_view_count": null,
            "flex_flow": null,
            "width": null,
            "min_width": null,
            "border": null,
            "align_items": null,
            "bottom": null,
            "_model_module": "@jupyter-widgets/base",
            "top": null,
            "grid_column": null,
            "overflow_y": null,
            "overflow_x": null,
            "grid_auto_flow": null,
            "grid_area": null,
            "grid_template_columns": null,
            "flex": null,
            "_model_name": "LayoutModel",
            "justify_items": null,
            "grid_row": null,
            "max_height": null,
            "align_content": null,
            "visibility": null,
            "align_self": null,
            "height": null,
            "min_height": null,
            "padding": null,
            "grid_auto_rows": null,
            "grid_gap": null,
            "max_width": null,
            "order": null,
            "_view_module_version": "1.2.0",
            "grid_template_areas": null,
            "object_position": null,
            "object_fit": null,
            "grid_auto_columns": null,
            "margin": null,
            "display": null,
            "left": null
          }
        },
        "5ff090433a3642adba028b86971b89be": {
          "model_module": "@jupyter-widgets/controls",
          "model_name": "HBoxModel",
          "state": {
            "_view_name": "HBoxView",
            "_dom_classes": [],
            "_model_name": "HBoxModel",
            "_view_module": "@jupyter-widgets/controls",
            "_model_module_version": "1.5.0",
            "_view_count": null,
            "_view_module_version": "1.5.0",
            "box_style": "",
            "layout": "IPY_MODEL_e1713914c9204061a201d6c3621e3ba7",
            "_model_module": "@jupyter-widgets/controls",
            "children": [
              "IPY_MODEL_a7e59fc110084d3fb72ca9d8bad7835d",
              "IPY_MODEL_9b0d5e377cf347ed8de68d1e13fc30a6"
            ]
          }
        },
        "e1713914c9204061a201d6c3621e3ba7": {
          "model_module": "@jupyter-widgets/base",
          "model_name": "LayoutModel",
          "state": {
            "_view_name": "LayoutView",
            "grid_template_rows": null,
            "right": null,
            "justify_content": null,
            "_view_module": "@jupyter-widgets/base",
            "overflow": null,
            "_model_module_version": "1.2.0",
            "_view_count": null,
            "flex_flow": null,
            "width": null,
            "min_width": null,
            "border": null,
            "align_items": null,
            "bottom": null,
            "_model_module": "@jupyter-widgets/base",
            "top": null,
            "grid_column": null,
            "overflow_y": null,
            "overflow_x": null,
            "grid_auto_flow": null,
            "grid_area": null,
            "grid_template_columns": null,
            "flex": null,
            "_model_name": "LayoutModel",
            "justify_items": null,
            "grid_row": null,
            "max_height": null,
            "align_content": null,
            "visibility": null,
            "align_self": null,
            "height": null,
            "min_height": null,
            "padding": null,
            "grid_auto_rows": null,
            "grid_gap": null,
            "max_width": null,
            "order": null,
            "_view_module_version": "1.2.0",
            "grid_template_areas": null,
            "object_position": null,
            "object_fit": null,
            "grid_auto_columns": null,
            "margin": null,
            "display": null,
            "left": null
          }
        },
        "a7e59fc110084d3fb72ca9d8bad7835d": {
          "model_module": "@jupyter-widgets/controls",
          "model_name": "FloatProgressModel",
          "state": {
            "_view_name": "ProgressView",
            "style": "IPY_MODEL_9af219f18d5149f08c5098254b0f017c",
            "_dom_classes": [],
            "description": "",
            "_model_name": "FloatProgressModel",
            "bar_style": "success",
            "max": 1,
            "_view_module": "@jupyter-widgets/controls",
            "_model_module_version": "1.5.0",
            "value": 1,
            "_view_count": null,
            "_view_module_version": "1.5.0",
            "orientation": "horizontal",
            "min": 0,
            "description_tooltip": null,
            "_model_module": "@jupyter-widgets/controls",
            "layout": "IPY_MODEL_5653737cd98240d3bd798ccf3935e0f3"
          }
        },
        "9b0d5e377cf347ed8de68d1e13fc30a6": {
          "model_module": "@jupyter-widgets/controls",
          "model_name": "HTMLModel",
          "state": {
            "_view_name": "HTMLView",
            "style": "IPY_MODEL_47ea4b3c6b534bc2aea0477b95aede77",
            "_dom_classes": [],
            "description": "",
            "_model_name": "HTMLModel",
            "placeholder": "​",
            "_view_module": "@jupyter-widgets/controls",
            "_model_module_version": "1.5.0",
            "value": " 9920512/? [00:01&lt;00:00, 7955617.02it/s]",
            "_view_count": null,
            "_view_module_version": "1.5.0",
            "description_tooltip": null,
            "_model_module": "@jupyter-widgets/controls",
            "layout": "IPY_MODEL_6ccf9ef98dac4b119a01a2b01b5ce7a7"
          }
        },
        "9af219f18d5149f08c5098254b0f017c": {
          "model_module": "@jupyter-widgets/controls",
          "model_name": "ProgressStyleModel",
          "state": {
            "_view_name": "StyleView",
            "_model_name": "ProgressStyleModel",
            "description_width": "initial",
            "_view_module": "@jupyter-widgets/base",
            "_model_module_version": "1.5.0",
            "_view_count": null,
            "_view_module_version": "1.2.0",
            "bar_color": null,
            "_model_module": "@jupyter-widgets/controls"
          }
        },
        "5653737cd98240d3bd798ccf3935e0f3": {
          "model_module": "@jupyter-widgets/base",
          "model_name": "LayoutModel",
          "state": {
            "_view_name": "LayoutView",
            "grid_template_rows": null,
            "right": null,
            "justify_content": null,
            "_view_module": "@jupyter-widgets/base",
            "overflow": null,
            "_model_module_version": "1.2.0",
            "_view_count": null,
            "flex_flow": null,
            "width": null,
            "min_width": null,
            "border": null,
            "align_items": null,
            "bottom": null,
            "_model_module": "@jupyter-widgets/base",
            "top": null,
            "grid_column": null,
            "overflow_y": null,
            "overflow_x": null,
            "grid_auto_flow": null,
            "grid_area": null,
            "grid_template_columns": null,
            "flex": null,
            "_model_name": "LayoutModel",
            "justify_items": null,
            "grid_row": null,
            "max_height": null,
            "align_content": null,
            "visibility": null,
            "align_self": null,
            "height": null,
            "min_height": null,
            "padding": null,
            "grid_auto_rows": null,
            "grid_gap": null,
            "max_width": null,
            "order": null,
            "_view_module_version": "1.2.0",
            "grid_template_areas": null,
            "object_position": null,
            "object_fit": null,
            "grid_auto_columns": null,
            "margin": null,
            "display": null,
            "left": null
          }
        },
        "47ea4b3c6b534bc2aea0477b95aede77": {
          "model_module": "@jupyter-widgets/controls",
          "model_name": "DescriptionStyleModel",
          "state": {
            "_view_name": "StyleView",
            "_model_name": "DescriptionStyleModel",
            "description_width": "",
            "_view_module": "@jupyter-widgets/base",
            "_model_module_version": "1.5.0",
            "_view_count": null,
            "_view_module_version": "1.2.0",
            "_model_module": "@jupyter-widgets/controls"
          }
        },
        "6ccf9ef98dac4b119a01a2b01b5ce7a7": {
          "model_module": "@jupyter-widgets/base",
          "model_name": "LayoutModel",
          "state": {
            "_view_name": "LayoutView",
            "grid_template_rows": null,
            "right": null,
            "justify_content": null,
            "_view_module": "@jupyter-widgets/base",
            "overflow": null,
            "_model_module_version": "1.2.0",
            "_view_count": null,
            "flex_flow": null,
            "width": null,
            "min_width": null,
            "border": null,
            "align_items": null,
            "bottom": null,
            "_model_module": "@jupyter-widgets/base",
            "top": null,
            "grid_column": null,
            "overflow_y": null,
            "overflow_x": null,
            "grid_auto_flow": null,
            "grid_area": null,
            "grid_template_columns": null,
            "flex": null,
            "_model_name": "LayoutModel",
            "justify_items": null,
            "grid_row": null,
            "max_height": null,
            "align_content": null,
            "visibility": null,
            "align_self": null,
            "height": null,
            "min_height": null,
            "padding": null,
            "grid_auto_rows": null,
            "grid_gap": null,
            "max_width": null,
            "order": null,
            "_view_module_version": "1.2.0",
            "grid_template_areas": null,
            "object_position": null,
            "object_fit": null,
            "grid_auto_columns": null,
            "margin": null,
            "display": null,
            "left": null
          }
        },
        "5020168e92ea4f6c91cee2e5fa21c45d": {
          "model_module": "@jupyter-widgets/controls",
          "model_name": "HBoxModel",
          "state": {
            "_view_name": "HBoxView",
            "_dom_classes": [],
            "_model_name": "HBoxModel",
            "_view_module": "@jupyter-widgets/controls",
            "_model_module_version": "1.5.0",
            "_view_count": null,
            "_view_module_version": "1.5.0",
            "box_style": "",
            "layout": "IPY_MODEL_2c9431dca1a64bc6863679c15741d74f",
            "_model_module": "@jupyter-widgets/controls",
            "children": [
              "IPY_MODEL_1e3b6805c415477dbe4a4674d02fb802",
              "IPY_MODEL_c624f1d293944eeb9eba40ccdd743af0"
            ]
          }
        },
        "2c9431dca1a64bc6863679c15741d74f": {
          "model_module": "@jupyter-widgets/base",
          "model_name": "LayoutModel",
          "state": {
            "_view_name": "LayoutView",
            "grid_template_rows": null,
            "right": null,
            "justify_content": null,
            "_view_module": "@jupyter-widgets/base",
            "overflow": null,
            "_model_module_version": "1.2.0",
            "_view_count": null,
            "flex_flow": null,
            "width": null,
            "min_width": null,
            "border": null,
            "align_items": null,
            "bottom": null,
            "_model_module": "@jupyter-widgets/base",
            "top": null,
            "grid_column": null,
            "overflow_y": null,
            "overflow_x": null,
            "grid_auto_flow": null,
            "grid_area": null,
            "grid_template_columns": null,
            "flex": null,
            "_model_name": "LayoutModel",
            "justify_items": null,
            "grid_row": null,
            "max_height": null,
            "align_content": null,
            "visibility": null,
            "align_self": null,
            "height": null,
            "min_height": null,
            "padding": null,
            "grid_auto_rows": null,
            "grid_gap": null,
            "max_width": null,
            "order": null,
            "_view_module_version": "1.2.0",
            "grid_template_areas": null,
            "object_position": null,
            "object_fit": null,
            "grid_auto_columns": null,
            "margin": null,
            "display": null,
            "left": null
          }
        },
        "1e3b6805c415477dbe4a4674d02fb802": {
          "model_module": "@jupyter-widgets/controls",
          "model_name": "FloatProgressModel",
          "state": {
            "_view_name": "ProgressView",
            "style": "IPY_MODEL_8b768e255b394bef899233ea968b7692",
            "_dom_classes": [],
            "description": "",
            "_model_name": "FloatProgressModel",
            "bar_style": "success",
            "max": 1,
            "_view_module": "@jupyter-widgets/controls",
            "_model_module_version": "1.5.0",
            "value": 1,
            "_view_count": null,
            "_view_module_version": "1.5.0",
            "orientation": "horizontal",
            "min": 0,
            "description_tooltip": null,
            "_model_module": "@jupyter-widgets/controls",
            "layout": "IPY_MODEL_10e0aab5b15a44edb1e96cc50a033d55"
          }
        },
        "c624f1d293944eeb9eba40ccdd743af0": {
          "model_module": "@jupyter-widgets/controls",
          "model_name": "HTMLModel",
          "state": {
            "_view_name": "HTMLView",
            "style": "IPY_MODEL_3e0a551eaefa43b99dd2b122f269e49e",
            "_dom_classes": [],
            "description": "",
            "_model_name": "HTMLModel",
            "placeholder": "​",
            "_view_module": "@jupyter-widgets/controls",
            "_model_module_version": "1.5.0",
            "value": " 32768/? [00:01&lt;00:00, 23195.66it/s]",
            "_view_count": null,
            "_view_module_version": "1.5.0",
            "description_tooltip": null,
            "_model_module": "@jupyter-widgets/controls",
            "layout": "IPY_MODEL_485e723d681e4b918b84b692962bfe1e"
          }
        },
        "8b768e255b394bef899233ea968b7692": {
          "model_module": "@jupyter-widgets/controls",
          "model_name": "ProgressStyleModel",
          "state": {
            "_view_name": "StyleView",
            "_model_name": "ProgressStyleModel",
            "description_width": "initial",
            "_view_module": "@jupyter-widgets/base",
            "_model_module_version": "1.5.0",
            "_view_count": null,
            "_view_module_version": "1.2.0",
            "bar_color": null,
            "_model_module": "@jupyter-widgets/controls"
          }
        },
        "10e0aab5b15a44edb1e96cc50a033d55": {
          "model_module": "@jupyter-widgets/base",
          "model_name": "LayoutModel",
          "state": {
            "_view_name": "LayoutView",
            "grid_template_rows": null,
            "right": null,
            "justify_content": null,
            "_view_module": "@jupyter-widgets/base",
            "overflow": null,
            "_model_module_version": "1.2.0",
            "_view_count": null,
            "flex_flow": null,
            "width": null,
            "min_width": null,
            "border": null,
            "align_items": null,
            "bottom": null,
            "_model_module": "@jupyter-widgets/base",
            "top": null,
            "grid_column": null,
            "overflow_y": null,
            "overflow_x": null,
            "grid_auto_flow": null,
            "grid_area": null,
            "grid_template_columns": null,
            "flex": null,
            "_model_name": "LayoutModel",
            "justify_items": null,
            "grid_row": null,
            "max_height": null,
            "align_content": null,
            "visibility": null,
            "align_self": null,
            "height": null,
            "min_height": null,
            "padding": null,
            "grid_auto_rows": null,
            "grid_gap": null,
            "max_width": null,
            "order": null,
            "_view_module_version": "1.2.0",
            "grid_template_areas": null,
            "object_position": null,
            "object_fit": null,
            "grid_auto_columns": null,
            "margin": null,
            "display": null,
            "left": null
          }
        },
        "3e0a551eaefa43b99dd2b122f269e49e": {
          "model_module": "@jupyter-widgets/controls",
          "model_name": "DescriptionStyleModel",
          "state": {
            "_view_name": "StyleView",
            "_model_name": "DescriptionStyleModel",
            "description_width": "",
            "_view_module": "@jupyter-widgets/base",
            "_model_module_version": "1.5.0",
            "_view_count": null,
            "_view_module_version": "1.2.0",
            "_model_module": "@jupyter-widgets/controls"
          }
        },
        "485e723d681e4b918b84b692962bfe1e": {
          "model_module": "@jupyter-widgets/base",
          "model_name": "LayoutModel",
          "state": {
            "_view_name": "LayoutView",
            "grid_template_rows": null,
            "right": null,
            "justify_content": null,
            "_view_module": "@jupyter-widgets/base",
            "overflow": null,
            "_model_module_version": "1.2.0",
            "_view_count": null,
            "flex_flow": null,
            "width": null,
            "min_width": null,
            "border": null,
            "align_items": null,
            "bottom": null,
            "_model_module": "@jupyter-widgets/base",
            "top": null,
            "grid_column": null,
            "overflow_y": null,
            "overflow_x": null,
            "grid_auto_flow": null,
            "grid_area": null,
            "grid_template_columns": null,
            "flex": null,
            "_model_name": "LayoutModel",
            "justify_items": null,
            "grid_row": null,
            "max_height": null,
            "align_content": null,
            "visibility": null,
            "align_self": null,
            "height": null,
            "min_height": null,
            "padding": null,
            "grid_auto_rows": null,
            "grid_gap": null,
            "max_width": null,
            "order": null,
            "_view_module_version": "1.2.0",
            "grid_template_areas": null,
            "object_position": null,
            "object_fit": null,
            "grid_auto_columns": null,
            "margin": null,
            "display": null,
            "left": null
          }
        },
        "2ea6607771d1476fb9e71ad3ac59cde8": {
          "model_module": "@jupyter-widgets/controls",
          "model_name": "HBoxModel",
          "state": {
            "_view_name": "HBoxView",
            "_dom_classes": [],
            "_model_name": "HBoxModel",
            "_view_module": "@jupyter-widgets/controls",
            "_model_module_version": "1.5.0",
            "_view_count": null,
            "_view_module_version": "1.5.0",
            "box_style": "",
            "layout": "IPY_MODEL_18266cd79ca54b9c8b5dde4508d5812a",
            "_model_module": "@jupyter-widgets/controls",
            "children": [
              "IPY_MODEL_489bb717e62749f985bb971b06994c2c",
              "IPY_MODEL_1e9de1bfa64e4dba897fe562889db853"
            ]
          }
        },
        "18266cd79ca54b9c8b5dde4508d5812a": {
          "model_module": "@jupyter-widgets/base",
          "model_name": "LayoutModel",
          "state": {
            "_view_name": "LayoutView",
            "grid_template_rows": null,
            "right": null,
            "justify_content": null,
            "_view_module": "@jupyter-widgets/base",
            "overflow": null,
            "_model_module_version": "1.2.0",
            "_view_count": null,
            "flex_flow": null,
            "width": null,
            "min_width": null,
            "border": null,
            "align_items": null,
            "bottom": null,
            "_model_module": "@jupyter-widgets/base",
            "top": null,
            "grid_column": null,
            "overflow_y": null,
            "overflow_x": null,
            "grid_auto_flow": null,
            "grid_area": null,
            "grid_template_columns": null,
            "flex": null,
            "_model_name": "LayoutModel",
            "justify_items": null,
            "grid_row": null,
            "max_height": null,
            "align_content": null,
            "visibility": null,
            "align_self": null,
            "height": null,
            "min_height": null,
            "padding": null,
            "grid_auto_rows": null,
            "grid_gap": null,
            "max_width": null,
            "order": null,
            "_view_module_version": "1.2.0",
            "grid_template_areas": null,
            "object_position": null,
            "object_fit": null,
            "grid_auto_columns": null,
            "margin": null,
            "display": null,
            "left": null
          }
        },
        "489bb717e62749f985bb971b06994c2c": {
          "model_module": "@jupyter-widgets/controls",
          "model_name": "FloatProgressModel",
          "state": {
            "_view_name": "ProgressView",
            "style": "IPY_MODEL_934bd70fd25446659c7ede8daa3b2f23",
            "_dom_classes": [],
            "description": "",
            "_model_name": "FloatProgressModel",
            "bar_style": "success",
            "max": 1,
            "_view_module": "@jupyter-widgets/controls",
            "_model_module_version": "1.5.0",
            "value": 1,
            "_view_count": null,
            "_view_module_version": "1.5.0",
            "orientation": "horizontal",
            "min": 0,
            "description_tooltip": null,
            "_model_module": "@jupyter-widgets/controls",
            "layout": "IPY_MODEL_7f95bcdc3db94c1da0cc986546a072b7"
          }
        },
        "1e9de1bfa64e4dba897fe562889db853": {
          "model_module": "@jupyter-widgets/controls",
          "model_name": "HTMLModel",
          "state": {
            "_view_name": "HTMLView",
            "style": "IPY_MODEL_624b0bd012464192820c6bc354eb6311",
            "_dom_classes": [],
            "description": "",
            "_model_name": "HTMLModel",
            "placeholder": "​",
            "_view_module": "@jupyter-widgets/controls",
            "_model_module_version": "1.5.0",
            "value": " 1654784/? [00:01&lt;00:00, 1289362.82it/s]",
            "_view_count": null,
            "_view_module_version": "1.5.0",
            "description_tooltip": null,
            "_model_module": "@jupyter-widgets/controls",
            "layout": "IPY_MODEL_dca8d8d7f1ea4c489ec8bc3a7474fe28"
          }
        },
        "934bd70fd25446659c7ede8daa3b2f23": {
          "model_module": "@jupyter-widgets/controls",
          "model_name": "ProgressStyleModel",
          "state": {
            "_view_name": "StyleView",
            "_model_name": "ProgressStyleModel",
            "description_width": "initial",
            "_view_module": "@jupyter-widgets/base",
            "_model_module_version": "1.5.0",
            "_view_count": null,
            "_view_module_version": "1.2.0",
            "bar_color": null,
            "_model_module": "@jupyter-widgets/controls"
          }
        },
        "7f95bcdc3db94c1da0cc986546a072b7": {
          "model_module": "@jupyter-widgets/base",
          "model_name": "LayoutModel",
          "state": {
            "_view_name": "LayoutView",
            "grid_template_rows": null,
            "right": null,
            "justify_content": null,
            "_view_module": "@jupyter-widgets/base",
            "overflow": null,
            "_model_module_version": "1.2.0",
            "_view_count": null,
            "flex_flow": null,
            "width": null,
            "min_width": null,
            "border": null,
            "align_items": null,
            "bottom": null,
            "_model_module": "@jupyter-widgets/base",
            "top": null,
            "grid_column": null,
            "overflow_y": null,
            "overflow_x": null,
            "grid_auto_flow": null,
            "grid_area": null,
            "grid_template_columns": null,
            "flex": null,
            "_model_name": "LayoutModel",
            "justify_items": null,
            "grid_row": null,
            "max_height": null,
            "align_content": null,
            "visibility": null,
            "align_self": null,
            "height": null,
            "min_height": null,
            "padding": null,
            "grid_auto_rows": null,
            "grid_gap": null,
            "max_width": null,
            "order": null,
            "_view_module_version": "1.2.0",
            "grid_template_areas": null,
            "object_position": null,
            "object_fit": null,
            "grid_auto_columns": null,
            "margin": null,
            "display": null,
            "left": null
          }
        },
        "624b0bd012464192820c6bc354eb6311": {
          "model_module": "@jupyter-widgets/controls",
          "model_name": "DescriptionStyleModel",
          "state": {
            "_view_name": "StyleView",
            "_model_name": "DescriptionStyleModel",
            "description_width": "",
            "_view_module": "@jupyter-widgets/base",
            "_model_module_version": "1.5.0",
            "_view_count": null,
            "_view_module_version": "1.2.0",
            "_model_module": "@jupyter-widgets/controls"
          }
        },
        "dca8d8d7f1ea4c489ec8bc3a7474fe28": {
          "model_module": "@jupyter-widgets/base",
          "model_name": "LayoutModel",
          "state": {
            "_view_name": "LayoutView",
            "grid_template_rows": null,
            "right": null,
            "justify_content": null,
            "_view_module": "@jupyter-widgets/base",
            "overflow": null,
            "_model_module_version": "1.2.0",
            "_view_count": null,
            "flex_flow": null,
            "width": null,
            "min_width": null,
            "border": null,
            "align_items": null,
            "bottom": null,
            "_model_module": "@jupyter-widgets/base",
            "top": null,
            "grid_column": null,
            "overflow_y": null,
            "overflow_x": null,
            "grid_auto_flow": null,
            "grid_area": null,
            "grid_template_columns": null,
            "flex": null,
            "_model_name": "LayoutModel",
            "justify_items": null,
            "grid_row": null,
            "max_height": null,
            "align_content": null,
            "visibility": null,
            "align_self": null,
            "height": null,
            "min_height": null,
            "padding": null,
            "grid_auto_rows": null,
            "grid_gap": null,
            "max_width": null,
            "order": null,
            "_view_module_version": "1.2.0",
            "grid_template_areas": null,
            "object_position": null,
            "object_fit": null,
            "grid_auto_columns": null,
            "margin": null,
            "display": null,
            "left": null
          }
        },
        "43994ea459b9410f851c792871fcb5f0": {
          "model_module": "@jupyter-widgets/controls",
          "model_name": "HBoxModel",
          "state": {
            "_view_name": "HBoxView",
            "_dom_classes": [],
            "_model_name": "HBoxModel",
            "_view_module": "@jupyter-widgets/controls",
            "_model_module_version": "1.5.0",
            "_view_count": null,
            "_view_module_version": "1.5.0",
            "box_style": "",
            "layout": "IPY_MODEL_e03d858e646842c4847c88b7fe148684",
            "_model_module": "@jupyter-widgets/controls",
            "children": [
              "IPY_MODEL_215e7aeb04e44593a6e284e402a3d67a",
              "IPY_MODEL_9757792d1731453c851d6fedd42d8d83"
            ]
          }
        },
        "e03d858e646842c4847c88b7fe148684": {
          "model_module": "@jupyter-widgets/base",
          "model_name": "LayoutModel",
          "state": {
            "_view_name": "LayoutView",
            "grid_template_rows": null,
            "right": null,
            "justify_content": null,
            "_view_module": "@jupyter-widgets/base",
            "overflow": null,
            "_model_module_version": "1.2.0",
            "_view_count": null,
            "flex_flow": null,
            "width": null,
            "min_width": null,
            "border": null,
            "align_items": null,
            "bottom": null,
            "_model_module": "@jupyter-widgets/base",
            "top": null,
            "grid_column": null,
            "overflow_y": null,
            "overflow_x": null,
            "grid_auto_flow": null,
            "grid_area": null,
            "grid_template_columns": null,
            "flex": null,
            "_model_name": "LayoutModel",
            "justify_items": null,
            "grid_row": null,
            "max_height": null,
            "align_content": null,
            "visibility": null,
            "align_self": null,
            "height": null,
            "min_height": null,
            "padding": null,
            "grid_auto_rows": null,
            "grid_gap": null,
            "max_width": null,
            "order": null,
            "_view_module_version": "1.2.0",
            "grid_template_areas": null,
            "object_position": null,
            "object_fit": null,
            "grid_auto_columns": null,
            "margin": null,
            "display": null,
            "left": null
          }
        },
        "215e7aeb04e44593a6e284e402a3d67a": {
          "model_module": "@jupyter-widgets/controls",
          "model_name": "FloatProgressModel",
          "state": {
            "_view_name": "ProgressView",
            "style": "IPY_MODEL_0755558cc0984f86a4d18d019a264d70",
            "_dom_classes": [],
            "description": "",
            "_model_name": "FloatProgressModel",
            "bar_style": "success",
            "max": 1,
            "_view_module": "@jupyter-widgets/controls",
            "_model_module_version": "1.5.0",
            "value": 1,
            "_view_count": null,
            "_view_module_version": "1.5.0",
            "orientation": "horizontal",
            "min": 0,
            "description_tooltip": null,
            "_model_module": "@jupyter-widgets/controls",
            "layout": "IPY_MODEL_226cda431d9f4df79a4a9ba2ee57cee8"
          }
        },
        "9757792d1731453c851d6fedd42d8d83": {
          "model_module": "@jupyter-widgets/controls",
          "model_name": "HTMLModel",
          "state": {
            "_view_name": "HTMLView",
            "style": "IPY_MODEL_d3f4b2cc6f05425bab05e235f17a57db",
            "_dom_classes": [],
            "description": "",
            "_model_name": "HTMLModel",
            "placeholder": "​",
            "_view_module": "@jupyter-widgets/controls",
            "_model_module_version": "1.5.0",
            "value": " 8192/? [00:00&lt;00:00, 14478.33it/s]",
            "_view_count": null,
            "_view_module_version": "1.5.0",
            "description_tooltip": null,
            "_model_module": "@jupyter-widgets/controls",
            "layout": "IPY_MODEL_c91ff865f2dc47f0a32af6aac7f9dc20"
          }
        },
        "0755558cc0984f86a4d18d019a264d70": {
          "model_module": "@jupyter-widgets/controls",
          "model_name": "ProgressStyleModel",
          "state": {
            "_view_name": "StyleView",
            "_model_name": "ProgressStyleModel",
            "description_width": "initial",
            "_view_module": "@jupyter-widgets/base",
            "_model_module_version": "1.5.0",
            "_view_count": null,
            "_view_module_version": "1.2.0",
            "bar_color": null,
            "_model_module": "@jupyter-widgets/controls"
          }
        },
        "226cda431d9f4df79a4a9ba2ee57cee8": {
          "model_module": "@jupyter-widgets/base",
          "model_name": "LayoutModel",
          "state": {
            "_view_name": "LayoutView",
            "grid_template_rows": null,
            "right": null,
            "justify_content": null,
            "_view_module": "@jupyter-widgets/base",
            "overflow": null,
            "_model_module_version": "1.2.0",
            "_view_count": null,
            "flex_flow": null,
            "width": null,
            "min_width": null,
            "border": null,
            "align_items": null,
            "bottom": null,
            "_model_module": "@jupyter-widgets/base",
            "top": null,
            "grid_column": null,
            "overflow_y": null,
            "overflow_x": null,
            "grid_auto_flow": null,
            "grid_area": null,
            "grid_template_columns": null,
            "flex": null,
            "_model_name": "LayoutModel",
            "justify_items": null,
            "grid_row": null,
            "max_height": null,
            "align_content": null,
            "visibility": null,
            "align_self": null,
            "height": null,
            "min_height": null,
            "padding": null,
            "grid_auto_rows": null,
            "grid_gap": null,
            "max_width": null,
            "order": null,
            "_view_module_version": "1.2.0",
            "grid_template_areas": null,
            "object_position": null,
            "object_fit": null,
            "grid_auto_columns": null,
            "margin": null,
            "display": null,
            "left": null
          }
        },
        "d3f4b2cc6f05425bab05e235f17a57db": {
          "model_module": "@jupyter-widgets/controls",
          "model_name": "DescriptionStyleModel",
          "state": {
            "_view_name": "StyleView",
            "_model_name": "DescriptionStyleModel",
            "description_width": "",
            "_view_module": "@jupyter-widgets/base",
            "_model_module_version": "1.5.0",
            "_view_count": null,
            "_view_module_version": "1.2.0",
            "_model_module": "@jupyter-widgets/controls"
          }
        },
        "c91ff865f2dc47f0a32af6aac7f9dc20": {
          "model_module": "@jupyter-widgets/base",
          "model_name": "LayoutModel",
          "state": {
            "_view_name": "LayoutView",
            "grid_template_rows": null,
            "right": null,
            "justify_content": null,
            "_view_module": "@jupyter-widgets/base",
            "overflow": null,
            "_model_module_version": "1.2.0",
            "_view_count": null,
            "flex_flow": null,
            "width": null,
            "min_width": null,
            "border": null,
            "align_items": null,
            "bottom": null,
            "_model_module": "@jupyter-widgets/base",
            "top": null,
            "grid_column": null,
            "overflow_y": null,
            "overflow_x": null,
            "grid_auto_flow": null,
            "grid_area": null,
            "grid_template_columns": null,
            "flex": null,
            "_model_name": "LayoutModel",
            "justify_items": null,
            "grid_row": null,
            "max_height": null,
            "align_content": null,
            "visibility": null,
            "align_self": null,
            "height": null,
            "min_height": null,
            "padding": null,
            "grid_auto_rows": null,
            "grid_gap": null,
            "max_width": null,
            "order": null,
            "_view_module_version": "1.2.0",
            "grid_template_areas": null,
            "object_position": null,
            "object_fit": null,
            "grid_auto_columns": null,
            "margin": null,
            "display": null,
            "left": null
          }
        }
      }
    }
  },
  "cells": [
    {
      "cell_type": "markdown",
      "metadata": {
        "id": "view-in-github",
        "colab_type": "text"
      },
      "source": [
        "<a href=\"https://colab.research.google.com/github/HarmanDotpy/ML-Assignment2/blob/main/Q3_3_mnist_to_svhn_Generator_trained_more.ipynb\" target=\"_parent\"><img src=\"https://colab.research.google.com/assets/colab-badge.svg\" alt=\"Open In Colab\"/></a>"
      ]
    },
    {
      "cell_type": "markdown",
      "metadata": {
        "id": "_tw8QLnQyuOK"
      },
      "source": [
        "# UDA\r\n",
        "We will try to approaches\r\n",
        "\r\n",
        "1.   Using cycle gan\r\n",
        "2.   Implementing \"Maximum Classifier Discrepancy for Unsupervised Domain Adaptation\""
      ]
    },
    {
      "cell_type": "code",
      "metadata": {
        "id": "DnwYLYgxyrpS"
      },
      "source": [
        ""
      ],
      "execution_count": null,
      "outputs": []
    },
    {
      "cell_type": "code",
      "metadata": {
        "id": "RUB60abBryI5"
      },
      "source": [
        "from __future__ import print_function\r\n",
        "import warnings\r\n",
        "warnings.filterwarnings('ignore')\r\n",
        "import logging\r\n",
        "logging.basicConfig(level=logging.FATAL)\r\n",
        "import argparse, random\r\n",
        "import numpy as np\r\n",
        "import matplotlib\r\n",
        "import matplotlib.pyplot as plt\r\n",
        "import torch\r\n",
        "import torch.nn as nn\r\n",
        "import torch.nn.functional as F\r\n",
        "import torch.optim as optim\r\n",
        "\r\n",
        "from torchvision import datasets, transforms\r\n",
        "\r\n",
        "# torch.backends.cudnn.deterministic = True\r\n",
        "# torch.backends.cudnn.benchmark = False\r\n",
        "# torch.manual_seed(args.seed)\r\n",
        "# torch.cuda.manual_seed(args.seed)\r\n",
        "# random.seed(args.seed)\r\n",
        "# np.random.seed(args.seed)\r\n",
        "\r\n",
        "# device = torch.device(\"cuda\" if use_cuda else \"cpu\")\r\n",
        "\r\n",
        "parser = argparse.ArgumentParser(description='PyTorch MNIST Example')\r\n",
        "parser.add_argument('--batch-size', type=int, default=128, metavar='N',\r\n",
        "                    help='input batch size for training (default: 128)')\r\n",
        "parser.add_argument('--test-batch-size', type=int, default=1000, metavar='N',\r\n",
        "                    help='input batch size for testing (default: 1000)')\r\n",
        "parser.add_argument('--epochs', type=int, default=20, metavar='N',\r\n",
        "                    help='number of epochs to train (default: 20)')\r\n",
        "parser.add_argument('--num-k', type=int, default=4, metavar='N',\r\n",
        "                    help='hyper paremeter for generator update')\r\n",
        "parser.add_argument('--lr', type=float, default=0.0001, metavar='LR',\r\n",
        "                    help='learning rate (default: 0.01)')\r\n",
        "parser.add_argument('--no-cuda', action='store_true', default=False,\r\n",
        "                    help='disables CUDA training')\r\n",
        "parser.add_argument('--seed', type=int, default=42, metavar='S',\r\n",
        "                    help='random seed (default: 1)')\r\n",
        "parser.add_argument('--log-interval', type=int, default=100, metavar='N',\r\n",
        "                    help='how many batches to wait before logging training status')\r\n",
        "\r\n",
        "parser.add_argument('--save-model', action='store_true', default=False,\r\n",
        "                    help='For Saving the current Model')\r\n",
        "args = parser.parse_args([])\r\n",
        "\r\n",
        "use_cuda = not args.no_cuda and torch.cuda.is_available()\r\n",
        "kwargs = {'num_workers': 1, 'pin_memory': True} if use_cuda else {}\r\n",
        "device = torch.device(\"cuda\" if use_cuda else \"cpu\")\r\n"
      ],
      "execution_count": 1,
      "outputs": []
    },
    {
      "cell_type": "code",
      "metadata": {
        "id": "OqHzJ-BJxgBm"
      },
      "source": [
        ""
      ],
      "execution_count": 1,
      "outputs": []
    },
    {
      "cell_type": "markdown",
      "metadata": {
        "id": "b9jY0yD6xggf"
      },
      "source": [
        "# Load both MNIST and SVHN datasets\r\n",
        "Transformations are copied from the internet"
      ]
    },
    {
      "cell_type": "code",
      "metadata": {
        "colab": {
          "base_uri": "https://localhost:8080/",
          "height": 464,
          "referenced_widgets": [
            "012a4ff91ad94c9b8725875d7e99a34a",
            "87aa3c79909543f984903eb30b4fbdfa",
            "185202d6399c4f43aed6ab6621cc4e7d",
            "a333903e7b2c4b0e9f3bf1aec5283e92",
            "0335ff893a014b81ae55b5ff993b95da",
            "52d600ca0ade4856bfd6a9b5ec0e4807",
            "e3da3b618c24491d99ed27ce9912f886",
            "0390258067874f51a4835d10b857376a",
            "8d8c82f9a1234ca888d8045027803d7c",
            "1175de1a496f45118257c3be9ac0d45e",
            "ded8c298510241738256629240f0dd3f",
            "a54035743dab44a592442271385cd3a7",
            "c57797262a2b4abbbf7cbbd9a4699d2a",
            "4ef8d86fcc76437fbf180cb48bb537c0",
            "a3b4a03b597c4031bcf84ad31668f84d",
            "ee387cf37c0e49b7aafe24bdf3b62ecf",
            "5ff090433a3642adba028b86971b89be",
            "e1713914c9204061a201d6c3621e3ba7",
            "a7e59fc110084d3fb72ca9d8bad7835d",
            "9b0d5e377cf347ed8de68d1e13fc30a6",
            "9af219f18d5149f08c5098254b0f017c",
            "5653737cd98240d3bd798ccf3935e0f3",
            "47ea4b3c6b534bc2aea0477b95aede77",
            "6ccf9ef98dac4b119a01a2b01b5ce7a7",
            "5020168e92ea4f6c91cee2e5fa21c45d",
            "2c9431dca1a64bc6863679c15741d74f",
            "1e3b6805c415477dbe4a4674d02fb802",
            "c624f1d293944eeb9eba40ccdd743af0",
            "8b768e255b394bef899233ea968b7692",
            "10e0aab5b15a44edb1e96cc50a033d55",
            "3e0a551eaefa43b99dd2b122f269e49e",
            "485e723d681e4b918b84b692962bfe1e",
            "2ea6607771d1476fb9e71ad3ac59cde8",
            "18266cd79ca54b9c8b5dde4508d5812a",
            "489bb717e62749f985bb971b06994c2c",
            "1e9de1bfa64e4dba897fe562889db853",
            "934bd70fd25446659c7ede8daa3b2f23",
            "7f95bcdc3db94c1da0cc986546a072b7",
            "624b0bd012464192820c6bc354eb6311",
            "dca8d8d7f1ea4c489ec8bc3a7474fe28",
            "43994ea459b9410f851c792871fcb5f0",
            "e03d858e646842c4847c88b7fe148684",
            "215e7aeb04e44593a6e284e402a3d67a",
            "9757792d1731453c851d6fedd42d8d83",
            "0755558cc0984f86a4d18d019a264d70",
            "226cda431d9f4df79a4a9ba2ee57cee8",
            "d3f4b2cc6f05425bab05e235f17a57db",
            "c91ff865f2dc47f0a32af6aac7f9dc20"
          ]
        },
        "id": "GJsvDYpKxim-",
        "outputId": "3396c759-f15d-46ac-bc83-801b6eaaf6d7"
      },
      "source": [
        "svhn_train_loader = torch.utils.data.DataLoader(\r\n",
        "    datasets.SVHN('./data/data_svhn', split='train', download=True,\r\n",
        "                   transform=transforms.Compose([\r\n",
        "                       transforms.ToTensor(),\r\n",
        "                       transforms.Normalize((0.5, 0.5, 0.5), (0.5, 0.5, 0.5))\r\n",
        "                   ])),\r\n",
        "    batch_size=args.batch_size, drop_last=True, shuffle=True, **kwargs)\r\n",
        "\r\n",
        "svhn_test_loader = torch.utils.data.DataLoader(\r\n",
        "    datasets.SVHN('./data/data_svhn', split='test', download=True,\r\n",
        "                  transform=transforms.Compose([\r\n",
        "                       transforms.ToTensor(),\r\n",
        "                       transforms.Normalize((0.5, 0.5, 0.5), (0.5, 0.5, 0.5))\r\n",
        "                   ])),\r\n",
        "    batch_size=args.test_batch_size, drop_last=True, shuffle=True, **kwargs)\r\n",
        "\r\n",
        "mnist_train_loader = torch.utils.data.DataLoader(\r\n",
        "    datasets.MNIST('./data/data_mnist', train=True, download=True,\r\n",
        "                  transform=transforms.Compose([\r\n",
        "                       transforms.Resize((32,32)),\r\n",
        "                       transforms.Grayscale(num_output_channels=3), \r\n",
        "                       transforms.ToTensor(),\r\n",
        "                       transforms.Normalize((0.5, 0.5, 0.5), (0.5, 0.5, 0.5))\r\n",
        "                   ])),\r\n",
        "    batch_size=args.batch_size, drop_last=True, shuffle=True, **kwargs)\r\n",
        "\r\n",
        "mnist_test_loader = torch.utils.data.DataLoader(\r\n",
        "    datasets.MNIST('./data/data_mnist', train=False, download=True,\r\n",
        "                  transform=transforms.Compose([\r\n",
        "                       transforms.Resize((32,32)),\r\n",
        "                       transforms.Grayscale(num_output_channels=3), \r\n",
        "                       transforms.ToTensor(),\r\n",
        "                       transforms.Normalize((0.5, 0.5, 0.5), (0.5, 0.5, 0.5))\r\n",
        "                   ])),\r\n",
        "    batch_size=args.test_batch_size, drop_last=True, shuffle=True, **kwargs)"
      ],
      "execution_count": 2,
      "outputs": [
        {
          "output_type": "stream",
          "text": [
            "Downloading http://ufldl.stanford.edu/housenumbers/train_32x32.mat to ./data/data_svhn/train_32x32.mat\n"
          ],
          "name": "stdout"
        },
        {
          "output_type": "display_data",
          "data": {
            "application/vnd.jupyter.widget-view+json": {
              "model_id": "012a4ff91ad94c9b8725875d7e99a34a",
              "version_minor": 0,
              "version_major": 2
            },
            "text/plain": [
              "HBox(children=(FloatProgress(value=1.0, bar_style='info', max=1.0), HTML(value='')))"
            ]
          },
          "metadata": {
            "tags": []
          }
        },
        {
          "output_type": "stream",
          "text": [
            "\n",
            "Downloading http://ufldl.stanford.edu/housenumbers/test_32x32.mat to ./data/data_svhn/test_32x32.mat\n"
          ],
          "name": "stdout"
        },
        {
          "output_type": "display_data",
          "data": {
            "application/vnd.jupyter.widget-view+json": {
              "model_id": "8d8c82f9a1234ca888d8045027803d7c",
              "version_minor": 0,
              "version_major": 2
            },
            "text/plain": [
              "HBox(children=(FloatProgress(value=1.0, bar_style='info', max=1.0), HTML(value='')))"
            ]
          },
          "metadata": {
            "tags": []
          }
        },
        {
          "output_type": "stream",
          "text": [
            "Downloading http://yann.lecun.com/exdb/mnist/train-images-idx3-ubyte.gz to ./data/data_mnist/MNIST/raw/train-images-idx3-ubyte.gz\n"
          ],
          "name": "stdout"
        },
        {
          "output_type": "display_data",
          "data": {
            "application/vnd.jupyter.widget-view+json": {
              "model_id": "5ff090433a3642adba028b86971b89be",
              "version_minor": 0,
              "version_major": 2
            },
            "text/plain": [
              "HBox(children=(FloatProgress(value=1.0, bar_style='info', max=1.0), HTML(value='')))"
            ]
          },
          "metadata": {
            "tags": []
          }
        },
        {
          "output_type": "stream",
          "text": [
            "Extracting ./data/data_mnist/MNIST/raw/train-images-idx3-ubyte.gz to ./data/data_mnist/MNIST/raw\n",
            "\n",
            "\n",
            "Downloading http://yann.lecun.com/exdb/mnist/train-labels-idx1-ubyte.gz to ./data/data_mnist/MNIST/raw/train-labels-idx1-ubyte.gz\n"
          ],
          "name": "stdout"
        },
        {
          "output_type": "display_data",
          "data": {
            "application/vnd.jupyter.widget-view+json": {
              "model_id": "5020168e92ea4f6c91cee2e5fa21c45d",
              "version_minor": 0,
              "version_major": 2
            },
            "text/plain": [
              "HBox(children=(FloatProgress(value=1.0, bar_style='info', max=1.0), HTML(value='')))"
            ]
          },
          "metadata": {
            "tags": []
          }
        },
        {
          "output_type": "stream",
          "text": [
            "Extracting ./data/data_mnist/MNIST/raw/train-labels-idx1-ubyte.gz to ./data/data_mnist/MNIST/raw\n",
            "Downloading http://yann.lecun.com/exdb/mnist/t10k-images-idx3-ubyte.gz to ./data/data_mnist/MNIST/raw/t10k-images-idx3-ubyte.gz\n"
          ],
          "name": "stdout"
        },
        {
          "output_type": "display_data",
          "data": {
            "application/vnd.jupyter.widget-view+json": {
              "model_id": "2ea6607771d1476fb9e71ad3ac59cde8",
              "version_minor": 0,
              "version_major": 2
            },
            "text/plain": [
              "HBox(children=(FloatProgress(value=1.0, bar_style='info', max=1.0), HTML(value='')))"
            ]
          },
          "metadata": {
            "tags": []
          }
        },
        {
          "output_type": "stream",
          "text": [
            "Extracting ./data/data_mnist/MNIST/raw/t10k-images-idx3-ubyte.gz to ./data/data_mnist/MNIST/raw\n",
            "Downloading http://yann.lecun.com/exdb/mnist/t10k-labels-idx1-ubyte.gz to ./data/data_mnist/MNIST/raw/t10k-labels-idx1-ubyte.gz\n"
          ],
          "name": "stdout"
        },
        {
          "output_type": "display_data",
          "data": {
            "application/vnd.jupyter.widget-view+json": {
              "model_id": "43994ea459b9410f851c792871fcb5f0",
              "version_minor": 0,
              "version_major": 2
            },
            "text/plain": [
              "HBox(children=(FloatProgress(value=1.0, bar_style='info', max=1.0), HTML(value='')))"
            ]
          },
          "metadata": {
            "tags": []
          }
        },
        {
          "output_type": "stream",
          "text": [
            "Extracting ./data/data_mnist/MNIST/raw/t10k-labels-idx1-ubyte.gz to ./data/data_mnist/MNIST/raw\n",
            "Processing...\n",
            "Done!\n"
          ],
          "name": "stdout"
        }
      ]
    },
    {
      "cell_type": "code",
      "metadata": {
        "id": "2oyhQ2JIx7C_"
      },
      "source": [
        ""
      ],
      "execution_count": 2,
      "outputs": []
    },
    {
      "cell_type": "markdown",
      "metadata": {
        "id": "SkvqPa3yypgF"
      },
      "source": [
        "GENERATOR"
      ]
    },
    {
      "cell_type": "code",
      "metadata": {
        "id": "tOkYOUJ8yqbP"
      },
      "source": [
        "class Feature(nn.Module):\r\n",
        "    def __init__(self):\r\n",
        "        super(Feature, self).__init__()\r\n",
        "        self.conv1 = nn.Conv2d(3, 64, kernel_size=5, stride=1, padding=2)\r\n",
        "        self.bn1 = nn.BatchNorm2d(64)\r\n",
        "        self.conv2 = nn.Conv2d(64, 64, kernel_size=5, stride=1, padding=2)\r\n",
        "        self.bn2 = nn.BatchNorm2d(64)\r\n",
        "        self.conv3 = nn.Conv2d(64, 128, kernel_size=5, stride=1, padding=2)\r\n",
        "        self.bn3 = nn.BatchNorm2d(128)\r\n",
        "        self.fc1 = nn.Linear(8192, 3072)\r\n",
        "        self.bn1_fc = nn.BatchNorm1d(3072)\r\n",
        "\r\n",
        "    def forward(self, x):\r\n",
        "        x = F.max_pool2d(F.relu(self.bn1(self.conv1(x))), stride=2, kernel_size=3, padding=1)\r\n",
        "        x = F.max_pool2d(F.relu(self.bn2(self.conv2(x))), stride=2, kernel_size=3, padding=1)\r\n",
        "        x = F.relu(self.bn3(self.conv3(x)))\r\n",
        "        x = x.view(x.size(0), 8192)\r\n",
        "        x = F.relu(self.bn1_fc(self.fc1(x)))\r\n",
        "        x = F.dropout(x, training=self.training)\r\n",
        "        return x"
      ],
      "execution_count": 3,
      "outputs": []
    },
    {
      "cell_type": "code",
      "metadata": {
        "id": "mA-qQ1WnyrEU",
        "colab": {
          "base_uri": "https://localhost:8080/"
        },
        "outputId": "2c0c9e16-c57b-476c-e0b3-2ce7ff641aa9"
      },
      "source": [
        ""
      ],
      "execution_count": 3,
      "outputs": [
        {
          "output_type": "stream",
          "text": [
            "\n",
            "\n",
            "\n"
          ],
          "name": "stdout"
        }
      ]
    },
    {
      "cell_type": "code",
      "metadata": {
        "id": "aA-PAnsvzYr4"
      },
      "source": [
        ""
      ],
      "execution_count": 3,
      "outputs": []
    },
    {
      "cell_type": "markdown",
      "metadata": {
        "id": "u4ca-NVJzaOs"
      },
      "source": [
        "Network for classifiers F1 and F2 in paper"
      ]
    },
    {
      "cell_type": "code",
      "metadata": {
        "id": "n6hYfpDozcmH"
      },
      "source": [
        "class Predictor(nn.Module):\r\n",
        "    def __init__(self, prob=0.5):\r\n",
        "        super(Predictor, self).__init__()\r\n",
        "        # self.fc1 = nn.Linear(8192, 3072)\r\n",
        "        # self.bn1_fc = nn.BatchNorm1d(3072)\r\n",
        "        self.fc2 = nn.Linear(3072, 2048)\r\n",
        "        self.bn2_fc = nn.BatchNorm1d(2048)\r\n",
        "        self.fc3 = nn.Linear(2048, 10)\r\n",
        "        self.bn_fc3 = nn.BatchNorm1d(10)\r\n",
        "        self.prob = prob\r\n",
        "\r\n",
        "    def forward(self, x):\r\n",
        "        x = F.relu(self.bn2_fc(self.fc2(x)))\r\n",
        "        x = self.fc3(x)\r\n",
        "        return x"
      ],
      "execution_count": 4,
      "outputs": []
    },
    {
      "cell_type": "code",
      "metadata": {
        "id": "SwOsUU_Pz7E_"
      },
      "source": [
        ""
      ],
      "execution_count": 4,
      "outputs": []
    },
    {
      "cell_type": "code",
      "metadata": {
        "id": "o44rfKLYz7HU"
      },
      "source": [
        ""
      ],
      "execution_count": 4,
      "outputs": []
    },
    {
      "cell_type": "code",
      "metadata": {
        "id": "5_DoyDuIz7JY"
      },
      "source": [
        ""
      ],
      "execution_count": 4,
      "outputs": []
    },
    {
      "cell_type": "code",
      "metadata": {
        "id": "DsAMeNpKz1v8"
      },
      "source": [
        "def init_weights(m):\r\n",
        "    if type(m) == nn.Conv2d:\r\n",
        "        nn.init.xavier_normal(m.weight)\r\n",
        "    if type(m) == nn.Linear:\r\n",
        "        nn.init.xavier_normal(m.weight)"
      ],
      "execution_count": 5,
      "outputs": []
    },
    {
      "cell_type": "code",
      "metadata": {
        "id": "wFLPlY5FztC3"
      },
      "source": [
        "G = Feature().apply(init_weights).to(device)\r\n",
        "C1 = Predictor().apply(init_weights).to(device)\r\n",
        "C2 = Predictor().apply(init_weights).to(device)"
      ],
      "execution_count": 6,
      "outputs": []
    },
    {
      "cell_type": "code",
      "metadata": {
        "id": "aURKQsUCz3vw"
      },
      "source": [
        "opt_G = optim.Adam(G.parameters(),lr=args.lr, weight_decay=0.0005)\r\n",
        "opt_C1 = optim.Adam(C1.parameters(), lr=args.lr, weight_decay=0.0005)\r\n",
        "opt_C2 = optim.Adam(C2.parameters(), lr=args.lr, weight_decay=0.0005)\r\n",
        "criterion = nn.CrossEntropyLoss()"
      ],
      "execution_count": 7,
      "outputs": []
    },
    {
      "cell_type": "code",
      "metadata": {
        "id": "w60FOYj5z9jT"
      },
      "source": [
        ""
      ],
      "execution_count": 7,
      "outputs": []
    },
    {
      "cell_type": "code",
      "metadata": {
        "id": "Gk8c1rEQz9lS"
      },
      "source": [
        ""
      ],
      "execution_count": 7,
      "outputs": []
    },
    {
      "cell_type": "markdown",
      "metadata": {
        "id": "mCEtXNPez947"
      },
      "source": [
        "# Training\r\n",
        "we have MNIST train images, its labels and SVHN train images "
      ]
    },
    {
      "cell_type": "code",
      "metadata": {
        "id": "2YiZeapJz-uX"
      },
      "source": [
        "def train():\r\n",
        "    G.train()\r\n",
        "    C1.train()\r\n",
        "    C2.train()\r\n",
        "    \r\n",
        "    def reset_grad():\r\n",
        "        opt_G.zero_grad()\r\n",
        "        opt_C1.zero_grad()\r\n",
        "        opt_C2.zero_grad()\r\n",
        "    \r\n",
        "    def discrepancy(out1, out2):\r\n",
        "        return torch.mean(torch.abs(F.softmax(out1)- F.softmax(out2)))\r\n",
        "\r\n",
        "    data_zip = enumerate(zip(mnist_train_loader, svhn_train_loader))\r\n",
        "    for batch_idx, ((img_s, label_s), (img_t,_)) in data_zip:\r\n",
        "        img_t = img_t.to(device)\r\n",
        "        img_s = img_s.to(device)\r\n",
        "        label_s = label_s.to(device)\r\n",
        "\r\n",
        "        for i in range(5):        \r\n",
        "          reset_grad()\r\n",
        "          feat_s = G(img_s)\r\n",
        "          output_s1 = C1(feat_s)\r\n",
        "          output_s2 = C2(feat_s)\r\n",
        "          \r\n",
        "          loss_s1 = criterion(output_s1, label_s)\r\n",
        "          loss_s2 = criterion(output_s2, label_s)\r\n",
        "          loss_s = loss_s1 + loss_s2\r\n",
        "          \r\n",
        "          loss_s.backward()\r\n",
        "          opt_G.step()\r\n",
        "          opt_C1.step()\r\n",
        "          opt_C2.step()\r\n",
        "        \r\n",
        "        reset_grad()\r\n",
        "        feat_s = G(img_s)\r\n",
        "        output_s1 = C1(feat_s)\r\n",
        "        output_s2 = C2(feat_s)\r\n",
        "        feat_t = G(img_t)\r\n",
        "        output_t1 = C1(feat_t)\r\n",
        "        output_t2 = C2(feat_t)\r\n",
        "        \r\n",
        "        loss_s1 = criterion(output_s1, label_s)\r\n",
        "        loss_s2 = criterion(output_s2, label_s)\r\n",
        "        loss_s = loss_s1 + loss_s2\r\n",
        "        loss_dis = discrepancy(output_t1, output_t2)\r\n",
        "        loss = loss_s - loss_dis\r\n",
        "        \r\n",
        "        loss.backward()\r\n",
        "        opt_C1.step()\r\n",
        "        opt_C2.step()\r\n",
        "        \r\n",
        "        reset_grad()\r\n",
        "        \r\n",
        "        for i in range(args.num_k):\r\n",
        "            feature_t = G(img_t)\r\n",
        "            output_t1 = C1(feature_t)\r\n",
        "            output_t2 = C2(feature_t)\r\n",
        "            loss_dis = discrepancy(output_t1, output_t2)\r\n",
        "            loss_dis.backward()\r\n",
        "            opt_G.step()\r\n",
        "            reset_grad()\r\n",
        "        \r\n",
        "        if (batch_idx + 1) % args.log_interval == 0:\r\n",
        "            print(\"Epoch: {}/{} [{}/{}]: Loss1: {:.5f}, Loss2: {:.5f}, Discrepancy: {:.5f}\"\r\n",
        "                 .format(epoch + 1, args.epochs, batch_idx + 1, min(len(svhn_train_loader), len(mnist_train_loader)), \r\n",
        "                         loss_s1.item(), loss_s2.item(), loss_dis.item()))"
      ],
      "execution_count": 8,
      "outputs": []
    },
    {
      "cell_type": "code",
      "metadata": {
        "id": "LuSNnSRp07YY"
      },
      "source": [
        ""
      ],
      "execution_count": 8,
      "outputs": []
    },
    {
      "cell_type": "markdown",
      "metadata": {
        "id": "wTC3dhm507wg"
      },
      "source": [
        "# Testing network on MNIST test samples as well as SVHN test samples"
      ]
    },
    {
      "cell_type": "code",
      "metadata": {
        "id": "GLXuatJS0_8v"
      },
      "source": [
        "list_acc_svhn_train = []\r\n",
        "list_acc_mnist_train = []\r\n",
        "list_acc_mnist_test = []\r\n",
        "\r\n",
        "def test():\r\n",
        "    G.eval()\r\n",
        "    C1.eval()\r\n",
        "    C2.eval()\r\n",
        "\r\n",
        "\r\n",
        "    correct = 0\r\n",
        "    \r\n",
        "    for (img_s, label_s) in svhn_test_loader:\r\n",
        "        img_s = img_s.to(device)\r\n",
        "        label_s = label_s.to(device)\r\n",
        "        \r\n",
        "        feat = G(img_s)\r\n",
        "        output1 = C1(feat)\r\n",
        "        output2 = C2(feat)\r\n",
        "        \r\n",
        "        output_ensemble = output1 + output2\r\n",
        "        pred_ensemble = output_ensemble.data.max(1)[1]\r\n",
        "        \r\n",
        "        correct += pred_ensemble.eq(label_s.data).cpu().sum()\r\n",
        "        \r\n",
        "    acc_svhn_train = 100. * correct / len(svhn_test_loader.dataset)\r\n",
        "    \r\n",
        "    \r\n",
        "    correct = 0\r\n",
        "    \r\n",
        "    for (img_s, label_s) in mnist_train_loader:\r\n",
        "        img_s = img_s.to(device)\r\n",
        "        label_s = label_s.to(device)\r\n",
        "        \r\n",
        "        feat = G(img_s)\r\n",
        "        output1 = C1(feat)\r\n",
        "        output2 = C2(feat)\r\n",
        "        \r\n",
        "        output_ensemble = output1 + output2\r\n",
        "        pred_ensemble = output_ensemble.data.max(1)[1]\r\n",
        "        \r\n",
        "        correct += pred_ensemble.eq(label_s.data).cpu().sum()\r\n",
        "    \r\n",
        "    acc_mnist_train = 100. * correct / len(mnist_train_loader.dataset)\r\n",
        "    \r\n",
        "    \r\n",
        "    correct = 0\r\n",
        "    \r\n",
        "    for (img_s, label_s) in mnist_test_loader:\r\n",
        "        img_s = img_s.to(device)\r\n",
        "        label_s = label_s.to(device)\r\n",
        "        \r\n",
        "        feat = G(img_s)\r\n",
        "        output1 = C1(feat)\r\n",
        "        output2 = C2(feat)\r\n",
        "        \r\n",
        "        output_ensemble = output1 + output2\r\n",
        "        pred_ensemble = output_ensemble.data.max(1)[1]\r\n",
        "        \r\n",
        "        correct += pred_ensemble.eq(label_s.data).cpu().sum()\r\n",
        "    \r\n",
        "    acc_mnist_test = 100. * correct / len(mnist_test_loader.dataset)\r\n",
        "        \r\n",
        "    print(\r\n",
        "        '\\nTest: SVHN Test: {:.0f}%, MNIST Train: {:.0f}%, MNIST Test: {:.0f}% \\n'.format(acc_svhn_train, acc_mnist_train, acc_mnist_test))\r\n",
        "    list_acc_svhn_train.append(acc_svhn_train)\r\n",
        "    list_acc_mnist_train.append(acc_mnist_train)\r\n",
        "    list_acc_mnist_test.append(acc_mnist_test)"
      ],
      "execution_count": 9,
      "outputs": []
    },
    {
      "cell_type": "code",
      "metadata": {
        "colab": {
          "base_uri": "https://localhost:8080/"
        },
        "id": "0MuRwaE14ygM",
        "outputId": "ef871ac6-33bb-4549-a96d-289fcce83402"
      },
      "source": [
        "for epoch in range(args.epochs):\r\n",
        "    train()\r\n",
        "    test()"
      ],
      "execution_count": 10,
      "outputs": [
        {
          "output_type": "stream",
          "text": [
            "Epoch: 1/20 [100/468]: Loss1: 0.00376, Loss2: 0.00435, Discrepancy: 0.00815\n",
            "Epoch: 1/20 [200/468]: Loss1: 0.00880, Loss2: 0.00725, Discrepancy: 0.01053\n",
            "Epoch: 1/20 [300/468]: Loss1: 0.00739, Loss2: 0.00663, Discrepancy: 0.01596\n",
            "Epoch: 1/20 [400/468]: Loss1: 0.00532, Loss2: 0.00637, Discrepancy: 0.01288\n",
            "\n",
            "Test: SVHN Test: 14%, MNIST Train: 95%, MNIST Test: 95% \n",
            "\n",
            "Epoch: 2/20 [100/468]: Loss1: 0.00377, Loss2: 0.00203, Discrepancy: 0.01288\n",
            "Epoch: 2/20 [200/468]: Loss1: 0.01564, Loss2: 0.01527, Discrepancy: 0.01769\n",
            "Epoch: 2/20 [300/468]: Loss1: 0.00441, Loss2: 0.00340, Discrepancy: 0.01278\n",
            "Epoch: 2/20 [400/468]: Loss1: 0.00140, Loss2: 0.00148, Discrepancy: 0.01505\n",
            "\n",
            "Test: SVHN Test: 15%, MNIST Train: 63%, MNIST Test: 64% \n",
            "\n",
            "Epoch: 3/20 [100/468]: Loss1: 0.00174, Loss2: 0.00201, Discrepancy: 0.01314\n",
            "Epoch: 3/20 [200/468]: Loss1: 0.00393, Loss2: 0.00375, Discrepancy: 0.01325\n",
            "Epoch: 3/20 [300/468]: Loss1: 0.00328, Loss2: 0.00304, Discrepancy: 0.00920\n",
            "Epoch: 3/20 [400/468]: Loss1: 0.00678, Loss2: 0.00780, Discrepancy: 0.01256\n",
            "\n",
            "Test: SVHN Test: 16%, MNIST Train: 81%, MNIST Test: 82% \n",
            "\n",
            "Epoch: 4/20 [100/468]: Loss1: 0.00559, Loss2: 0.00543, Discrepancy: 0.01110\n",
            "Epoch: 4/20 [200/468]: Loss1: 0.00422, Loss2: 0.00416, Discrepancy: 0.01031\n",
            "Epoch: 4/20 [300/468]: Loss1: 0.00442, Loss2: 0.00368, Discrepancy: 0.01221\n",
            "Epoch: 4/20 [400/468]: Loss1: 0.00348, Loss2: 0.00315, Discrepancy: 0.01541\n",
            "\n",
            "Test: SVHN Test: 16%, MNIST Train: 66%, MNIST Test: 67% \n",
            "\n",
            "Epoch: 5/20 [100/468]: Loss1: 0.00220, Loss2: 0.00190, Discrepancy: 0.01172\n",
            "Epoch: 5/20 [200/468]: Loss1: 0.08697, Loss2: 0.08416, Discrepancy: 0.00723\n",
            "Epoch: 5/20 [300/468]: Loss1: 0.00532, Loss2: 0.00588, Discrepancy: 0.01017\n",
            "Epoch: 5/20 [400/468]: Loss1: 0.00397, Loss2: 0.00329, Discrepancy: 0.00793\n",
            "\n",
            "Test: SVHN Test: 16%, MNIST Train: 80%, MNIST Test: 80% \n",
            "\n",
            "Epoch: 6/20 [100/468]: Loss1: 0.00233, Loss2: 0.00265, Discrepancy: 0.01076\n",
            "Epoch: 6/20 [200/468]: Loss1: 0.00310, Loss2: 0.00328, Discrepancy: 0.00989\n",
            "Epoch: 6/20 [300/468]: Loss1: 0.00347, Loss2: 0.00350, Discrepancy: 0.00778\n",
            "Epoch: 6/20 [400/468]: Loss1: 0.00186, Loss2: 0.00176, Discrepancy: 0.00895\n",
            "\n",
            "Test: SVHN Test: 15%, MNIST Train: 78%, MNIST Test: 79% \n",
            "\n",
            "Epoch: 7/20 [100/468]: Loss1: 0.00184, Loss2: 0.00116, Discrepancy: 0.00600\n",
            "Epoch: 7/20 [200/468]: Loss1: 0.00379, Loss2: 0.00389, Discrepancy: 0.00834\n",
            "Epoch: 7/20 [300/468]: Loss1: 0.00293, Loss2: 0.00305, Discrepancy: 0.01173\n",
            "Epoch: 7/20 [400/468]: Loss1: 0.00889, Loss2: 0.00994, Discrepancy: 0.00883\n",
            "\n",
            "Test: SVHN Test: 15%, MNIST Train: 86%, MNIST Test: 86% \n",
            "\n",
            "Epoch: 8/20 [100/468]: Loss1: 0.01568, Loss2: 0.01939, Discrepancy: 0.01090\n",
            "Epoch: 8/20 [200/468]: Loss1: 0.00603, Loss2: 0.00590, Discrepancy: 0.01204\n",
            "Epoch: 8/20 [300/468]: Loss1: 0.00448, Loss2: 0.00507, Discrepancy: 0.00730\n",
            "Epoch: 8/20 [400/468]: Loss1: 0.00465, Loss2: 0.00504, Discrepancy: 0.00758\n",
            "\n",
            "Test: SVHN Test: 14%, MNIST Train: 63%, MNIST Test: 63% \n",
            "\n",
            "Epoch: 9/20 [100/468]: Loss1: 0.00347, Loss2: 0.00305, Discrepancy: 0.01197\n",
            "Epoch: 9/20 [200/468]: Loss1: 0.00528, Loss2: 0.00447, Discrepancy: 0.00800\n",
            "Epoch: 9/20 [300/468]: Loss1: 0.00307, Loss2: 0.00296, Discrepancy: 0.00838\n",
            "Epoch: 9/20 [400/468]: Loss1: 0.00894, Loss2: 0.00625, Discrepancy: 0.00980\n",
            "\n",
            "Test: SVHN Test: 15%, MNIST Train: 58%, MNIST Test: 59% \n",
            "\n",
            "Epoch: 10/20 [100/468]: Loss1: 0.00220, Loss2: 0.00211, Discrepancy: 0.01058\n",
            "Epoch: 10/20 [200/468]: Loss1: 0.00327, Loss2: 0.00250, Discrepancy: 0.00826\n",
            "Epoch: 10/20 [300/468]: Loss1: 0.00521, Loss2: 0.00445, Discrepancy: 0.00821\n",
            "Epoch: 10/20 [400/468]: Loss1: 0.00432, Loss2: 0.00346, Discrepancy: 0.00862\n",
            "\n",
            "Test: SVHN Test: 14%, MNIST Train: 60%, MNIST Test: 60% \n",
            "\n",
            "Epoch: 11/20 [100/468]: Loss1: 0.00265, Loss2: 0.00306, Discrepancy: 0.00824\n",
            "Epoch: 11/20 [200/468]: Loss1: 0.00342, Loss2: 0.00419, Discrepancy: 0.01151\n",
            "Epoch: 11/20 [300/468]: Loss1: 0.00709, Loss2: 0.00471, Discrepancy: 0.01049\n",
            "Epoch: 11/20 [400/468]: Loss1: 0.00269, Loss2: 0.00286, Discrepancy: 0.00921\n",
            "\n",
            "Test: SVHN Test: 15%, MNIST Train: 73%, MNIST Test: 73% \n",
            "\n",
            "Epoch: 12/20 [100/468]: Loss1: 0.00478, Loss2: 0.00475, Discrepancy: 0.01128\n",
            "Epoch: 12/20 [200/468]: Loss1: 0.00293, Loss2: 0.00342, Discrepancy: 0.00783\n",
            "Epoch: 12/20 [300/468]: Loss1: 0.00443, Loss2: 0.00375, Discrepancy: 0.01010\n",
            "Epoch: 12/20 [400/468]: Loss1: 0.00196, Loss2: 0.00205, Discrepancy: 0.01265\n",
            "\n",
            "Test: SVHN Test: 14%, MNIST Train: 45%, MNIST Test: 46% \n",
            "\n",
            "Epoch: 13/20 [100/468]: Loss1: 0.00353, Loss2: 0.00370, Discrepancy: 0.00907\n",
            "Epoch: 13/20 [200/468]: Loss1: 0.00255, Loss2: 0.00210, Discrepancy: 0.00966\n",
            "Epoch: 13/20 [300/468]: Loss1: 0.00215, Loss2: 0.00202, Discrepancy: 0.00804\n",
            "Epoch: 13/20 [400/468]: Loss1: 0.00187, Loss2: 0.00239, Discrepancy: 0.00712\n",
            "\n",
            "Test: SVHN Test: 14%, MNIST Train: 68%, MNIST Test: 69% \n",
            "\n",
            "Epoch: 14/20 [100/468]: Loss1: 0.00163, Loss2: 0.00158, Discrepancy: 0.00652\n",
            "Epoch: 14/20 [200/468]: Loss1: 0.00654, Loss2: 0.00366, Discrepancy: 0.00438\n",
            "Epoch: 14/20 [300/468]: Loss1: 0.00180, Loss2: 0.00201, Discrepancy: 0.00823\n",
            "Epoch: 14/20 [400/468]: Loss1: 0.00447, Loss2: 0.00370, Discrepancy: 0.00616\n",
            "\n",
            "Test: SVHN Test: 13%, MNIST Train: 63%, MNIST Test: 63% \n",
            "\n",
            "Epoch: 15/20 [100/468]: Loss1: 0.00093, Loss2: 0.00095, Discrepancy: 0.01022\n",
            "Epoch: 15/20 [200/468]: Loss1: 0.00401, Loss2: 0.00302, Discrepancy: 0.00652\n",
            "Epoch: 15/20 [300/468]: Loss1: 0.00185, Loss2: 0.00240, Discrepancy: 0.00739\n",
            "Epoch: 15/20 [400/468]: Loss1: 0.00241, Loss2: 0.00278, Discrepancy: 0.00886\n",
            "\n",
            "Test: SVHN Test: 13%, MNIST Train: 53%, MNIST Test: 52% \n",
            "\n",
            "Epoch: 16/20 [100/468]: Loss1: 0.00247, Loss2: 0.00308, Discrepancy: 0.00944\n",
            "Epoch: 16/20 [200/468]: Loss1: 0.00304, Loss2: 0.00425, Discrepancy: 0.00827\n",
            "Epoch: 16/20 [300/468]: Loss1: 0.00376, Loss2: 0.00400, Discrepancy: 0.00775\n",
            "Epoch: 16/20 [400/468]: Loss1: 0.00193, Loss2: 0.00192, Discrepancy: 0.00638\n",
            "\n",
            "Test: SVHN Test: 14%, MNIST Train: 57%, MNIST Test: 60% \n",
            "\n",
            "Epoch: 17/20 [100/468]: Loss1: 0.00512, Loss2: 0.00623, Discrepancy: 0.00670\n",
            "Epoch: 17/20 [200/468]: Loss1: 0.00395, Loss2: 0.00313, Discrepancy: 0.00538\n",
            "Epoch: 17/20 [300/468]: Loss1: 0.00737, Loss2: 0.00540, Discrepancy: 0.00702\n",
            "Epoch: 17/20 [400/468]: Loss1: 0.00232, Loss2: 0.00281, Discrepancy: 0.00747\n",
            "\n",
            "Test: SVHN Test: 12%, MNIST Train: 56%, MNIST Test: 56% \n",
            "\n",
            "Epoch: 18/20 [100/468]: Loss1: 0.02718, Loss2: 0.02480, Discrepancy: 0.00615\n",
            "Epoch: 18/20 [200/468]: Loss1: 0.00327, Loss2: 0.00323, Discrepancy: 0.00503\n",
            "Epoch: 18/20 [300/468]: Loss1: 0.00283, Loss2: 0.00320, Discrepancy: 0.00551\n",
            "Epoch: 18/20 [400/468]: Loss1: 0.00611, Loss2: 0.00410, Discrepancy: 0.00630\n",
            "\n",
            "Test: SVHN Test: 13%, MNIST Train: 54%, MNIST Test: 55% \n",
            "\n",
            "Epoch: 19/20 [100/468]: Loss1: 0.00251, Loss2: 0.00291, Discrepancy: 0.00788\n",
            "Epoch: 19/20 [200/468]: Loss1: 0.00166, Loss2: 0.00145, Discrepancy: 0.00570\n",
            "Epoch: 19/20 [300/468]: Loss1: 0.00216, Loss2: 0.00221, Discrepancy: 0.00666\n",
            "Epoch: 19/20 [400/468]: Loss1: 0.00230, Loss2: 0.00318, Discrepancy: 0.00840\n",
            "\n",
            "Test: SVHN Test: 12%, MNIST Train: 51%, MNIST Test: 52% \n",
            "\n",
            "Epoch: 20/20 [100/468]: Loss1: 0.00233, Loss2: 0.00237, Discrepancy: 0.00624\n",
            "Epoch: 20/20 [200/468]: Loss1: 0.00157, Loss2: 0.00208, Discrepancy: 0.00613\n",
            "Epoch: 20/20 [300/468]: Loss1: 0.00334, Loss2: 0.00289, Discrepancy: 0.00627\n",
            "Epoch: 20/20 [400/468]: Loss1: 0.00255, Loss2: 0.00254, Discrepancy: 0.00646\n",
            "\n",
            "Test: SVHN Test: 16%, MNIST Train: 69%, MNIST Test: 69% \n",
            "\n"
          ],
          "name": "stdout"
        }
      ]
    },
    {
      "cell_type": "code",
      "metadata": {
        "colab": {
          "base_uri": "https://localhost:8080/",
          "height": 347
        },
        "id": "lYGdMk9X5DBf",
        "outputId": "1f35fd3f-e417-4c12-c9a6-e23248d19a25"
      },
      "source": [
        "\r\n",
        "import matplotlib.pylab as pylab\r\n",
        "params = {'legend.fontsize': 'x-large',\r\n",
        "          'figure.figsize': (15, 5),\r\n",
        "         'axes.labelsize': 'x-large',\r\n",
        "         'axes.titlesize':'x-large',\r\n",
        "         'xtick.labelsize':'x-large',\r\n",
        "         'ytick.labelsize':'x-large'}\r\n",
        "pylab.rcParams.update(params)\r\n",
        "\r\n",
        "fig, ax = plt.subplots()\r\n",
        "ax.plot(range(1, epoch + 2), list_acc_mnist_test, c = 'b', label = 'mnist_test_acc', marker = '^')\r\n",
        "ax.plot(range(1, epoch + 2), list_acc_mnist_train, c = 'r', label = 'mnist_train_acc', marker = 'o')\r\n",
        "ax.plot(range(1, epoch + 2), list_acc_svhn_train, label = 'svhn_test_acc', c = 'green', marker = '*')\r\n",
        "\r\n",
        "ax.legend()\r\n",
        "ax.set(xlabel='epoch', ylabel='accuracy (%)')\r\n",
        "ax.set_ylim(0, 100)\r\n",
        "\r\n",
        "plt.xticks(range(1, epoch + 1))\r\n",
        "figure = plt.gcf()\r\n",
        "figure.set_size_inches(10, 5)\r\n",
        "plt.show()"
      ],
      "execution_count": 11,
      "outputs": [
        {
          "output_type": "display_data",
          "data": {
            "image/png": "[encoded data removed]",
            "text/plain": [
              "<Figure size 720x360 with 1 Axes>"
            ]
          },
          "metadata": {
            "tags": [],
            "needs_background": "light"
          }
        }
      ]
    },
    {
      "cell_type": "code",
      "metadata": {
        "id": "w2Fl_ziwGOGp"
      },
      "source": [
        ""
      ],
      "execution_count": 11,
      "outputs": []
    }
  ]
}