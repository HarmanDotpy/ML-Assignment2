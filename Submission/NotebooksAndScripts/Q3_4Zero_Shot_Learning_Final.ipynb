{
  "nbformat": 4,
  "nbformat_minor": 0,
  "metadata": {
    "colab": {
      "name": "Q3.4Zero Shot Learning.ipynb",
      "provenance": [],
      "collapsed_sections": [],
      "authorship_tag": "ABX9TyN2S67j/tP5sGyRbFvOmy9G",
      "include_colab_link": true
    },
    "kernelspec": {
      "name": "python3",
      "display_name": "Python 3"
    },
    "accelerator": "GPU"
  },
  "cells": [
    {
      "cell_type": "markdown",
      "metadata": {
        "id": "view-in-github",
        "colab_type": "text"
      },
      "source": [
        "<a href=\"https://colab.research.google.com/github/HarmanDotpy/ML-Assignment2/blob/main/Q3_4Zero_Shot_Learning_Final.ipynb\" target=\"_parent\"><img src=\"https://colab.research.google.com/assets/colab-badge.svg\" alt=\"Open In Colab\"/></a>"
      ]
    },
    {
      "cell_type": "code",
      "metadata": {
        "id": "D23JgMzlxZ0n"
      },
      "source": [
        "import torch\r\n",
        "from torch.utils.data import DataLoader\r\n",
        "from torch.utils.data import ConcatDataset\r\n",
        "from torch.utils.data import random_split\r\n",
        "import torch.nn as nn\r\n",
        "import torchvision\r\n",
        "import torchvision.transforms as transforms\r\n",
        "import pandas as pd\r\n",
        "import seaborn as sb\r\n",
        "import numpy as np\r\n",
        "import matplotlib.pyplot as plt"
      ],
      "execution_count": 1,
      "outputs": []
    },
    {
      "cell_type": "code",
      "metadata": {
        "id": "U5K55-9L4X3x"
      },
      "source": [
        ""
      ],
      "execution_count": 1,
      "outputs": []
    },
    {
      "cell_type": "code",
      "metadata": {
        "colab": {
          "base_uri": "https://localhost:8080/"
        },
        "id": "ksl4vzQ9QoRn",
        "outputId": "8343e1ca-28ec-4dc7-9a78-6a01951c3b37"
      },
      "source": [
        "device = torch.device('cuda' if torch.cuda.is_available() else 'cpu')\r\n",
        "device"
      ],
      "execution_count": 2,
      "outputs": [
        {
          "output_type": "execute_result",
          "data": {
            "text/plain": [
              "device(type='cuda')"
            ]
          },
          "metadata": {
            "tags": []
          },
          "execution_count": 2
        }
      ]
    },
    {
      "cell_type": "code",
      "metadata": {
        "id": "7LckE5_1zC_U"
      },
      "source": [
        "def performance_metrics_multiclass(y_pred_test, y_test, num_class, disp_conf = True):\r\n",
        "    '''gives the TPR, FPR, acc, precision, recall and F1 score for all classes by comparing the 2 input arrays'''\r\n",
        "    #First we calculate the confusion matrix of size num_class*num_class\r\n",
        "    #NOTE: Y axis of matrix will be predicted class and x axis wll be true class\r\n",
        "    conf_mat = np.zeros((num_class, num_class))\r\n",
        "    \r\n",
        "    for i in range(num_class):\r\n",
        "        for j in range(num_class):\r\n",
        "            conf_mat[i, j] = np.logical_and(y_pred_test == i, y_test ==j).sum()\r\n",
        "    # Calculating precision, recall, F1 Score for each class\r\n",
        "    colnames = ['class', 'Precision', 'Recall', 'F1']\r\n",
        "    df = pd.DataFrame(columns = colnames)\r\n",
        "    for i in range(num_class):\r\n",
        "        TP = conf_mat[i, i]\r\n",
        "        FP = conf_mat[i].sum() - conf_mat[i, i]\r\n",
        "        TN = conf_mat.sum() - conf_mat[i].sum() - conf_mat[:, i].sum() +  conf_mat[i, i]\r\n",
        "        FN = conf_mat[:, i].sum() - conf_mat[i, i]\r\n",
        "        P = round((TP)/(TP+FP), 5)\r\n",
        "        R = round((TP)/(TP+FN), 5)\r\n",
        "        F1 = round(2*P*R/(P+R), 5)\r\n",
        "        df = df.append({'class':categories[i], 'Precision':P, 'Recall':R, 'F1':F1 }, ignore_index = True)\r\n",
        "    macroF1 = round(df['F1'].mean(), 5)\r\n",
        "    accuracy = round((y_pred_test==y_test).mean(), 5)\r\n",
        "    \r\n",
        "    # NOTE : returning the transpose of the confusion matricx to get true labels on the y axis\r\n",
        "    conf_mat = conf_mat.T\r\n",
        "    # NORMALIZING the confusion matrix\r\n",
        "    conf_mat = np.around(conf_mat/(conf_mat.sum(axis = 1)), decimals = 5)\r\n",
        "    \r\n",
        "    \r\n",
        "    #PLot the matrix if disp_conf = True\r\n",
        "    if(disp_conf == True):\r\n",
        "        ax = sb.heatmap(conf_mat, vmin = 0, vmax = 1, cmap = sb.light_palette(\"seagreen\", as_cmap=True), xticklabels = categories, yticklabels = categories, annot = True, annot_kws={\"size\": 12}, fmt=\".3f\")\r\n",
        "    #     ax.figure.axes[-1].yaxis.label.set_size(12)\r\n",
        "        plt.xlabel('Predicted Labels', fontsize = 14)\r\n",
        "        plt.ylabel('True Labels', fontsize = 14)\r\n",
        "        plt.tick_params(axis='both', labelsize=10)\r\n",
        "        return conf_mat, df, macroF1, accuracy, plt\r\n",
        "    \r\n",
        "    return conf_mat, df, macroF1, accuracy"
      ],
      "execution_count": 3,
      "outputs": []
    },
    {
      "cell_type": "code",
      "metadata": {
        "id": "xSzjYk6DzF4M"
      },
      "source": [
        "# model hyperparameters\r\n",
        "batch_size = 128\r\n",
        "num_epochs = 10\r\n",
        "num_classes = 10\r\n",
        "learning_rate = 0.001\r\n",
        "\r\n",
        "# transforms for the datasets\r\n",
        "# MNIST is single channeled, for , eg CIFAR dataset , the normalization has to use mean and variance of all three ie Red, Blue and Green\r\n",
        "trans = transforms.Compose([transforms.ToTensor(), transforms.Normalize((0.1307,),(0.3081,))])\r\n",
        "\r\n",
        "# download the datasets in folders\r\n",
        "train_data = torchvision.datasets.MNIST(root ='./DATA_STORE', train = True, transform = trans, download = True)\r\n",
        "test_data = torchvision.datasets.MNIST(root = './DATA_STORE', train = False,transform = trans, download = True)\r\n",
        "\r\n",
        "idx_first5 = (train_data.targets==0) | (train_data.targets==1) | (train_data.targets==2) | (train_data.targets==3)| (train_data.targets==4)\r\n",
        "\r\n",
        "# idx_first5 = (train_data.targets==4)\r\n",
        "# idx_last5 = (train_data.targets>4)\r\n",
        "\r\n",
        "train_data.targets = train_data.targets[idx_first5]\r\n",
        "train_data.data = train_data.data[idx_first5]\r\n",
        "#######################\r\n",
        "# idx_first5 = (test_data.targets<=4)\r\n",
        "idx_last5 = (test_data.targets==5) | (test_data.targets==6) | (test_data.targets==7) | (test_data.targets==8)| (test_data.targets==9)\r\n",
        "\r\n",
        "test_data.targets = test_data.targets[idx_last5]\r\n",
        "test_data.data = test_data.data[idx_last5]\r\n",
        "\r\n",
        "# load into dataloader\r\n",
        "train_loader = DataLoader(dataset = train_data, batch_size = batch_size, shuffle = True)\r\n",
        "test_loader = DataLoader(dataset = test_data, batch_size = len(test_data), shuffle = False)"
      ],
      "execution_count": 12,
      "outputs": []
    },
    {
      "cell_type": "code",
      "metadata": {
        "id": "61MnFy2czc-H"
      },
      "source": [
        "# our class inherits from the torch.nn.Module class \r\n",
        "\r\n",
        "# nn.Conv2d(input channels, output channels, Kernel size, stride, padding)\r\n",
        "class ConvNet(nn.Module):\r\n",
        "  def __init__(self):\r\n",
        "    super(ConvNet, self).__init__()\r\n",
        "    self.layer1 = nn.Sequential(\r\n",
        "        nn.Conv2d(1, 32, kernel_size = 5, stride = 1, padding = 2),\r\n",
        "        nn.ReLU(),\r\n",
        "        nn.MaxPool2d(kernel_size = 2,stride = 2)\r\n",
        "        )\r\n",
        "    self.layer2 = nn.Sequential(\r\n",
        "        nn.Conv2d(32, 64,kernel_size = 5, stride = 1, padding = 2),\r\n",
        "        nn.ReLU(),\r\n",
        "        nn.MaxPool2d(kernel_size = 2, stride = 2)\r\n",
        "        )\r\n",
        "    self.drop_out = nn.Dropout()\r\n",
        "    self.fc1 = nn.Linear(7*7*64,1000)\r\n",
        "    self.fc2 = nn.Linear(1000, 10)\r\n",
        "\r\n",
        "  def forward(self, x):\r\n",
        "    out = self.layer1(x)\r\n",
        "    out = self.layer2(out)\r\n",
        "    out = out.reshape(out.size(0), -1)    \r\n",
        "    out = self.drop_out(out)\r\n",
        "    out = self.fc1(out)\r\n",
        "    out = self.fc2(out)\r\n",
        "    return out"
      ],
      "execution_count": 13,
      "outputs": []
    },
    {
      "cell_type": "code",
      "metadata": {
        "id": "HeqvUQyj4QHU"
      },
      "source": [
        "#  initializing the model\r\n",
        "model = ConvNet()\r\n",
        "model = model.to(device)\r\n",
        "criterion = nn.CrossEntropyLoss()\r\n",
        "optimizer = torch.optim.Adam(model.parameters(), lr = learning_rate)"
      ],
      "execution_count": 14,
      "outputs": []
    },
    {
      "cell_type": "code",
      "metadata": {
        "colab": {
          "base_uri": "https://localhost:8080/",
          "height": 486
        },
        "id": "ELFkX0Yf4R-0",
        "outputId": "c1b6f2c1-06e2-41fb-eb7f-684482f0e989"
      },
      "source": [
        "# Training the model\r\n",
        "totalsteps = len(train_loader)\r\n",
        "losslist = []\r\n",
        "accuracylist = []\r\n",
        "for epoch in range(num_epochs):\r\n",
        "  for i, (images, labels) in enumerate(train_loader):\r\n",
        "    images, labels = images.to(device), labels.to(device)\r\n",
        "    # FORWARD PROP, model(images) automatically calls forward\r\n",
        "    outputs = model(images)\r\n",
        "    loss = criterion(outputs, labels)\r\n",
        "    losslist.append(loss.item())\r\n",
        "\r\n",
        "    # BACK PROP\r\n",
        "    # make the gradients zero\r\n",
        "    optimizer.zero_grad() \r\n",
        "    # perform the backward propagation and get the gradients\r\n",
        "    loss.backward()\r\n",
        "    # adam optimizer training step . We use the gradients in this step\r\n",
        "    optimizer.step()\r\n",
        "\r\n",
        "    # Accuracy\r\n",
        "    # Note we take batch_size amounts of y's at a time\r\n",
        "    total = labels.size(0)\r\n",
        "    predicted = torch.max(outputs.data,1)[1]\r\n",
        "    correct = (predicted == labels).sum().item()\r\n",
        "    accuracy = correct / total\r\n",
        "    accuracylist.append(accuracy)\r\n",
        "\r\n",
        "    # item() is used for getting the scalar from a tensor\r\n",
        "    if(i + 1) % 100 == 0:\r\n",
        "      print('Epoch [{}/{}], Step [{}/{}], Loss: {:.4f}, Accuracy: {:.2f}%'.format(epoch + 1, num_epochs, i+1, totalsteps, loss.item(),(accuracy)*100 ))\r\n"
      ],
      "execution_count": 15,
      "outputs": [
        {
          "output_type": "stream",
          "text": [
            "Epoch [1/10], Step [100/240], Loss: 0.0953, Accuracy: 96.88%\n",
            "Epoch [1/10], Step [200/240], Loss: 0.0180, Accuracy: 99.22%\n",
            "Epoch [2/10], Step [100/240], Loss: 0.0201, Accuracy: 99.22%\n",
            "Epoch [2/10], Step [200/240], Loss: 0.0486, Accuracy: 97.66%\n",
            "Epoch [3/10], Step [100/240], Loss: 0.0070, Accuracy: 99.22%\n",
            "Epoch [3/10], Step [200/240], Loss: 0.0348, Accuracy: 98.44%\n",
            "Epoch [4/10], Step [100/240], Loss: 0.0202, Accuracy: 99.22%\n",
            "Epoch [4/10], Step [200/240], Loss: 0.0202, Accuracy: 99.22%\n",
            "Epoch [5/10], Step [100/240], Loss: 0.0275, Accuracy: 99.22%\n",
            "Epoch [5/10], Step [200/240], Loss: 0.0009, Accuracy: 100.00%\n",
            "Epoch [6/10], Step [100/240], Loss: 0.0011, Accuracy: 100.00%\n",
            "Epoch [6/10], Step [200/240], Loss: 0.0117, Accuracy: 99.22%\n",
            "Epoch [7/10], Step [100/240], Loss: 0.0045, Accuracy: 100.00%\n",
            "Epoch [7/10], Step [200/240], Loss: 0.0005, Accuracy: 100.00%\n",
            "Epoch [8/10], Step [100/240], Loss: 0.0098, Accuracy: 100.00%\n"
          ],
          "name": "stdout"
        },
        {
          "output_type": "error",
          "ename": "KeyboardInterrupt",
          "evalue": "ignored",
          "traceback": [
            "\u001b[0;31m---------------------------------------------------------------------------\u001b[0m",
            "\u001b[0;31mKeyboardInterrupt\u001b[0m                         Traceback (most recent call last)",
            "\u001b[0;32m<ipython-input-15-e94fd8354b06>\u001b[0m in \u001b[0;36m<module>\u001b[0;34m()\u001b[0m\n\u001b[1;32m     23\u001b[0m     \u001b[0mtotal\u001b[0m \u001b[0;34m=\u001b[0m \u001b[0mlabels\u001b[0m\u001b[0;34m.\u001b[0m\u001b[0msize\u001b[0m\u001b[0;34m(\u001b[0m\u001b[0;36m0\u001b[0m\u001b[0;34m)\u001b[0m\u001b[0;34m\u001b[0m\u001b[0;34m\u001b[0m\u001b[0m\n\u001b[1;32m     24\u001b[0m     \u001b[0mpredicted\u001b[0m \u001b[0;34m=\u001b[0m \u001b[0mtorch\u001b[0m\u001b[0;34m.\u001b[0m\u001b[0mmax\u001b[0m\u001b[0;34m(\u001b[0m\u001b[0moutputs\u001b[0m\u001b[0;34m.\u001b[0m\u001b[0mdata\u001b[0m\u001b[0;34m,\u001b[0m\u001b[0;36m1\u001b[0m\u001b[0;34m)\u001b[0m\u001b[0;34m[\u001b[0m\u001b[0;36m1\u001b[0m\u001b[0;34m]\u001b[0m\u001b[0;34m\u001b[0m\u001b[0;34m\u001b[0m\u001b[0m\n\u001b[0;32m---> 25\u001b[0;31m     \u001b[0mcorrect\u001b[0m \u001b[0;34m=\u001b[0m \u001b[0;34m(\u001b[0m\u001b[0mpredicted\u001b[0m \u001b[0;34m==\u001b[0m \u001b[0mlabels\u001b[0m\u001b[0;34m)\u001b[0m\u001b[0;34m.\u001b[0m\u001b[0msum\u001b[0m\u001b[0;34m(\u001b[0m\u001b[0;34m)\u001b[0m\u001b[0;34m.\u001b[0m\u001b[0mitem\u001b[0m\u001b[0;34m(\u001b[0m\u001b[0;34m)\u001b[0m\u001b[0;34m\u001b[0m\u001b[0;34m\u001b[0m\u001b[0m\n\u001b[0m\u001b[1;32m     26\u001b[0m     \u001b[0maccuracy\u001b[0m \u001b[0;34m=\u001b[0m \u001b[0mcorrect\u001b[0m \u001b[0;34m/\u001b[0m \u001b[0mtotal\u001b[0m\u001b[0;34m\u001b[0m\u001b[0;34m\u001b[0m\u001b[0m\n\u001b[1;32m     27\u001b[0m     \u001b[0maccuracylist\u001b[0m\u001b[0;34m.\u001b[0m\u001b[0mappend\u001b[0m\u001b[0;34m(\u001b[0m\u001b[0maccuracy\u001b[0m\u001b[0;34m)\u001b[0m\u001b[0;34m\u001b[0m\u001b[0;34m\u001b[0m\u001b[0m\n",
            "\u001b[0;31mKeyboardInterrupt\u001b[0m: "
          ]
        }
      ]
    },
    {
      "cell_type": "code",
      "metadata": {
        "id": "lR1ih4ZKxyae"
      },
      "source": [
        "# model.eval()\n",
        "# categories = ['{}'.format(i+5) for i in range(5)]\n",
        "# with torch.no_grad():\n",
        "#   correct = 0\n",
        "#   total = 0\n",
        "#   # The following loop runs only for 1 time as the batch size for test loader is the size of number of test images only\n",
        "#   for images, labels in test_loader:\n",
        "#     images, labels = images.to(device), labels.to(device)\n",
        "#     outputs = model(images)\n",
        "#     predictions = torch.max(output.data[:,5:],1)[1]+torch.Tensor([5]).to(device)\n",
        "\n",
        "\n",
        "#     confmat, df, macrof1, acc, plt = performance_metrics_multiclass(predicted.to('cpu').numpy(), labels.to('cpu').numpy(), num_classes)\n",
        "#     print(confmat)\n",
        "#     print(df)\n",
        "#     print('macroF1 = {}, accuracy = {}'.format(macrof1, acc))\n",
        "#     total += labels.size(0)\n",
        "#     correct += (predicted == labels).sum().item()\n",
        "\n",
        "#   print('Test Accuracy for {} test images = {} %'.format(len(test_loader.dataset) ,(correct/total)*100))\n",
        "\n",
        "#   # torch.save(model.state_dict(), './MODEL_STORE/MNIST_conve_nets.ckpt')\n",
        "\n",
        "\n",
        "#   ##Performance metrics\n"
      ],
      "execution_count": 39,
      "outputs": []
    },
    {
      "cell_type": "markdown",
      "metadata": {
        "id": "5fNF3Oqrxyae"
      },
      "source": [
        "GRAPH PLOTS\n"
      ]
    },
    {
      "cell_type": "code",
      "metadata": {
        "colab": {
          "base_uri": "https://localhost:8080/",
          "height": 288
        },
        "id": "EKaZvf8cxyae",
        "outputId": "9698543a-5dfc-4096-fb31-9c75fceb69c8"
      },
      "source": [
        "import matplotlib.pyplot as plt\n",
        "plt.plot(losslist, color = 'green', linewidth = 0.7 )\n",
        "plt.xlabel('steps', fontsize=20)\n",
        "plt.ylabel('Loss', fontsize=20)\n",
        "# plt.plot(accuracylist, color = 'red', linewidth = 0.7)\n",
        "# plt.xlim(0,700)\n",
        "# plt.ylim(0,1.05)\n",
        "plt.show()\n"
      ],
      "execution_count": 27,
      "outputs": [
        {
          "output_type": "display_data",
          "data": {
            "image/png": "[encoded data removed]",
            "text/plain": [
              "<Figure size 432x288 with 1 Axes>"
            ]
          },
          "metadata": {
            "tags": [],
            "needs_background": "light"
          }
        }
      ]
    },
    {
      "cell_type": "code",
      "metadata": {
        "id": "qbyJ-Pb5DTlQ"
      },
      "source": [
        "##TESTING"
      ],
      "execution_count": 40,
      "outputs": []
    },
    {
      "cell_type": "code",
      "metadata": {
        "colab": {
          "base_uri": "https://localhost:8080/",
          "height": 85
        },
        "id": "L2mtf3f2-8d_",
        "outputId": "a62daa4e-f21d-47b7-ad2f-2e404cf4e32c"
      },
      "source": [
        "import numpy as np\r\n",
        "fig = plt.figure()\r\n",
        "rows = 2\r\n",
        "columns = 5\r\n",
        "count1 = 0\r\n",
        "count2 = 1\r\n",
        "predicted = np.zeros(10)\r\n",
        "total = 0\r\n",
        "correct = 0\r\n",
        "print('taking every {}th image from the test dataset :'.format(every))\r\n",
        "for i, (images, labels) in enumerate(test_loader):\r\n",
        "  images, labels = images.to(device), labels.to(device)\r\n",
        "  imgs = images.to('cpu')\r\n",
        "  output = model(images)\r\n",
        "  predictions = torch.max(output.data[:,5:],1)[1]+5\r\n",
        "  print(predictions)\r\n",
        "  # print(output)\r\n",
        "  for j in range(images.size(0)):\r\n",
        "    total+=1\r\n",
        "    if(predictions[j] == labels[j] and count1<1000):\r\n",
        "        correct+=1\r\n",
        "\r\n",
        "print('Accuracy on Novel classes = {}%'.format(correct/total*100))"
      ],
      "execution_count": 38,
      "outputs": [
        {
          "output_type": "stream",
          "text": [
            "taking every 1th image from the test dataset :\n",
            "tensor([9, 9, 9,  ..., 8, 6, 9], device='cuda:0')\n",
            "Accuracy on Novel classes = 23.14338613454022%\n"
          ],
          "name": "stdout"
        },
        {
          "output_type": "display_data",
          "data": {
            "text/plain": [
              "<Figure size 432x288 with 0 Axes>"
            ]
          },
          "metadata": {
            "tags": []
          }
        }
      ]
    },
    {
      "cell_type": "markdown",
      "metadata": {
        "id": "E_8CUhM4HlfF"
      },
      "source": [
        "## USING PCA facts and common knowledge about digits we classify output1 as 7, 3 as 8 ... beause they look similar and are close in tPCA plot and result we get is a 11 percent increae in accuracy"
      ]
    },
    {
      "cell_type": "code",
      "metadata": {
        "colab": {
          "base_uri": "https://localhost:8080/",
          "height": 102
        },
        "id": "2DEtfAXqDWPa",
        "outputId": "aad96dcc-26c4-4b97-b38b-1499ba3430f9"
      },
      "source": [
        "import numpy as np\r\n",
        "fig = plt.figure()\r\n",
        "rows = 2\r\n",
        "columns = 5\r\n",
        "count1 = 0\r\n",
        "count2 = 1\r\n",
        "predicted = np.zeros(10)\r\n",
        "total = 0\r\n",
        "correct = 0\r\n",
        "print('taking every {}th image from the test dataset :'.format(every))\r\n",
        "for i, (images, labels) in enumerate(test_loader):\r\n",
        "  images, labels = images.to(device), labels.to(device)\r\n",
        "  imgs = images.to('cpu')\r\n",
        "  output = model(images)\r\n",
        "  predictions = torch.max(output.data[:,0:5],1)[1]\r\n",
        "  print(predictions)\r\n",
        "  prediction_changed = np.zeros(predictions.shape[0])\r\n",
        "  for x in range(predictions.shape[0]):\r\n",
        "    if(predictions[x]==4):\r\n",
        "      prediction_changed[x]=9\r\n",
        "    if(predictions[x]==0):\r\n",
        "      predictions[x]=6\r\n",
        "    if(predictions[x]==3):\r\n",
        "      prediction_changed[x]=8\r\n",
        "    if(predictions[x]==1):\r\n",
        "      prediction_changed[x]=7\r\n",
        "    if(predictions[x]==2):\r\n",
        "      prediction_changed[x]=5\r\n",
        "  print(prediction_changed)\r\n",
        "  # print(output)\r\n",
        "  for j in range(images.size(0)):\r\n",
        "    total+=1\r\n",
        "    if(prediction_changed[j] == labels[j] and count1<1000):\r\n",
        "        correct+=1\r\n",
        "\r\n",
        "print('Accuracy on Novel classes = {}%'.format(correct/total*100))"
      ],
      "execution_count": 47,
      "outputs": [
        {
          "output_type": "stream",
          "text": [
            "taking every 1th image from the test dataset :\n",
            "tensor([3, 4, 0,  ..., 4, 0, 0], device='cuda:0')\n",
            "[8. 9. 0. ... 9. 0. 0.]\n",
            "Accuracy on Novel classes = 34.41678666940959%\n"
          ],
          "name": "stdout"
        },
        {
          "output_type": "display_data",
          "data": {
            "text/plain": [
              "<Figure size 432x288 with 0 Axes>"
            ]
          },
          "metadata": {
            "tags": []
          }
        }
      ]
    },
    {
      "cell_type": "code",
      "metadata": {
        "id": "bIENU1hFDWRW"
      },
      "source": [
        ""
      ],
      "execution_count": null,
      "outputs": []
    },
    {
      "cell_type": "markdown",
      "metadata": {
        "id": "jNYu0O8rUWgH"
      },
      "source": [
        "# SOME RANDOM EXPERIMENTS \n",
        "Using test data images"
      ]
    },
    {
      "cell_type": "code",
      "metadata": {
        "id": "f6HmIL1hUUo_",
        "colab": {
          "base_uri": "https://localhost:8080/",
          "height": 291
        },
        "outputId": "1ba5d088-f613-4b6c-c698-201d59dd19e9"
      },
      "source": [
        "import numpy as np\n",
        "fig = plt.figure()\n",
        "rows = 2\n",
        "columns = 5\n",
        "count1 = 0\n",
        "count2 = 1\n",
        "predicted = np.zeros(10)\n",
        "every = 50\n",
        "print('taking every {}th image from the test dataset :'.format(every))\n",
        "for i, (images, labels) in enumerate(test_loader):\n",
        "  images, labels = images.to(device), labels.to(device)\n",
        "  imgs = images.to('cpu')\n",
        "\n",
        "  for j in range(images.size(0)):\n",
        "    if((j+1) % 50 ==0 and count1<10):\n",
        "      if(count2 % 50 == 0):\n",
        "        output = model(images)\n",
        "        predictions = torch.max(output.data[:,0:5],1)[1]\n",
        "        # print(predictions)\n",
        "        prediction_changed = np.zeros(predictions.shape[0])\n",
        "        for x in range(predictions.shape[0]):\n",
        "          if(predictions[x]==4):\n",
        "            prediction_changed[x]=9\n",
        "          if(predictions[x]==0):\n",
        "            predictions[x]=6\n",
        "          if(predictions[x]==3):\n",
        "            prediction_changed[x]=8\n",
        "          if(predictions[x]==1):\n",
        "            prediction_changed[x]=7\n",
        "          if(predictions[x]==2):\n",
        "            prediction_changed[x]=5\n",
        "        predicted[count1] = prediction_changed[j].item()\n",
        "\n",
        "\n",
        "        a = fig.add_subplot(rows, columns, count1+1)\n",
        "        a.title.set_text('T={},P={}'.format(labels[j].item(), prediction_changed[j].item()))\n",
        "        # a.set_xticks()\n",
        "        # a.set_title(labels[j].item(), color ='white')\n",
        "        plt.imshow(np.array(imgs[j]).reshape((28,28)), cmap = 'gray')\n",
        "        x = np.arange(10)\n",
        "        y = np.arange(10)\n",
        "        plt.xticks(x, \" \")\n",
        "        plt.yticks(y, \" \")\n",
        "        count1+=1\n",
        "\n",
        "    count2+=1\n",
        "plt.show()\n",
        "print('The output predictions by the model are : ')\n",
        "print(predicted)\n"
      ],
      "execution_count": 50,
      "outputs": [
        {
          "output_type": "stream",
          "text": [
            "taking every 50th image from the test dataset :\n"
          ],
          "name": "stdout"
        },
        {
          "output_type": "display_data",
          "data": {
            "image/png": "[encoded data removed]",
            "text/plain": [
              "<Figure size 432x288 with 10 Axes>"
            ]
          },
          "metadata": {
            "tags": [],
            "needs_background": "light"
          }
        },
        {
          "output_type": "stream",
          "text": [
            "The output predictions by the model are : \n",
            "[9. 9. 9. 8. 8. 9. 8. 8. 8. 0.]\n"
          ],
          "name": "stdout"
        }
      ]
    },
    {
      "cell_type": "code",
      "metadata": {
        "id": "k2l0ry8dZTa-",
        "colab": {
          "base_uri": "https://localhost:8080/",
          "height": 325
        },
        "outputId": "f0210a42-fa4f-405b-a83c-b6229ac8d52d"
      },
      "source": [
        "import numpy as np\r\n",
        "fig = plt.figure()\r\n",
        "rows = 2\r\n",
        "columns = 5\r\n",
        "count1 = 0\r\n",
        "count2 = 1\r\n",
        "predicted = np.zeros(10)\r\n",
        "every = 50\r\n",
        "print('taking every {}th image from the test dataset :'.format(every))\r\n",
        "for i, (images, labels) in enumerate(test_loader):\r\n",
        "  images, labels = images.to(device), labels.to(device)\r\n",
        "  imgs = images.to('cpu')\r\n",
        "  output = model(images)\r\n",
        "  predictions = torch.max(output.data[:,5:],1)[1]+5\r\n",
        "  print(predictions)\r\n",
        "  # print(output)\r\n",
        "  for j in range(images.size(0)):\r\n",
        "    if(predictions[j] != labels[j] and count1<10):\r\n",
        "      predicted[count1] = predictions[j].item()\r\n",
        "      a = fig.add_subplot(rows, columns, count1+1)\r\n",
        "      a.title.set_text('T={},P={}'.format(labels[j].item(), predictions[j].item()))\r\n",
        "      # a.set_xticks()\r\n",
        "      # a.set_title(labels[j].item(), color ='white')\r\n",
        "      plt.imshow(np.array(imgs[j]).reshape((28,28)), cmap = 'gray')\r\n",
        "      x = np.arange(10)\r\n",
        "      y = np.arange(10)\r\n",
        "      plt.xticks(x, \" \")\r\n",
        "      plt.yticks(y, \" \")\r\n",
        "      count1+=1\r\n",
        "\r\n",
        "\r\n",
        "# plt.savefig('./Q3.1_wrong_classified.jpeg', dpi = 300, bbox_inches = 'tight')\r\n",
        "plt.show()\r\n",
        "print('The output predictions by the model are : ')\r\n",
        "print(predicted[:count1])"
      ],
      "execution_count": 24,
      "outputs": [
        {
          "output_type": "stream",
          "text": [
            "taking every 50th image from the test dataset :\n",
            "torch.Size([4861, 5])\n",
            "tensor([9, 7, 9,  ..., 8, 6, 9], device='cuda:0')\n"
          ],
          "name": "stdout"
        },
        {
          "output_type": "display_data",
          "data": {
            "image/png": "[encoded data removed]",
            "text/plain": [
              "<Figure size 432x288 with 10 Axes>"
            ]
          },
          "metadata": {
            "tags": [],
            "needs_background": "light"
          }
        },
        {
          "output_type": "stream",
          "text": [
            "The output predictions by the model are : \n",
            "[9. 7. 9. 9. 8. 9. 6. 9. 6. 9.]\n"
          ],
          "name": "stdout"
        }
      ]
    },
    {
      "cell_type": "code",
      "metadata": {
        "id": "0P_2ZOvq5qfY"
      },
      "source": [
        ""
      ],
      "execution_count": null,
      "outputs": []
    }
  ]
}