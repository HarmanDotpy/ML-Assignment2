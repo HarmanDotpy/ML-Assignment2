{
 "cells": [
  {
   "cell_type": "code",
   "execution_count": 1,
   "metadata": {},
   "outputs": [],
   "source": [
    "import numpy as np\n",
    "import matplotlib.pyplot as plt"
   ]
  },
  {
   "cell_type": "code",
   "execution_count": 6,
   "metadata": {},
   "outputs": [],
   "source": [
    "## 3 hidden Layer neural net with layer sizes 3 - 3 - 5 - 2\n",
    "L = [3, 3, 5, 2]\n",
    "W = [np.random.rand(L[i+1], L[i])*0.01 for i in range(0, len(L)-1)]"
   ]
  },
  {
   "cell_type": "code",
   "execution_count": 7,
   "metadata": {},
   "outputs": [
    {
     "name": "stdout",
     "output_type": "stream",
     "text": [
      "[array([[0.00412059, 0.00926918, 0.00854565],\n",
      "       [0.00678241, 0.0085089 , 0.00752861],\n",
      "       [0.00066801, 0.00437554, 0.0063475 ]]), array([[0.00575725, 0.00911979, 0.00161864],\n",
      "       [0.00771359, 0.0002317 , 0.00920934],\n",
      "       [0.00172707, 0.00431424, 0.00484601],\n",
      "       [0.00879566, 0.00737375, 0.00873383],\n",
      "       [0.00758458, 0.00971328, 0.00540816]]), array([[0.00521216, 0.00212681, 0.0097508 , 0.00408933, 0.00051369],\n",
      "       [0.00125737, 0.0075116 , 0.00478567, 0.00919491, 0.00637379]])]\n"
     ]
    }
   ],
   "source": [
    "print(W)"
   ]
  },
  {
   "cell_type": "code",
   "execution_count": 10,
   "metadata": {},
   "outputs": [
    {
     "name": "stdout",
     "output_type": "stream",
     "text": [
      "X_train = [[0. 0. 0.]\n",
      " [0. 0. 1.]\n",
      " [0. 1. 0.]\n",
      " [0. 1. 1.]\n",
      " [1. 0. 0.]\n",
      " [1. 0. 1.]\n",
      " [1. 1. 0.]\n",
      " [1. 1. 1.]]\n",
      "y_train = [[0. 1.]\n",
      " [1. 0.]\n",
      " [1. 0.]\n",
      " [0. 1.]\n",
      " [1. 0.]\n",
      " [0. 1.]\n",
      " [0. 1.]\n",
      " [1. 0.]]\n"
     ]
    }
   ],
   "source": [
    "X_train = np.zeros((8,3))\n",
    "y_train = np.zeros((8,2))\n",
    "num = 0\n",
    "for i in range(2):\n",
    "    for j in range(2):\n",
    "        for h in range(2):\n",
    "            X_train[num, 0] = i\n",
    "            X_train[num, 1] = j\n",
    "            X_train[num, 2] = h\n",
    "            y_train[num, 0] = (i+h+j)%2 #XOR - odd parity\n",
    "            y_train[num, 1] = (i+h+j+1)%2#XNOR - even parity\n",
    "            num+=1\n",
    "            \n",
    "print('X_train = {}'.format(X_train))\n",
    "print('y_train = {}'.format(y_train))"
   ]
  },
  {
   "cell_type": "code",
   "execution_count": null,
   "metadata": {},
   "outputs": [],
   "source": [
    "def forward_prop(W, X_train):\n",
    "    out = \n",
    "    for i in range(len(W)):\n",
    "        \n",
    "\n",
    "def backward_prop():\n",
    "    "
   ]
  },
  {
   "cell_type": "code",
   "execution_count": null,
   "metadata": {},
   "outputs": [],
   "source": [
    "#training the network weight's W's\n",
    "epochs = 1000\n",
    "for e in range(epochs):\n",
    "    out = forward_prop(W, X_train)\n",
    "    \n",
    "    Loss = loss(out, y_train)\n",
    "    \n",
    "    back_prop(Loss, W)\n",
    "\n",
    "    "
   ]
  }
 ],
 "metadata": {
  "kernelspec": {
   "display_name": "Python 3",
   "language": "python",
   "name": "python3"
  },
  "language_info": {
   "codemirror_mode": {
    "name": "ipython",
    "version": 3
   },
   "file_extension": ".py",
   "mimetype": "text/x-python",
   "name": "python",
   "nbconvert_exporter": "python",
   "pygments_lexer": "ipython3",
   "version": "3.7.6"
  }
 },
 "nbformat": 4,
 "nbformat_minor": 4
}
