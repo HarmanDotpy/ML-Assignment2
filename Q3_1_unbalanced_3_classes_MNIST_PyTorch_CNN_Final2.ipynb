{
  "nbformat": 4,
  "nbformat_minor": 0,
  "metadata": {
    "colab": {
      "name": "Q3.1_unbalanced_3_classes_MNIST_PyTorch_CNN",
      "provenance": [],
      "collapsed_sections": [],
      "toc_visible": true,
      "include_colab_link": true
    },
    "kernelspec": {
      "name": "python3",
      "display_name": "Python 3"
    },
    "accelerator": "GPU"
  },
  "cells": [
    {
      "cell_type": "markdown",
      "metadata": {
        "id": "view-in-github",
        "colab_type": "text"
      },
      "source": [
        "<a href=\"https://colab.research.google.com/github/HarmanDotpy/ML-Assignment2/blob/main/Q3_1_unbalanced_3_classes_MNIST_PyTorch_CNN_Final2.ipynb\" target=\"_parent\"><img src=\"https://colab.research.google.com/assets/colab-badge.svg\" alt=\"Open In Colab\"/></a>"
      ]
    },
    {
      "cell_type": "markdown",
      "metadata": {
        "id": "wybJiF-4XP-t"
      },
      "source": [
        "### MNIST Classification \n",
        "Convolutional Neural Networks, using PYTORCH"
      ]
    },
    {
      "cell_type": "code",
      "metadata": {
        "id": "m_GeUcCplwgp"
      },
      "source": [
        ""
      ],
      "execution_count": 12,
      "outputs": []
    },
    {
      "cell_type": "code",
      "metadata": {
        "id": "sf2u0OtnZ1G1"
      },
      "source": [
        "# %%shell\n",
        "# mkdir DATA_STORE\n",
        "# mkdir MODEL_STORE"
      ],
      "execution_count": 13,
      "outputs": []
    },
    {
      "cell_type": "code",
      "metadata": {
        "id": "vE4zqcHI7BiN"
      },
      "source": [
        "import torch\n",
        "from torch.utils.data import DataLoader\n",
        "from torch.utils.data import ConcatDataset\n",
        "from torch.utils.data import random_split\n",
        "import torch.nn as nn\n",
        "import torchvision\n",
        "import torchvision.transforms as transforms\n",
        "import pandas as pd\n",
        "import seaborn as sb\n",
        "import numpy as np\n",
        "import matplotlib.pyplot as plt"
      ],
      "execution_count": 14,
      "outputs": []
    },
    {
      "cell_type": "markdown",
      "metadata": {
        "id": "6x4WaFJ49KT9"
      },
      "source": [
        ""
      ]
    },
    {
      "cell_type": "code",
      "metadata": {
        "id": "ksl4vzQ9QoRn",
        "colab": {
          "base_uri": "https://localhost:8080/"
        },
        "outputId": "c8576e41-adde-41f7-f580-6871d4b4f1fa"
      },
      "source": [
        "device = torch.device('cuda' if torch.cuda.is_available() else 'cpu')\r\n",
        "device"
      ],
      "execution_count": 15,
      "outputs": [
        {
          "output_type": "execute_result",
          "data": {
            "text/plain": [
              "device(type='cuda')"
            ]
          },
          "metadata": {
            "tags": []
          },
          "execution_count": 15
        }
      ]
    },
    {
      "cell_type": "code",
      "metadata": {
        "id": "AbErbWPZQgyt"
      },
      "source": [
        "def performance_metrics_multiclass(y_pred_test, y_test, num_class, disp_conf = True):\r\n",
        "    '''gives the TPR, FPR, acc, precision, recall and F1 score for all classes by comparing the 2 input arrays'''\r\n",
        "    #First we calculate the confusion matrix of size num_class*num_class\r\n",
        "    #NOTE: Y axis of matrix will be predicted class and x axis wll be true class\r\n",
        "    conf_mat = np.zeros((num_class, num_class))\r\n",
        "    \r\n",
        "    for i in range(num_class):\r\n",
        "        for j in range(num_class):\r\n",
        "            conf_mat[i, j] = np.logical_and(y_pred_test == i, y_test ==j).sum()\r\n",
        "    # Calculating precision, recall, F1 Score for each class\r\n",
        "    colnames = ['class', 'Precision', 'Recall', 'F1']\r\n",
        "    df = pd.DataFrame(columns = colnames)\r\n",
        "    for i in range(num_class):\r\n",
        "        TP = conf_mat[i, i]\r\n",
        "        FP = conf_mat[i].sum() - conf_mat[i, i]\r\n",
        "        TN = conf_mat.sum() - conf_mat[i].sum() - conf_mat[:, i].sum() +  conf_mat[i, i]\r\n",
        "        FN = conf_mat[:, i].sum() - conf_mat[i, i]\r\n",
        "        P = round((TP)/(TP+FP), 5)\r\n",
        "        R = round((TP)/(TP+FN), 5)\r\n",
        "        F1 = round(2*P*R/(P+R), 5)\r\n",
        "        df = df.append({'class':categories[i], 'Precision':P, 'Recall':R, 'F1':F1 }, ignore_index = True)\r\n",
        "    macroF1 = round(df['F1'].mean(), 5)\r\n",
        "    accuracy = round((y_pred_test==y_test).mean(), 5)\r\n",
        "    \r\n",
        "    # NOTE : returning the transpose of the confusion matricx to get true labels on the y axis\r\n",
        "    conf_mat = conf_mat.T\r\n",
        "    # NORMALIZING the confusion matrix\r\n",
        "    conf_mat = np.around(conf_mat/(conf_mat.sum(axis = 1)), decimals = 5)\r\n",
        "    \r\n",
        "    \r\n",
        "    #PLot the matrix if disp_conf = True\r\n",
        "    if(disp_conf == True):\r\n",
        "        ax = sb.heatmap(conf_mat, vmin = 0, vmax = 1, cmap = sb.light_palette(\"seagreen\", as_cmap=True), xticklabels = categories, yticklabels = categories, annot = True, annot_kws={\"size\": 12}, fmt=\".3f\")\r\n",
        "    #     ax.figure.axes[-1].yaxis.label.set_size(12)\r\n",
        "        plt.xlabel('Predicted Labels', fontsize = 14)\r\n",
        "        plt.ylabel('True Labels', fontsize = 14)\r\n",
        "        plt.tick_params(axis='both', labelsize=10)\r\n",
        "        return conf_mat, df, macroF1, accuracy, plt\r\n",
        "    \r\n",
        "    return conf_mat, df, macroF1, accuracy"
      ],
      "execution_count": 16,
      "outputs": []
    },
    {
      "cell_type": "code",
      "metadata": {
        "id": "0qhJGUx9XwNi"
      },
      "source": [
        "# model hyperparameters\n",
        "batch_size = 64\n",
        "num_epochs = 20\n",
        "num_classes = 3\n",
        "learning_rate = 0.001\n",
        "categories = ['0', '1', '2']\n",
        "\n",
        "# transforms for the datasets\n",
        "# MNIST is single channeled, for , eg CIFAR dataset , the normalization has to use mean and variance of all three ie Red, Blue and Green\n",
        "trans = transforms.Compose([transforms.ToTensor(), transforms.Normalize((0.1307,),(0.3081,))])"
      ],
      "execution_count": 17,
      "outputs": []
    },
    {
      "cell_type": "markdown",
      "metadata": {
        "id": "yIx7n6Wbl5Ad"
      },
      "source": [
        "### Using Just class 0, 1, 2 for Q3 part 1 of the assignment\r\n"
      ]
    },
    {
      "cell_type": "code",
      "metadata": {
        "colab": {
          "base_uri": "https://localhost:8080/"
        },
        "id": "2N9uNyj7lyOe",
        "outputId": "ea635498-f119-484b-ef7b-79cf2fb33347"
      },
      "source": [
        "def choose_first(bool_array, num):\r\n",
        "  # bool array has true and false. this function returns a bool array of same size having first 'num' tru's intact and the rest made to false\r\n",
        "  num_true = 0\r\n",
        "  for i in range(len(bool_array)):\r\n",
        "    if(bool_array[i]==True):\r\n",
        "      num_true+=1\r\n",
        "    if(num_true >= num):\r\n",
        "      k=i\r\n",
        "      while(k<len(bool_array)):\r\n",
        "        bool_array[k]=False\r\n",
        "        k+=1\r\n",
        "      break\r\n",
        "    \r\n",
        "  return bool_array\r\n",
        "\r\n",
        "\r\n",
        "def get_unbalanced_data(data, c1, c2, c3, r1, r2, r3):\r\n",
        "  #get c1, c2, c3 in ratio r1:r2:r3\r\n",
        "  max = (data.targets == c1).sum()\r\n",
        "  idx_c1 = (data.targets == c1)\r\n",
        "  idx_c2 = choose_first((data.targets == c2), max*r2//(r1))\r\n",
        "  idx_c3 = choose_first((data.targets == c3), max*r3//(r1))\r\n",
        "  idx = idx_c1 + idx_c2 + idx_c3\r\n",
        "  data.targets = data.targets[idx]\r\n",
        "  data.data = data.data[idx]\r\n",
        "  \r\n",
        "  print(idx_c1.sum(), idx_c2.sum(), idx_c3.sum())\r\n",
        "\r\n",
        "  return data\r\n",
        "\r\n",
        "  \r\n",
        "#making dataset called dat having 70k images\r\n",
        "train_data = torchvision.datasets.MNIST(root ='./DATA_STORE', train = True, transform = trans, download = True)\r\n",
        "test_data = torchvision.datasets.MNIST(root = './DATA_STORE', train = False, transform = trans, download = True)\r\n",
        "\r\n",
        "# chooseing the 3 classes and making the final train and test dataset\r\n",
        "#choosing class 0:1:2 = 70:25:5 = 1:5/14:1/14\r\n",
        "train_data = get_unbalanced_data(train_data, 0, 1, 2, 70, 25, 5)\r\n",
        "test_data = get_unbalanced_data(test_data, 0, 1, 2, 70, 70, 70)\r\n",
        "\r\n",
        "print(train_data)\r\n",
        "print(test_data)\r\n",
        "# print(len(test_data))\r\n",
        "# # load into dataloader\r\n",
        "train_loader = DataLoader(dataset = train_data, batch_size = batch_size, shuffle = True)\r\n",
        "test_loader = DataLoader(dataset = test_data, batch_size = len(test_data), shuffle = False)"
      ],
      "execution_count": 18,
      "outputs": [
        {
          "output_type": "stream",
          "text": [
            "tensor(5923) tensor(2114) tensor(422)\n",
            "tensor(980) tensor(979) tensor(979)\n",
            "Dataset MNIST\n",
            "    Number of datapoints: 8459\n",
            "    Root location: ./DATA_STORE\n",
            "    Split: Train\n",
            "    StandardTransform\n",
            "Transform: Compose(\n",
            "               ToTensor()\n",
            "               Normalize(mean=(0.1307,), std=(0.3081,))\n",
            "           )\n",
            "Dataset MNIST\n",
            "    Number of datapoints: 2938\n",
            "    Root location: ./DATA_STORE\n",
            "    Split: Test\n",
            "    StandardTransform\n",
            "Transform: Compose(\n",
            "               ToTensor()\n",
            "               Normalize(mean=(0.1307,), std=(0.3081,))\n",
            "           )\n"
          ],
          "name": "stdout"
        }
      ]
    },
    {
      "cell_type": "code",
      "metadata": {
        "id": "1miwVPWt0JFf"
      },
      "source": [
        "# print(train_loader.dataset)"
      ],
      "execution_count": 19,
      "outputs": []
    },
    {
      "cell_type": "code",
      "metadata": {
        "id": "AAmFnoYrozaY"
      },
      "source": [
        "# print(test_data.targets)\r\n",
        "# print(test_data.targets.shape)\r\n",
        "# print(test_data.data.shape)\r\n",
        "# print(train_data.targets)\r\n",
        "# print(train_data.targets.shape)\r\n",
        "# print(train_data.data.shape)\r\n"
      ],
      "execution_count": 20,
      "outputs": []
    },
    {
      "cell_type": "code",
      "metadata": {
        "id": "-ZsPAg2jozcj"
      },
      "source": [
        ""
      ],
      "execution_count": 20,
      "outputs": []
    },
    {
      "cell_type": "code",
      "metadata": {
        "id": "pATVz_RzXwwz"
      },
      "source": [
        "# our class inherits from the torch.nn.Module class \n",
        "\n",
        "# nn.Conv2d(input channels, output channels, Kernel size, stride, padding)\n",
        "class ConvNet(nn.Module):\n",
        "  def __init__(self):\n",
        "    super(ConvNet, self).__init__()\n",
        "    self.layer1 = nn.Sequential(\n",
        "        nn.Conv2d(1, 32, kernel_size = 5, stride = 1, padding = 2),\n",
        "        nn.ReLU(),\n",
        "        nn.MaxPool2d(kernel_size = 2,stride = 2)\n",
        "        )\n",
        "    self.layer2 = nn.Sequential(\n",
        "        nn.Conv2d(32, 64,kernel_size = 5, stride = 1, padding = 2),\n",
        "        nn.ReLU(),\n",
        "        nn.MaxPool2d(kernel_size = 2, stride = 2)\n",
        "        )\n",
        "    self.drop_out = nn.Dropout()\n",
        "    self.fc1 = nn.Linear(7*7*64,1000)\n",
        "    self.fc2 = nn.Linear(1000, 3)\n",
        "    # self.softmax = nn.Softmax(dim = 0)\n",
        "\n",
        "  def forward(self, x):\n",
        "    out = self.layer1(x)\n",
        "    out = self.layer2(out)\n",
        "    out = out.reshape(out.size(0), -1)    \n",
        "    out = self.drop_out(out)\n",
        "    out = self.fc1(out)\n",
        "    out = self.fc2(out)\n",
        "    # out = self.softmax(out)\n",
        "\n",
        "    return out\n",
        "\n",
        "class simplenet(nn.Module):\n",
        "  def __init__(self):\n",
        "    super(simplenet, self).__init__()\n",
        "    self.fc1 = nn.Linear(28*28,100)\n",
        "    self.fc2 = nn.Linear(100, 3)\n",
        "    # self.softmax = nn.Softmax(dim = 0)\n",
        "\n",
        "  def forward(self, x):\n",
        "    out = x.reshape(x.size(0), -1)    \n",
        "    out = self.fc1(out)\n",
        "    out = self.fc2(out)\n",
        "    # out = self.softmax(out)\n",
        "\n",
        "    return out  "
      ],
      "execution_count": 21,
      "outputs": []
    },
    {
      "cell_type": "code",
      "metadata": {
        "id": "pBVTzYO2qVo9"
      },
      "source": [
        ""
      ],
      "execution_count": 21,
      "outputs": []
    },
    {
      "cell_type": "code",
      "metadata": {
        "id": "WqVmWZrnxvw4"
      },
      "source": [
        "\r\n"
      ],
      "execution_count": 21,
      "outputs": []
    },
    {
      "cell_type": "markdown",
      "metadata": {
        "id": "nzvKoChrxyad"
      },
      "source": [
        "# Feedforward Net with Cross Entropy Loss simple without any wegihting"
      ]
    },
    {
      "cell_type": "code",
      "metadata": {
        "id": "SEyHLtahxyad"
      },
      "source": [
        "#  initializing the model\n",
        "# model = ConvNet()\n",
        "model = simplenet()\n",
        "model = model.to(device)\n",
        "criterion = nn.CrossEntropyLoss()\n",
        "optimizer = torch.optim.Adam(model.parameters(), lr = learning_rate)"
      ],
      "execution_count": 22,
      "outputs": []
    },
    {
      "cell_type": "code",
      "metadata": {
        "colab": {
          "base_uri": "https://localhost:8080/"
        },
        "id": "Vy8dXmIvxyad",
        "outputId": "07a584dd-c898-4857-ec6e-68d15bc951e0"
      },
      "source": [
        "# Training the model\n",
        "totalsteps = len(train_loader)\n",
        "losslist = []\n",
        "accuracylist = []\n",
        "num_epochs = 5\n",
        "for epoch in range(num_epochs):\n",
        "  for i, (images, labels) in enumerate(train_loader):\n",
        "    images, labels = images.to(device), labels.to(device)\n",
        "    # FORWARD PROP, model(images) automatically calls forward\n",
        "    # print(labels)\n",
        "    outputs = model(images)\n",
        "    loss = criterion(outputs, labels)\n",
        "    losslist.append(loss.item())\n",
        "\n",
        "    # BACK PROP\n",
        "    # make the gradients zero\n",
        "    optimizer.zero_grad() \n",
        "    # perform the backward propagation and get the gradients\n",
        "    loss.backward()\n",
        "    # adam optimizer training step . We use the gradients in this step\n",
        "    optimizer.step()\n",
        "\n",
        "    # Accuracy\n",
        "    # Note we take batch_size amounts of y's at a time\n",
        "    total = labels.size(0)\n",
        "    predicted = torch.max(outputs.data,1)[1]\n",
        "    correct = (predicted == labels).sum().item()\n",
        "    accuracy = correct / total\n",
        "    accuracylist.append(accuracy)\n",
        "\n",
        "    # item() is used for getting the scalar from a tensor\n",
        "    if((i + 1) % 50 == 0):\n",
        "    # if(True):\n",
        "      print('Epoch [{}/{}], Step [{}/{}], Loss: {:.4f}, Accuracy: {:.2f}%'.format(epoch + 1, num_epochs, i+1, totalsteps, loss.item(),(accuracy)*100 ))\n"
      ],
      "execution_count": 23,
      "outputs": [
        {
          "output_type": "stream",
          "text": [
            "Epoch [1/5], Step [50/133], Loss: 0.0183, Accuracy: 100.00%\n",
            "Epoch [1/5], Step [100/133], Loss: 0.0082, Accuracy: 100.00%\n",
            "Epoch [2/5], Step [50/133], Loss: 0.0922, Accuracy: 98.44%\n",
            "Epoch [2/5], Step [100/133], Loss: 0.0615, Accuracy: 96.88%\n",
            "Epoch [3/5], Step [50/133], Loss: 0.0026, Accuracy: 100.00%\n",
            "Epoch [3/5], Step [100/133], Loss: 0.0304, Accuracy: 100.00%\n",
            "Epoch [4/5], Step [50/133], Loss: 0.0018, Accuracy: 100.00%\n",
            "Epoch [4/5], Step [100/133], Loss: 0.1312, Accuracy: 95.31%\n",
            "Epoch [5/5], Step [50/133], Loss: 0.0031, Accuracy: 100.00%\n",
            "Epoch [5/5], Step [100/133], Loss: 0.0025, Accuracy: 100.00%\n"
          ],
          "name": "stdout"
        }
      ]
    },
    {
      "cell_type": "code",
      "metadata": {
        "colab": {
          "base_uri": "https://localhost:8080/",
          "height": 440
        },
        "id": "lR1ih4ZKxyae",
        "outputId": "a764b555-a891-473d-a3b7-b39afe70d278"
      },
      "source": [
        "model.eval()\n",
        "with torch.no_grad():\n",
        "  correct = 0\n",
        "  total = 0\n",
        "  # The following loop runs only for 1 time as the batch size for test loader is the size of number of test images only\n",
        "  for images, labels in test_loader:\n",
        "    images, labels = images.to(device), labels.to(device)\n",
        "    outputs = model(images)\n",
        "    predicted = torch.max(outputs.data,1)[1]\n",
        "\n",
        "    confmat, df, macrof1, acc, plt = performance_metrics_multiclass(predicted.to('cpu').numpy(), labels.to('cpu').numpy(), num_classes)\n",
        "    print(confmat)\n",
        "    print(df)\n",
        "    print('macroF1 = {}, accuracy = {}'.format(macrof1, acc))\n",
        "    total += labels.size(0)\n",
        "    correct += (predicted == labels).sum().item()\n",
        "\n",
        "  print('Test Accuracy for {} test images = {} %'.format(len(test_loader.dataset) ,(correct/total)*100))\n",
        "\n",
        "  # torch.save(model.state_dict(), './MODEL_STORE/MNIST_conve_nets.ckpt')\n",
        "\n",
        "\n",
        "  ##Performance metrics\n"
      ],
      "execution_count": 24,
      "outputs": [
        {
          "output_type": "stream",
          "text": [
            "[[0.99898 0.00102 0.     ]\n",
            " [0.      0.99591 0.00409]\n",
            " [0.04694 0.04494 0.90807]]\n",
            "  class  Precision   Recall       F1\n",
            "0     0    0.95512  0.99898  0.97656\n",
            "1     1    0.95588  0.99591  0.97548\n",
            "2     2    0.99552  0.90807  0.94979\n",
            "macroF1 = 0.96728, accuracy = 0.96767\n",
            "Test Accuracy for 2938 test images = 96.76650782845473 %\n"
          ],
          "name": "stdout"
        },
        {
          "output_type": "display_data",
          "data": {
            "image/png": "[encoded data removed]",
            "text/plain": [
              "<Figure size 432x288 with 2 Axes>"
            ]
          },
          "metadata": {
            "tags": [],
            "needs_background": "light"
          }
        }
      ]
    },
    {
      "cell_type": "markdown",
      "metadata": {
        "id": "5fNF3Oqrxyae"
      },
      "source": [
        "GRAPH PLOTS\n"
      ]
    },
    {
      "cell_type": "code",
      "metadata": {
        "colab": {
          "base_uri": "https://localhost:8080/",
          "height": 288
        },
        "id": "EKaZvf8cxyae",
        "outputId": "e6c46796-b8b2-4b89-cbae-c74b7325af08"
      },
      "source": [
        "import matplotlib.pyplot as plt\n",
        "plt.plot(losslist, color = 'green', linewidth = 0.7 )\n",
        "plt.xlabel('steps', fontsize=20)\n",
        "plt.ylabel('Loss', fontsize=20)\n",
        "# plt.plot(accuracylist, color = 'red', linewidth = 0.7)\n",
        "# plt.xlim(0,700)\n",
        "# plt.ylim(0,1.05)\n",
        "plt.show()\n"
      ],
      "execution_count": 25,
      "outputs": [
        {
          "output_type": "display_data",
          "data": {
            "image/png": "[encoded data removed]",
            "text/plain": [
              "<Figure size 432x288 with 1 Axes>"
            ]
          },
          "metadata": {
            "tags": [],
            "needs_background": "light"
          }
        }
      ]
    },
    {
      "cell_type": "code",
      "metadata": {
        "id": "5TpoCKkNxvzH"
      },
      "source": [
        ""
      ],
      "execution_count": 25,
      "outputs": []
    },
    {
      "cell_type": "markdown",
      "metadata": {
        "id": "jNYu0O8rUWgH"
      },
      "source": [
        "# SOME RANDOM EXPERIMENTS \n",
        "Using test data images"
      ]
    },
    {
      "cell_type": "code",
      "metadata": {
        "id": "f6HmIL1hUUo_",
        "colab": {
          "base_uri": "https://localhost:8080/",
          "height": 291
        },
        "outputId": "1ca600ff-dc53-416a-f231-713588cf187f"
      },
      "source": [
        "import numpy as np\n",
        "fig = plt.figure()\n",
        "rows = 2\n",
        "columns = 5\n",
        "count1 = 0\n",
        "count2 = 1\n",
        "predicted = np.zeros(10)\n",
        "every = 50\n",
        "print('taking every {}th image from the test dataset :'.format(every))\n",
        "for i, (images, labels) in enumerate(test_loader):\n",
        "  images, labels = images.to(device), labels.to(device)\n",
        "  imgs = images.to('cpu')\n",
        "\n",
        "  for j in range(images.size(0)):\n",
        "    if((j+1) % 50 ==0 and count1<10):\n",
        "      if(count2 % 50 == 0):\n",
        "        output = model(images)\n",
        "        predictions = torch.max(output.data,1)[1]\n",
        "        predicted[count1] = predictions[j].item()\n",
        "        a = fig.add_subplot(rows, columns, count1+1)\n",
        "        a.title.set_text('T={},P={}'.format(labels[j].item(), predictions[j].item()))\n",
        "        # a.set_xticks()\n",
        "        # a.set_title(labels[j].item(), color ='white')\n",
        "        plt.imshow(np.array(imgs[j]).reshape((28,28)), cmap = 'gray')\n",
        "        x = np.arange(10)\n",
        "        y = np.arange(10)\n",
        "        plt.xticks(x, \" \")\n",
        "        plt.yticks(y, \" \")\n",
        "        count1+=1\n",
        "\n",
        "    count2+=1\n",
        "plt.show()\n",
        "print('The output predictions by the model are : ')\n",
        "print(predicted)\n"
      ],
      "execution_count": 26,
      "outputs": [
        {
          "output_type": "stream",
          "text": [
            "taking every 50th image from the test dataset :\n"
          ],
          "name": "stdout"
        },
        {
          "output_type": "display_data",
          "data": {
            "image/png": "[encoded data removed]",
            "text/plain": [
              "<Figure size 432x288 with 10 Axes>"
            ]
          },
          "metadata": {
            "tags": [],
            "needs_background": "light"
          }
        },
        {
          "output_type": "stream",
          "text": [
            "The output predictions by the model are : \n",
            "[1. 0. 2. 2. 1. 0. 2. 2. 1. 2.]\n"
          ],
          "name": "stdout"
        }
      ]
    },
    {
      "cell_type": "code",
      "metadata": {
        "id": "k2l0ry8dZTa-",
        "colab": {
          "base_uri": "https://localhost:8080/",
          "height": 291
        },
        "outputId": "92c022a2-b9ea-4116-a26f-2e873ebb99fa"
      },
      "source": [
        "import numpy as np\r\n",
        "fig = plt.figure()\r\n",
        "rows = 2\r\n",
        "columns = 5\r\n",
        "count1 = 0\r\n",
        "count2 = 1\r\n",
        "predicted = np.zeros(10)\r\n",
        "every = 50\r\n",
        "print('taking every {}th image from the test dataset :'.format(every))\r\n",
        "for i, (images, labels) in enumerate(test_loader):\r\n",
        "  images, labels = images.to(device), labels.to(device)\r\n",
        "  imgs = images.to('cpu')\r\n",
        "  output = model(images)\r\n",
        "  predictions = torch.max(output.data,1)[1]\r\n",
        "  # print(output)\r\n",
        "  for j in range(images.size(0)):\r\n",
        "    if(predictions[j] != labels[j] and count1<10):\r\n",
        "      predicted[count1] = predictions[j].item()\r\n",
        "      a = fig.add_subplot(rows, columns, count1+1)\r\n",
        "      a.title.set_text('T={},P={}'.format(labels[j].item(), predictions[j].item()))\r\n",
        "      # a.set_xticks()\r\n",
        "      # a.set_title(labels[j].item(), color ='white')\r\n",
        "      plt.imshow(np.array(imgs[j]).reshape((28,28)), cmap = 'gray')\r\n",
        "      x = np.arange(10)\r\n",
        "      y = np.arange(10)\r\n",
        "      plt.xticks(x, \" \")\r\n",
        "      plt.yticks(y, \" \")\r\n",
        "      count1+=1\r\n",
        "\r\n",
        "\r\n",
        "# plt.savefig('./Q3.1_wrong_classified.jpeg', dpi = 300, bbox_inches = 'tight')\r\n",
        "plt.show()\r\n",
        "print('The output predictions by the model are : ')\r\n",
        "print(predicted[:count1])"
      ],
      "execution_count": 27,
      "outputs": [
        {
          "output_type": "stream",
          "text": [
            "taking every 50th image from the test dataset :\n"
          ],
          "name": "stdout"
        },
        {
          "output_type": "display_data",
          "data": {
            "image/png": "[encoded data removed]",
            "text/plain": [
              "<Figure size 432x288 with 10 Axes>"
            ]
          },
          "metadata": {
            "tags": [],
            "needs_background": "light"
          }
        },
        {
          "output_type": "stream",
          "text": [
            "The output predictions by the model are : \n",
            "[1. 1. 1. 0. 1. 1. 1. 0. 1. 1.]\n"
          ],
          "name": "stdout"
        }
      ]
    },
    {
      "cell_type": "code",
      "metadata": {
        "id": "zuky0N9DyKCZ"
      },
      "source": [
        ""
      ],
      "execution_count": 27,
      "outputs": []
    },
    {
      "cell_type": "code",
      "metadata": {
        "id": "k_9BSvcDyKE2"
      },
      "source": [
        ""
      ],
      "execution_count": 27,
      "outputs": []
    },
    {
      "cell_type": "code",
      "metadata": {
        "id": "L_B0jdtkxv1S"
      },
      "source": [
        ""
      ],
      "execution_count": 27,
      "outputs": []
    },
    {
      "cell_type": "markdown",
      "metadata": {
        "id": "6Q6hH0SiqWWE"
      },
      "source": [
        "# Feedforward Net with Cross Entropy Loss with weighting"
      ]
    },
    {
      "cell_type": "code",
      "metadata": {
        "id": "tJw-z0NxXw8a"
      },
      "source": [
        "#  initializing the model\n",
        "# model = ConvNet()\n",
        "model = simplenet()\n",
        "model = model.to(device)\n",
        "criterion = nn.CrossEntropyLoss(weight = torch.tensor([1, 14/5, 14]).to(device))\n",
        "optimizer = torch.optim.Adam(model.parameters(), lr = learning_rate)"
      ],
      "execution_count": 28,
      "outputs": []
    },
    {
      "cell_type": "code",
      "metadata": {
        "id": "Pm2QImr6Xj_K",
        "colab": {
          "base_uri": "https://localhost:8080/"
        },
        "outputId": "d9b492c4-e18b-4afe-ad86-489756c1cfc0"
      },
      "source": [
        "# Training the model\n",
        "totalsteps = len(train_loader)\n",
        "losslist = []\n",
        "accuracylist = []\n",
        "num_epochs = 5\n",
        "for epoch in range(num_epochs):\n",
        "  for i, (images, labels) in enumerate(train_loader):\n",
        "    images, labels = images.to(device), labels.to(device)\n",
        "    # FORWARD PROP, model(images) automatically calls forward\n",
        "    outputs = model(images)\n",
        "    loss = criterion(outputs, labels)\n",
        "    losslist.append(loss.item())\n",
        "\n",
        "    # BACK PROP\n",
        "    # make the gradients zero\n",
        "    optimizer.zero_grad() \n",
        "    # perform the backward propagation and get the gradients\n",
        "    loss.backward()\n",
        "    # adam optimizer training step . We use the gradients in this step\n",
        "    optimizer.step()\n",
        "\n",
        "    # Accuracy\n",
        "    # Note we take batch_size amounts of y's at a time\n",
        "    total = labels.size(0)\n",
        "    predicted = torch.max(outputs.data,1)[1]\n",
        "    correct = (predicted == labels).sum().item()\n",
        "    accuracy = correct / total\n",
        "    accuracylist.append(accuracy)\n",
        "\n",
        "    # item() is used for getting the scalar from a tensor\n",
        "    if((i + 1) % 50 == 0):\n",
        "    # if(True):\n",
        "      print('Epoch [{}/{}], Step [{}/{}], Loss: {:.4f}, Accuracy: {:.2f}%'.format(epoch + 1, num_epochs, i+1, totalsteps, loss.item(),(accuracy)*100 ))\n"
      ],
      "execution_count": 29,
      "outputs": [
        {
          "output_type": "stream",
          "text": [
            "Epoch [1/5], Step [50/133], Loss: 0.0567, Accuracy: 96.88%\n",
            "Epoch [1/5], Step [100/133], Loss: 0.0839, Accuracy: 96.88%\n",
            "Epoch [2/5], Step [50/133], Loss: 0.0128, Accuracy: 100.00%\n",
            "Epoch [2/5], Step [100/133], Loss: 0.0068, Accuracy: 100.00%\n",
            "Epoch [3/5], Step [50/133], Loss: 0.1846, Accuracy: 96.88%\n",
            "Epoch [3/5], Step [100/133], Loss: 0.0042, Accuracy: 100.00%\n",
            "Epoch [4/5], Step [50/133], Loss: 0.0126, Accuracy: 98.44%\n",
            "Epoch [4/5], Step [100/133], Loss: 0.0251, Accuracy: 100.00%\n",
            "Epoch [5/5], Step [50/133], Loss: 0.0589, Accuracy: 100.00%\n",
            "Epoch [5/5], Step [100/133], Loss: 0.0076, Accuracy: 100.00%\n"
          ],
          "name": "stdout"
        }
      ]
    },
    {
      "cell_type": "code",
      "metadata": {
        "id": "aEv4tAohPK_P",
        "colab": {
          "base_uri": "https://localhost:8080/",
          "height": 440
        },
        "outputId": "2d259707-e1a7-4e4b-bfa1-3b8e388556e4"
      },
      "source": [
        "model.eval()\n",
        "with torch.no_grad():\n",
        "  correct = 0\n",
        "  total = 0\n",
        "  # The following loop runs only for 1 time as the batch size for test loader is the size of number of test images only\n",
        "  for images, labels in test_loader:\n",
        "    images, labels = images.to(device), labels.to(device)\n",
        "    outputs = model(images)\n",
        "    predicted = torch.max(outputs.data,1)[1]\n",
        "\n",
        "    confmat, df, macrof1, acc, plt = performance_metrics_multiclass(predicted.to('cpu').numpy(), labels.to('cpu').numpy(), num_classes)\n",
        "    print(confmat)\n",
        "    print(df)\n",
        "    print('macroF1 = {}, accuracy = {}'.format(macrof1, acc))\n",
        "    total += labels.size(0)\n",
        "    correct += (predicted == labels).sum().item()\n",
        "\n",
        "  print('Test Accuracy for {} test images = {} %'.format(len(test_loader.dataset) ,(correct/total)*100))\n",
        "\n",
        "  # torch.save(model.state_dict(), './MODEL_STORE/MNIST_conve_nets.ckpt')\n",
        "\n",
        "\n",
        "  ##Performance metrics\n"
      ],
      "execution_count": 30,
      "outputs": [
        {
          "output_type": "stream",
          "text": [
            "[[0.99592 0.      0.00409]\n",
            " [0.      0.99694 0.00306]\n",
            " [0.02449 0.02349 0.95199]]\n",
            "  class  Precision   Recall       F1\n",
            "0     0    0.97600  0.99592  0.98586\n",
            "1     1    0.97698  0.99694  0.98686\n",
            "2     2    0.99255  0.95199  0.97185\n",
            "macroF1 = 0.98152, accuracy = 0.98162\n",
            "Test Accuracy for 2938 test images = 98.16201497617428 %\n"
          ],
          "name": "stdout"
        },
        {
          "output_type": "display_data",
          "data": {
            "image/png": "[encoded data removed]",
            "text/plain": [
              "<Figure size 432x288 with 2 Axes>"
            ]
          },
          "metadata": {
            "tags": [],
            "needs_background": "light"
          }
        }
      ]
    },
    {
      "cell_type": "markdown",
      "metadata": {
        "id": "dhEiOtJERm_d"
      },
      "source": [
        "GRAPH PLOTS\n"
      ]
    },
    {
      "cell_type": "code",
      "metadata": {
        "id": "09i-XrZHRmH3",
        "colab": {
          "base_uri": "https://localhost:8080/",
          "height": 288
        },
        "outputId": "580e2c1b-5ea4-4562-c067-bbd51aaf5250"
      },
      "source": [
        "import matplotlib.pyplot as plt\n",
        "plt.plot(losslist, color = 'green', linewidth = 0.7 )\n",
        "plt.xlabel('steps', fontsize=20)\n",
        "plt.ylabel('Loss', fontsize=20)\n",
        "# plt.plot(accuracylist, color = 'red', linewidth = 0.7)\n",
        "# plt.xlim(0,700)\n",
        "# plt.ylim(0,1.05)\n",
        "plt.show()\n"
      ],
      "execution_count": 31,
      "outputs": [
        {
          "output_type": "display_data",
          "data": {
            "image/png": "[encoded data removed]",
            "text/plain": [
              "<Figure size 432x288 with 1 Axes>"
            ]
          },
          "metadata": {
            "tags": [],
            "needs_background": "light"
          }
        }
      ]
    },
    {
      "cell_type": "code",
      "metadata": {
        "id": "7ec4wmNdT7sB"
      },
      "source": [
        ""
      ],
      "execution_count": 31,
      "outputs": []
    },
    {
      "cell_type": "code",
      "metadata": {
        "id": "LUprs4puqNKn"
      },
      "source": [
        ""
      ],
      "execution_count": 31,
      "outputs": []
    },
    {
      "cell_type": "code",
      "metadata": {
        "id": "RKvqjxIXqNNE"
      },
      "source": [
        ""
      ],
      "execution_count": 67,
      "outputs": []
    },
    {
      "cell_type": "code",
      "metadata": {
        "id": "JYRiFv-WqNQ9"
      },
      "source": [
        ""
      ],
      "execution_count": 31,
      "outputs": []
    },
    {
      "cell_type": "markdown",
      "metadata": {
        "id": "qb4CYJioqc4L"
      },
      "source": [
        "# Feedforward Net with MSE Loss with no weighting"
      ]
    },
    {
      "cell_type": "code",
      "metadata": {
        "colab": {
          "base_uri": "https://localhost:8080/"
        },
        "id": "dhzTQdq0qgJ9",
        "outputId": "32fdece6-83dd-4d52-d35e-8fa985dc21c9"
      },
      "source": [
        "#  initializing the model\n",
        "# model = ConvNet()\n",
        "model = simplenet()\n",
        "model = model.to(device)\n",
        "\n",
        "criterion = nn.MSELoss(reduce=False)\n",
        "weight = torch.tensor([1, 1, 1]).to(device).to(torch.float32)\n",
        "\n",
        "\n",
        "optimizer = torch.optim.Adam(model.parameters(), lr = learning_rate)"
      ],
      "execution_count": 32,
      "outputs": [
        {
          "output_type": "stream",
          "text": [
            "/usr/local/lib/python3.6/dist-packages/torch/nn/_reduction.py:44: UserWarning: size_average and reduce args will be deprecated, please use reduction='none' instead.\n",
            "  warnings.warn(warning.format(ret))\n"
          ],
          "name": "stderr"
        }
      ]
    },
    {
      "cell_type": "code",
      "metadata": {
        "colab": {
          "base_uri": "https://localhost:8080/"
        },
        "id": "bwQ3ClhkqgJ9",
        "outputId": "969d9346-5fa5-4c04-d40b-ed04db7133d6"
      },
      "source": [
        "# Training the model\n",
        "totalsteps = len(train_loader)\n",
        "losslist = []\n",
        "accuracylist = []\n",
        "num_epochs = 10\n",
        "for epoch in range(num_epochs):\n",
        "  for i, (images, labels) in enumerate(train_loader):\n",
        "    images, labels = images.to(device), labels.to(device)\n",
        "    # FORWARD PROP, model(images) automatically calls forward\n",
        "    outputs = model(images)\n",
        "    # print(outputs.shape, torch.nn.functional.one_hot(labels).to(torch.float32).shape)\n",
        "    loss = criterion(outputs, torch.nn.functional.one_hot(labels, num_classes=3).to(torch.float32))\n",
        "    loss = (loss * weight).mean()\n",
        "    losslist.append(loss.item())\n",
        "    # loss = loss.to(torch.float64)\n",
        "\n",
        "    # BACK PROP\n",
        "    # make the gradients zero\n",
        "    optimizer.zero_grad() \n",
        "    # perform the backward propagation and get the gradients\n",
        "    loss.backward()\n",
        "    # adam optimizer training step . We use the gradients in this step\n",
        "    optimizer.step()\n",
        "\n",
        "    # Accuracy\n",
        "    # Note we take batch_size amounts of y's at a time\n",
        "    total = labels.size(0)\n",
        "    predicted = torch.max(outputs.data,1)[1]\n",
        "    correct = (predicted == labels).sum().item()\n",
        "    accuracy = correct / total\n",
        "    accuracylist.append(accuracy)\n",
        "\n",
        "    # item() is used for getting the scalar from a tensor\n",
        "    if((i + 1) % 50 == 0):\n",
        "    # if(True):\n",
        "      print('Epoch [{}/{}], Step [{}/{}], Loss: {:.4f}, Accuracy: {:.2f}%'.format(epoch + 1, num_epochs, i+1, totalsteps, loss.item(),(accuracy)*100 ))\n"
      ],
      "execution_count": 33,
      "outputs": [
        {
          "output_type": "stream",
          "text": [
            "Epoch [1/10], Step [50/133], Loss: 0.0270, Accuracy: 98.44%\n",
            "Epoch [1/10], Step [100/133], Loss: 0.0261, Accuracy: 100.00%\n",
            "Epoch [2/10], Step [50/133], Loss: 0.0196, Accuracy: 100.00%\n",
            "Epoch [2/10], Step [100/133], Loss: 0.0116, Accuracy: 100.00%\n",
            "Epoch [3/10], Step [50/133], Loss: 0.0369, Accuracy: 93.75%\n",
            "Epoch [3/10], Step [100/133], Loss: 0.0218, Accuracy: 96.88%\n",
            "Epoch [4/10], Step [50/133], Loss: 0.0184, Accuracy: 96.88%\n",
            "Epoch [4/10], Step [100/133], Loss: 0.0178, Accuracy: 96.88%\n",
            "Epoch [5/10], Step [50/133], Loss: 0.0138, Accuracy: 100.00%\n",
            "Epoch [5/10], Step [100/133], Loss: 0.0108, Accuracy: 100.00%\n",
            "Epoch [6/10], Step [50/133], Loss: 0.0294, Accuracy: 96.88%\n",
            "Epoch [6/10], Step [100/133], Loss: 0.0085, Accuracy: 100.00%\n",
            "Epoch [7/10], Step [50/133], Loss: 0.0185, Accuracy: 96.88%\n",
            "Epoch [7/10], Step [100/133], Loss: 0.0099, Accuracy: 100.00%\n",
            "Epoch [8/10], Step [50/133], Loss: 0.0116, Accuracy: 98.44%\n",
            "Epoch [8/10], Step [100/133], Loss: 0.0112, Accuracy: 100.00%\n",
            "Epoch [9/10], Step [50/133], Loss: 0.0136, Accuracy: 100.00%\n",
            "Epoch [9/10], Step [100/133], Loss: 0.0161, Accuracy: 96.88%\n",
            "Epoch [10/10], Step [50/133], Loss: 0.0297, Accuracy: 95.31%\n",
            "Epoch [10/10], Step [100/133], Loss: 0.0083, Accuracy: 100.00%\n"
          ],
          "name": "stdout"
        }
      ]
    },
    {
      "cell_type": "code",
      "metadata": {
        "colab": {
          "base_uri": "https://localhost:8080/",
          "height": 440
        },
        "id": "pp9BLZIQqgKF",
        "outputId": "6c08bd9b-8ccc-4f02-ff6c-0f08d344dfd7"
      },
      "source": [
        "model.eval()\n",
        "with torch.no_grad():\n",
        "  correct = 0\n",
        "  total = 0\n",
        "  # The following loop runs only for 1 time as the batch size for test loader is the size of number of test images only\n",
        "  for images, labels in test_loader:\n",
        "    images, labels = images.to(device), labels.to(device)\n",
        "    outputs = model(images)\n",
        "    predicted = torch.max(outputs.data,1)[1]\n",
        "\n",
        "    confmat, df, macrof1, acc, plt = performance_metrics_multiclass(predicted.to('cpu').numpy(), labels.to('cpu').numpy(), num_classes)\n",
        "    print(confmat)\n",
        "    print(df)\n",
        "    print('macroF1 = {}, accuracy = {}'.format(macrof1, acc))\n",
        "    total += labels.size(0)\n",
        "    correct += (predicted == labels).sum().item()\n",
        "\n",
        "  print('Test Accuracy for {} test images = {} %'.format(len(test_loader.dataset) ,(correct/total)*100))\n",
        "\n",
        "  # torch.save(model.state_dict(), './MODEL_STORE/MNIST_conve_nets.ckpt')\n",
        "\n",
        "\n",
        "  ##Performance metrics\n"
      ],
      "execution_count": 34,
      "outputs": [
        {
          "output_type": "stream",
          "text": [
            "[[0.99796 0.00204 0.     ]\n",
            " [0.01122 0.9857  0.00306]\n",
            " [0.14694 0.16752 0.68539]]\n",
            "  class  Precision   Recall       F1\n",
            "0     0    0.86320  0.99796  0.92570\n",
            "1     1    0.85323  0.98570  0.91469\n",
            "2     2    0.99555  0.68539  0.81186\n",
            "macroF1 = 0.88408, accuracy = 0.88972\n",
            "Test Accuracy for 2938 test images = 88.97208985704562 %\n"
          ],
          "name": "stdout"
        },
        {
          "output_type": "display_data",
          "data": {
            "image/png": "[encoded data removed]",
            "text/plain": [
              "<Figure size 432x288 with 2 Axes>"
            ]
          },
          "metadata": {
            "tags": [],
            "needs_background": "light"
          }
        }
      ]
    },
    {
      "cell_type": "code",
      "metadata": {
        "id": "KvjTGNXNw8p9"
      },
      "source": [
        ""
      ],
      "execution_count": 34,
      "outputs": []
    },
    {
      "cell_type": "markdown",
      "metadata": {
        "id": "tT0Cc8QK4Q6c"
      },
      "source": [
        "GRAPH PLOTS\n"
      ]
    },
    {
      "cell_type": "code",
      "metadata": {
        "colab": {
          "base_uri": "https://localhost:8080/",
          "height": 289
        },
        "id": "yK9oMPdm4Q6m",
        "outputId": "5968c531-b6ff-488c-ab35-886a012c1505"
      },
      "source": [
        "import matplotlib.pyplot as plt\n",
        "plt.plot(losslist, color = 'green', linewidth = 0.7 )\n",
        "plt.xlabel('steps', fontsize=20)\n",
        "plt.ylabel('Loss', fontsize=20)\n",
        "# plt.plot(accuracylist, color = 'red', linewidth = 0.7)\n",
        "# plt.xlim(0,700)\n",
        "# plt.ylim(0,1.05)\n",
        "plt.show()\n"
      ],
      "execution_count": 35,
      "outputs": [
        {
          "output_type": "display_data",
          "data": {
            "image/png": "[encoded data removed]",
            "text/plain": [
              "<Figure size 432x288 with 1 Axes>"
            ]
          },
          "metadata": {
            "tags": [],
            "needs_background": "light"
          }
        }
      ]
    },
    {
      "cell_type": "code",
      "metadata": {
        "id": "qckGOjilw8sO"
      },
      "source": [
        ""
      ],
      "execution_count": 35,
      "outputs": []
    },
    {
      "cell_type": "code",
      "metadata": {
        "id": "aojIWUnnw8u-"
      },
      "source": [
        ""
      ],
      "execution_count": 35,
      "outputs": []
    },
    {
      "cell_type": "markdown",
      "metadata": {
        "id": "hHwGWesrw9W0"
      },
      "source": [
        "# Feedforward Net with MSE Loss . Class with less samples given proportionally more weight"
      ]
    },
    {
      "cell_type": "code",
      "metadata": {
        "colab": {
          "base_uri": "https://localhost:8080/"
        },
        "id": "luhRtgUXw9W1",
        "outputId": "f2ee4da3-3109-4220-d625-2d56bb659150"
      },
      "source": [
        "#  initializing the model\n",
        "# model = ConvNet()\n",
        "model = simplenet()\n",
        "model = model.to(device)\n",
        "\n",
        "criterion = nn.MSELoss(reduce=False)\n",
        "weight = torch.tensor([1, 1, 1]).to(device).to(torch.float32)\n",
        "weight[1], weight[2] = 14/5, 20\n",
        "\n",
        "optimizer = torch.optim.Adam(model.parameters(), lr = learning_rate)"
      ],
      "execution_count": 36,
      "outputs": [
        {
          "output_type": "stream",
          "text": [
            "/usr/local/lib/python3.6/dist-packages/torch/nn/_reduction.py:44: UserWarning: size_average and reduce args will be deprecated, please use reduction='none' instead.\n",
            "  warnings.warn(warning.format(ret))\n"
          ],
          "name": "stderr"
        }
      ]
    },
    {
      "cell_type": "code",
      "metadata": {
        "colab": {
          "base_uri": "https://localhost:8080/"
        },
        "id": "hT_aa3rLw9W1",
        "outputId": "d5b9261c-8a1f-4bea-9b95-dde6d774e2ea"
      },
      "source": [
        "# Training the model\n",
        "totalsteps = len(train_loader)\n",
        "losslist = []\n",
        "accuracylist = []\n",
        "num_epochs = 10\n",
        "for epoch in range(num_epochs):\n",
        "  for i, (images, labels) in enumerate(train_loader):\n",
        "    images, labels = images.to(device), labels.to(device)\n",
        "    # FORWARD PROP, model(images) automatically calls forward\n",
        "    outputs = model(images)\n",
        "    # print(outputs.shape, torch.nn.functional.one_hot(labels).to(torch.float32).shape)\n",
        "    loss = criterion(outputs, torch.nn.functional.one_hot(labels, num_classes=3).to(torch.float32))\n",
        "    loss = (loss * weight).mean()\n",
        "    losslist.append(loss.item())\n",
        "    # loss = loss.to(torch.float64)\n",
        "\n",
        "    # BACK PROP\n",
        "    # make the gradients zero\n",
        "    optimizer.zero_grad() \n",
        "    # perform the backward propagation and get the gradients\n",
        "    loss.backward()\n",
        "    # adam optimizer training step . We use the gradients in this step\n",
        "    optimizer.step()\n",
        "\n",
        "    # Accuracy\n",
        "    # Note we take batch_size amounts of y's at a time\n",
        "    total = labels.size(0)\n",
        "    predicted = torch.max(outputs.data,1)[1]\n",
        "    correct = (predicted == labels).sum().item()\n",
        "    accuracy = correct / total\n",
        "    accuracylist.append(accuracy)\n",
        "\n",
        "    # item() is used for getting the scalar from a tensor\n",
        "    if((i + 1) % 50 == 0):\n",
        "    # if(True):\n",
        "      print('Epoch [{}/{}], Step [{}/{}], Loss: {:.4f}, Accuracy: {:.2f}%'.format(epoch + 1, num_epochs, i+1, totalsteps, loss.item(),(accuracy)*100 ))\n"
      ],
      "execution_count": 37,
      "outputs": [
        {
          "output_type": "stream",
          "text": [
            "Epoch [1/10], Step [50/133], Loss: 0.2401, Accuracy: 98.44%\n",
            "Epoch [1/10], Step [100/133], Loss: 0.1134, Accuracy: 100.00%\n",
            "Epoch [2/10], Step [50/133], Loss: 0.2994, Accuracy: 95.31%\n",
            "Epoch [2/10], Step [100/133], Loss: 0.1291, Accuracy: 100.00%\n",
            "Epoch [3/10], Step [50/133], Loss: 0.1022, Accuracy: 100.00%\n",
            "Epoch [3/10], Step [100/133], Loss: 0.1887, Accuracy: 96.88%\n",
            "Epoch [4/10], Step [50/133], Loss: 0.1293, Accuracy: 100.00%\n",
            "Epoch [4/10], Step [100/133], Loss: 0.0739, Accuracy: 98.44%\n",
            "Epoch [5/10], Step [50/133], Loss: 0.2268, Accuracy: 95.31%\n",
            "Epoch [5/10], Step [100/133], Loss: 0.1562, Accuracy: 95.31%\n",
            "Epoch [6/10], Step [50/133], Loss: 0.1519, Accuracy: 98.44%\n",
            "Epoch [6/10], Step [100/133], Loss: 0.1502, Accuracy: 96.88%\n",
            "Epoch [7/10], Step [50/133], Loss: 0.1075, Accuracy: 100.00%\n",
            "Epoch [7/10], Step [100/133], Loss: 0.1691, Accuracy: 98.44%\n",
            "Epoch [8/10], Step [50/133], Loss: 0.1331, Accuracy: 98.44%\n",
            "Epoch [8/10], Step [100/133], Loss: 0.1161, Accuracy: 98.44%\n",
            "Epoch [9/10], Step [50/133], Loss: 0.1048, Accuracy: 96.88%\n",
            "Epoch [9/10], Step [100/133], Loss: 0.1895, Accuracy: 96.88%\n",
            "Epoch [10/10], Step [50/133], Loss: 0.1098, Accuracy: 100.00%\n",
            "Epoch [10/10], Step [100/133], Loss: 0.0506, Accuracy: 100.00%\n"
          ],
          "name": "stdout"
        }
      ]
    },
    {
      "cell_type": "code",
      "metadata": {
        "colab": {
          "base_uri": "https://localhost:8080/",
          "height": 440
        },
        "id": "OzJvAUnCw9W1",
        "outputId": "b7dfd822-1062-470c-acfe-99f3dc4287e9"
      },
      "source": [
        "model.eval()\n",
        "with torch.no_grad():\n",
        "  correct = 0\n",
        "  total = 0\n",
        "  # The following loop runs only for 1 time as the batch size for test loader is the size of number of test images only\n",
        "  for images, labels in test_loader:\n",
        "    images, labels = images.to(device), labels.to(device)\n",
        "    outputs = model(images)\n",
        "    predicted = torch.max(outputs.data,1)[1]\n",
        "\n",
        "    confmat, df, macrof1, acc, plt = performance_metrics_multiclass(predicted.to('cpu').numpy(), labels.to('cpu').numpy(), num_classes)\n",
        "    print(confmat)\n",
        "    print(df)\n",
        "    print('macroF1 = {}, accuracy = {}'.format(macrof1, acc))\n",
        "    total += labels.size(0)\n",
        "    correct += (predicted == labels).sum().item()\n",
        "\n",
        "  print('Test Accuracy for {} test images = {} %'.format(len(test_loader.dataset) ,(correct/total)*100))\n",
        "\n",
        "  # torch.save(model.state_dict(), './MODEL_STORE/MNIST_conve_nets.ckpt')\n",
        "\n",
        "\n",
        "  ##Performance metrics\n"
      ],
      "execution_count": 38,
      "outputs": [
        {
          "output_type": "stream",
          "text": [
            "[[0.99796 0.00204 0.     ]\n",
            " [0.00816 0.98774 0.00409]\n",
            " [0.12653 0.15628 0.71706]]\n",
            "  class  Precision   Recall       F1\n",
            "0     0    0.88108  0.99796  0.93588\n",
            "1     1    0.86185  0.98774  0.92051\n",
            "2     2    0.99433  0.71706  0.83323\n",
            "macroF1 = 0.89654, accuracy = 0.90095\n",
            "Test Accuracy for 2938 test images = 90.09530292716134 %\n"
          ],
          "name": "stdout"
        },
        {
          "output_type": "display_data",
          "data": {
            "image/png": "[encoded data removed]",
            "text/plain": [
              "<Figure size 432x288 with 2 Axes>"
            ]
          },
          "metadata": {
            "tags": [],
            "needs_background": "light"
          }
        }
      ]
    },
    {
      "cell_type": "code",
      "metadata": {
        "id": "kDLnzUUiw8yF"
      },
      "source": [
        ""
      ],
      "execution_count": 38,
      "outputs": []
    },
    {
      "cell_type": "markdown",
      "metadata": {
        "id": "NBPEarjK4XDd"
      },
      "source": [
        "GRAPH PLOTS\n"
      ]
    },
    {
      "cell_type": "code",
      "metadata": {
        "colab": {
          "base_uri": "https://localhost:8080/",
          "height": 288
        },
        "id": "vKT8KwAM4XDd",
        "outputId": "56b75340-b2e2-404d-ecbc-5f3dfe69ad60"
      },
      "source": [
        "import matplotlib.pyplot as plt\n",
        "plt.plot(losslist, color = 'green', linewidth = 0.7 )\n",
        "plt.xlabel('steps', fontsize=20)\n",
        "plt.ylabel('Loss', fontsize=20)\n",
        "# plt.plot(accuracylist, color = 'red', linewidth = 0.7)\n",
        "# plt.xlim(0,700)\n",
        "# plt.ylim(0,1.05)\n",
        "plt.show()\n"
      ],
      "execution_count": 39,
      "outputs": [
        {
          "output_type": "display_data",
          "data": {
            "image/png": "[encoded data removed]",
            "text/plain": [
              "<Figure size 432x288 with 1 Axes>"
            ]
          },
          "metadata": {
            "tags": [],
            "needs_background": "light"
          }
        }
      ]
    },
    {
      "cell_type": "code",
      "metadata": {
        "id": "EA5vsbF7w81w"
      },
      "source": [
        ""
      ],
      "execution_count": 39,
      "outputs": []
    },
    {
      "cell_type": "code",
      "metadata": {
        "id": "lkCQ-Ys86lYm"
      },
      "source": [
        ""
      ],
      "execution_count": 39,
      "outputs": []
    },
    {
      "cell_type": "code",
      "metadata": {
        "id": "Qla4cCS96la8"
      },
      "source": [
        ""
      ],
      "execution_count": 39,
      "outputs": []
    },
    {
      "cell_type": "code",
      "metadata": {
        "id": "LQkXdAjG6lc6"
      },
      "source": [
        ""
      ],
      "execution_count": 39,
      "outputs": []
    },
    {
      "cell_type": "markdown",
      "metadata": {
        "id": "-NgyH3Jn6l7k"
      },
      "source": [
        "# Feedforward Net with MSE Loss . Focal Loss is used\r\n",
        "$$E_n = (1-\\beta^n)/(1-\\beta)$$\r\n",
        "and then \r\n",
        "$$W_n = 1/E_n$$\r\n",
        "\r\n",
        "$$\\beta$$ is geerally 0.9, 0.99"
      ]
    },
    {
      "cell_type": "code",
      "metadata": {
        "colab": {
          "base_uri": "https://localhost:8080/"
        },
        "id": "mh32Rtfm6l7k",
        "outputId": "9958d3d9-b4c5-44af-f618-0e9f3a3aa795"
      },
      "source": [
        "#  initializing the model\n",
        "# model = ConvNet()\n",
        "model = simplenet()\n",
        "model = model.to(device)\n",
        "beta = 0.9999\n",
        "criterion = nn.MSELoss(reduce=False)\n",
        "weight = torch.tensor([1, 1, 1]).to(device).to(torch.float32)\n",
        "weight[0], weight[1], weight[2] = (1-beta)/(1-beta**(5923)), (1-beta)/(1-beta**(2114)), (1-beta)/(1-beta**(422))\n",
        "\n",
        "optimizer = torch.optim.Adam(model.parameters(), lr = learning_rate)"
      ],
      "execution_count": 52,
      "outputs": [
        {
          "output_type": "stream",
          "text": [
            "/usr/local/lib/python3.6/dist-packages/torch/nn/_reduction.py:44: UserWarning: size_average and reduce args will be deprecated, please use reduction='none' instead.\n",
            "  warnings.warn(warning.format(ret))\n"
          ],
          "name": "stderr"
        }
      ]
    },
    {
      "cell_type": "code",
      "metadata": {
        "colab": {
          "base_uri": "https://localhost:8080/"
        },
        "id": "60r2728V6l7l",
        "outputId": "e002c61b-7b5f-4e1d-b916-82fc60a36abd"
      },
      "source": [
        "# Training the model\n",
        "totalsteps = len(train_loader)\n",
        "losslist = []\n",
        "accuracylist = []\n",
        "num_epochs = 10\n",
        "for epoch in range(num_epochs):\n",
        "  for i, (images, labels) in enumerate(train_loader):\n",
        "    images, labels = images.to(device), labels.to(device)\n",
        "    # FORWARD PROP, model(images) automatically calls forward\n",
        "    outputs = model(images)\n",
        "    # print(outputs.shape, torch.nn.functional.one_hot(labels).to(torch.float32).shape)\n",
        "    loss = criterion(outputs, torch.nn.functional.one_hot(labels, num_classes=3).to(torch.float32))\n",
        "    loss = (loss * weight).mean()\n",
        "    losslist.append(loss.item())\n",
        "    # loss = loss.to(torch.float64)\n",
        "\n",
        "    # BACK PROP\n",
        "    # make the gradients zero\n",
        "    optimizer.zero_grad() \n",
        "    # perform the backward propagation and get the gradients\n",
        "    loss.backward()\n",
        "    # adam optimizer training step . We use the gradients in this step\n",
        "    optimizer.step()\n",
        "\n",
        "    # Accuracy\n",
        "    # Note we take batch_size amounts of y's at a time\n",
        "    total = labels.size(0)\n",
        "    predicted = torch.max(outputs.data,1)[1]\n",
        "    correct = (predicted == labels).sum().item()\n",
        "    accuracy = correct / total\n",
        "    accuracylist.append(accuracy)\n",
        "\n",
        "    # item() is used for getting the scalar from a tensor\n",
        "    if((i + 1) % 50 == 0):\n",
        "    # if(True):\n",
        "      print('Epoch [{}/{}], Step [{}/{}], Loss: {:.4f}, Accuracy: {:.2f}%'.format(epoch + 1, num_epochs, i+1, totalsteps, loss.item(),(accuracy)*100 ))\n"
      ],
      "execution_count": 53,
      "outputs": [
        {
          "output_type": "stream",
          "text": [
            "Epoch [1/10], Step [50/133], Loss: 0.0000, Accuracy: 98.44%\n",
            "Epoch [1/10], Step [100/133], Loss: 0.0000, Accuracy: 100.00%\n",
            "Epoch [2/10], Step [50/133], Loss: 0.0000, Accuracy: 98.44%\n",
            "Epoch [2/10], Step [100/133], Loss: 0.0000, Accuracy: 100.00%\n",
            "Epoch [3/10], Step [50/133], Loss: 0.0000, Accuracy: 100.00%\n",
            "Epoch [3/10], Step [100/133], Loss: 0.0000, Accuracy: 98.44%\n",
            "Epoch [4/10], Step [50/133], Loss: 0.0000, Accuracy: 98.44%\n",
            "Epoch [4/10], Step [100/133], Loss: 0.0000, Accuracy: 95.31%\n",
            "Epoch [5/10], Step [50/133], Loss: 0.0000, Accuracy: 100.00%\n",
            "Epoch [5/10], Step [100/133], Loss: 0.0000, Accuracy: 95.31%\n",
            "Epoch [6/10], Step [50/133], Loss: 0.0000, Accuracy: 98.44%\n",
            "Epoch [6/10], Step [100/133], Loss: 0.0000, Accuracy: 98.44%\n",
            "Epoch [7/10], Step [50/133], Loss: 0.0000, Accuracy: 96.88%\n",
            "Epoch [7/10], Step [100/133], Loss: 0.0000, Accuracy: 96.88%\n",
            "Epoch [8/10], Step [50/133], Loss: 0.0000, Accuracy: 100.00%\n",
            "Epoch [8/10], Step [100/133], Loss: 0.0000, Accuracy: 96.88%\n",
            "Epoch [9/10], Step [50/133], Loss: 0.0000, Accuracy: 100.00%\n",
            "Epoch [9/10], Step [100/133], Loss: 0.0000, Accuracy: 98.44%\n",
            "Epoch [10/10], Step [50/133], Loss: 0.0000, Accuracy: 98.44%\n",
            "Epoch [10/10], Step [100/133], Loss: 0.0000, Accuracy: 100.00%\n"
          ],
          "name": "stdout"
        }
      ]
    },
    {
      "cell_type": "code",
      "metadata": {
        "colab": {
          "base_uri": "https://localhost:8080/",
          "height": 440
        },
        "id": "AtfzKUZd6l7m",
        "outputId": "710ac079-4229-4f4a-a69e-46078d00d9a5"
      },
      "source": [
        "model.eval()\n",
        "with torch.no_grad():\n",
        "  correct = 0\n",
        "  total = 0\n",
        "  # The following loop runs only for 1 time as the batch size for test loader is the size of number of test images only\n",
        "  for images, labels in test_loader:\n",
        "    images, labels = images.to(device), labels.to(device)\n",
        "    outputs = model(images)\n",
        "    predicted = torch.max(outputs.data,1)[1]\n",
        "\n",
        "    confmat, df, macrof1, acc, plt = performance_metrics_multiclass(predicted.to('cpu').numpy(), labels.to('cpu').numpy(), num_classes)\n",
        "    print(confmat)\n",
        "    print(df)\n",
        "    print('macroF1 = {}, accuracy = {}'.format(macrof1, acc))\n",
        "    total += labels.size(0)\n",
        "    correct += (predicted == labels).sum().item()\n",
        "\n",
        "  print('Test Accuracy for {} test images = {} %'.format(len(test_loader.dataset) ,(correct/total)*100))\n",
        "\n",
        "  # torch.save(model.state_dict(), './MODEL_STORE/MNIST_conve_nets.ckpt')\n",
        "\n",
        "\n",
        "  ##Performance metrics\n"
      ],
      "execution_count": 54,
      "outputs": [
        {
          "output_type": "stream",
          "text": [
            "[[0.99796 0.00204 0.     ]\n",
            " [0.00816 0.98672 0.00511]\n",
            " [0.13776 0.15935 0.70276]]\n",
            "  class  Precision   Recall       F1\n",
            "0     0    0.87244  0.99796  0.93099\n",
            "1     1    0.85943  0.98672  0.91869\n",
            "2     2    0.99278  0.70276  0.82297\n",
            "macroF1 = 0.89088, accuracy = 0.89585\n",
            "Test Accuracy for 2938 test images = 89.58475153165418 %\n"
          ],
          "name": "stdout"
        },
        {
          "output_type": "display_data",
          "data": {
            "image/png": "[encoded data removed]",
            "text/plain": [
              "<Figure size 432x288 with 2 Axes>"
            ]
          },
          "metadata": {
            "tags": [],
            "needs_background": "light"
          }
        }
      ]
    },
    {
      "cell_type": "code",
      "metadata": {
        "id": "6c-cXgM96l7m"
      },
      "source": [
        ""
      ],
      "execution_count": 54,
      "outputs": []
    },
    {
      "cell_type": "markdown",
      "metadata": {
        "id": "gpAvezcP6l7m"
      },
      "source": [
        "GRAPH PLOTS\n"
      ]
    },
    {
      "cell_type": "code",
      "metadata": {
        "colab": {
          "base_uri": "https://localhost:8080/",
          "height": 288
        },
        "id": "cKS4jqmH6l7n",
        "outputId": "18ea88c7-9e5b-4cf3-898d-f230ee21a693"
      },
      "source": [
        "import matplotlib.pyplot as plt\n",
        "plt.plot(losslist, color = 'green', linewidth = 0.7 )\n",
        "plt.xlabel('steps', fontsize=20)\n",
        "plt.ylabel('Loss', fontsize=20)\n",
        "# plt.plot(accuracylist, color = 'red', linewidth = 0.7)\n",
        "# plt.xlim(0,700)\n",
        "# plt.ylim(0,1.05)\n",
        "plt.show()\n"
      ],
      "execution_count": 55,
      "outputs": [
        {
          "output_type": "display_data",
          "data": {
            "image/png": "[encoded data removed]",
            "text/plain": [
              "<Figure size 432x288 with 1 Axes>"
            ]
          },
          "metadata": {
            "tags": [],
            "needs_background": "light"
          }
        }
      ]
    },
    {
      "cell_type": "code",
      "metadata": {
        "id": "zVqUI7mB6l7n"
      },
      "source": [
        ""
      ],
      "execution_count": 55,
      "outputs": []
    }
  ]
}